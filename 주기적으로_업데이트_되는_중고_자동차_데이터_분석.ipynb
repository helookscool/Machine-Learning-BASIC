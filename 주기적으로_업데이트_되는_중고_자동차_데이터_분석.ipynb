{
  "nbformat": 4,
  "nbformat_minor": 0,
  "metadata": {
    "kernelspec": {
      "display_name": "Python 3",
      "language": "python",
      "name": "python3"
    },
    "language_info": {
      "codemirror_mode": {
        "name": "ipython",
        "version": 3
      },
      "file_extension": ".py",
      "mimetype": "text/x-python",
      "name": "python",
      "nbconvert_exporter": "python",
      "pygments_lexer": "ipython3",
      "version": "3.7.7"
    },
    "colab": {
      "name": "주기적으로 업데이트 되는 중고 자동차 데이터 분석.ipynb",
      "provenance": [],
      "collapsed_sections": [],
      "include_colab_link": true
    }
  },
  "cells": [
    {
      "cell_type": "markdown",
      "metadata": {
        "id": "view-in-github",
        "colab_type": "text"
      },
      "source": [
        "<a href=\"https://colab.research.google.com/github/helookscool/Machine_Learning_Machine_129/blob/main/%EC%A3%BC%EA%B8%B0%EC%A0%81%EC%9C%BC%EB%A1%9C_%EC%97%85%EB%8D%B0%EC%9D%B4%ED%8A%B8_%EB%90%98%EB%8A%94_%EC%A4%91%EA%B3%A0_%EC%9E%90%EB%8F%99%EC%B0%A8_%EB%8D%B0%EC%9D%B4%ED%84%B0_%EB%B6%84%EC%84%9D.ipynb\" target=\"_parent\"><img src=\"https://colab.research.google.com/assets/colab-badge.svg\" alt=\"Open In Colab\"/></a>"
      ]
    },
    {
      "cell_type": "markdown",
      "metadata": {
        "id": "NqqLNJZjfi8U"
      },
      "source": [
        "# 주제 : 주기적으로 업데이트 되는 중고 자동차 데이터 분석\n",
        "\n",
        "## 데이터 소개\n",
        "    - 이번 주제는 Used Cars Dataset을 사용합니다.\n",
        "    - 파일은 한 개이며, 각각의 컬럼은 아래와 같습니다.\n",
        "    \n",
        "    - vehicles.csv\n",
        "    id : 중고차 거래의 아이디\n",
        "    url : 중고차 거래 페이지\n",
        "    region : 해당 거래의 관리 지점\n",
        "    region_url : 거래 관리 지점의 홈페이지\n",
        "    price : 기입된 자동차의 거래가\n",
        "    year : 거래가 기입된 년도\n",
        "    manufacturer : 자동차를 생산한 회사\n",
        "    model : 자동차 모델명\n",
        "    condition : 자동차의 상태\n",
        "    cylinders : 자동차의 기통 수\n",
        "    fuel : 자동차의 연료 타입\n",
        "    odometer : 자동차의 운행 마일 수\n",
        "    title_status : 자동차의 타이틀 상태 (소유주 등록 상태)\n",
        "    transmission : 자동차의 트랜스미션 종류\n",
        "    vin : 자동차의 식별 번호 (vehicle identification number)\n",
        "    drive : 자동차의 구동 타입\n",
        "    size : 자동차 크기\n",
        "    type : 자동차의 일반 타입 (세단, ...)\n",
        "    paint_color : 자동차 색상\n",
        "    image_url : 자동차 이미지\n",
        "    description : 세부 설명\n",
        "    county : 실수로 생성된 미사용 컬럼\n",
        "    state : 거래가 업로드된 미 주\n",
        "    lat : 거래가 업로드된 곳의 위도\n",
        "    long : 거래가 업로드된 곳의 경도\n",
        "    \n",
        "    \n",
        "- 데이터 출처: https://www.kaggle.com/austinreese/craigslist-carstrucks-data\n"
      ]
    },
    {
      "cell_type": "markdown",
      "metadata": {
        "id": "ODJVmYvIP3x-"
      },
      "source": [
        "## Step 0. 데이터 스크래핑이 대하여"
      ]
    },
    {
      "cell_type": "markdown",
      "metadata": {
        "id": "c0iKTnLNsraM"
      },
      "source": [
        "### 스크래핑을 이용한 자동 데이터 습득"
      ]
    },
    {
      "cell_type": "markdown",
      "metadata": {
        "id": "cxZwPnfms0-9"
      },
      "source": [
        "### 스크래핑된 데이터에서 아웃라이어의 특징\n"
      ]
    },
    {
      "cell_type": "markdown",
      "metadata": {
        "id": "IRssoNrgP7So"
      },
      "source": [
        "## Step 1. 데이터셋 준비하기"
      ]
    },
    {
      "cell_type": "code",
      "metadata": {
        "id": "g49RuFGrBvt7"
      },
      "source": [
        "import pandas as pd\n",
        "import numpy as np\n",
        "import matplotlib.pyplot as plt\n",
        "import seaborn as sns"
      ],
      "execution_count": 1,
      "outputs": []
    },
    {
      "cell_type": "markdown",
      "metadata": {
        "id": "paInbv8Ys-Qy"
      },
      "source": [
        "### 1. Colab Notebook에 Kaggle API 세팅하기\n"
      ]
    },
    {
      "cell_type": "code",
      "metadata": {
        "id": "RRXGYV60B7FX"
      },
      "source": [
        "import os"
      ],
      "execution_count": 2,
      "outputs": []
    },
    {
      "cell_type": "code",
      "metadata": {
        "id": "mMKFOC0OBtHO"
      },
      "source": [
        "# os.environ을 이용하여 Kaggle API Username, Key 세팅하기\n",
        "os.environ['KAGGLE_USERNAME'] = 'ㅌㅌㅌ'\n",
        "os.environ['KAGGLE_KEY'] = 'ㅌㅌㅌㅌㅌ'"
      ],
      "execution_count": 3,
      "outputs": []
    },
    {
      "cell_type": "markdown",
      "metadata": {
        "id": "zvbeoB_WtBi-"
      },
      "source": [
        "### 2. 데이터 다운로드 및 압축 해제하기\n"
      ]
    },
    {
      "cell_type": "code",
      "metadata": {
        "id": "JSblp2NsCGbh",
        "colab": {
          "base_uri": "https://localhost:8080/"
        },
        "outputId": "8c4512ac-195e-4aa6-c32d-1bc6e57a3d33"
      },
      "source": [
        "# Linux 명령어로 Kaggle API를 이용하여 데이터셋 다운로드하기 (!kaggle ~)\n",
        "# Linux 명령어로 압축 해제하기\n",
        "!rm *.* #이게 자동으로 업데이트되는 데이터기 때문에, 리눅스 명령어로 !rm *.* 해주면 나중에 파일을 다시 가동할때 자동으로 기존파일을 삭제하고 \n",
        "#다시 다운 받아줌.\n",
        "!kaggle datasets download -d austinreese/craigslist-carstrucks-data\n",
        "!unzip '*.zip'"
      ],
      "execution_count": 4,
      "outputs": [
        {
          "output_type": "stream",
          "text": [
            "Downloading craigslist-carstrucks-data.zip to /content\n",
            " 98% 257M/262M [00:05<00:00, 70.7MB/s]\n",
            "100% 262M/262M [00:05<00:00, 52.3MB/s]\n",
            "Archive:  craigslist-carstrucks-data.zip\n",
            "  inflating: vehicles.csv            \n"
          ],
          "name": "stdout"
        }
      ]
    },
    {
      "cell_type": "markdown",
      "metadata": {
        "id": "aJ34SovLtFI8"
      },
      "source": [
        "### 3. Pandas 라이브러리로 csv파일 읽어들이기\n"
      ]
    },
    {
      "cell_type": "code",
      "metadata": {
        "id": "RnJv-4YwCMSx"
      },
      "source": [
        "df = pd.read_csv('vehicles.csv') #이게 용량이 꽤 많아서;; 위의 RAM을 존나 잡아먹음. 여러번 run하지마삼; "
      ],
      "execution_count": 5,
      "outputs": []
    },
    {
      "cell_type": "markdown",
      "metadata": {
        "id": "9L3BNVM7tHN5"
      },
      "source": [
        "## Step 2. EDA 및 데이터 기초 통계 분석\n"
      ]
    },
    {
      "cell_type": "markdown",
      "metadata": {
        "id": "HyFm33tNtVn7"
      },
      "source": [
        "### 4. 불필요한 데이터 데이터프레임에서 제거하기\n"
      ]
    },
    {
      "cell_type": "code",
      "metadata": {
        "id": "YcR9BX23DIFW",
        "colab": {
          "base_uri": "https://localhost:8080/",
          "height": 260
        },
        "outputId": "f799e8cd-7369-40e5-9969-69cdefa167b9"
      },
      "source": [
        "# DataFrame에서 제공하는 메소드를 이용하여 각 데이터프레임의 구조 분석하기 (head(), info(), describe())\n",
        "# 데이터프레임에서 불필요한 컬럼 제거하기\n",
        "df.head()"
      ],
      "execution_count": 6,
      "outputs": [
        {
          "output_type": "execute_result",
          "data": {
            "text/html": [
              "<div>\n",
              "<style scoped>\n",
              "    .dataframe tbody tr th:only-of-type {\n",
              "        vertical-align: middle;\n",
              "    }\n",
              "\n",
              "    .dataframe tbody tr th {\n",
              "        vertical-align: top;\n",
              "    }\n",
              "\n",
              "    .dataframe thead th {\n",
              "        text-align: right;\n",
              "    }\n",
              "</style>\n",
              "<table border=\"1\" class=\"dataframe\">\n",
              "  <thead>\n",
              "    <tr style=\"text-align: right;\">\n",
              "      <th></th>\n",
              "      <th>id</th>\n",
              "      <th>url</th>\n",
              "      <th>region</th>\n",
              "      <th>region_url</th>\n",
              "      <th>price</th>\n",
              "      <th>year</th>\n",
              "      <th>manufacturer</th>\n",
              "      <th>model</th>\n",
              "      <th>condition</th>\n",
              "      <th>cylinders</th>\n",
              "      <th>fuel</th>\n",
              "      <th>odometer</th>\n",
              "      <th>title_status</th>\n",
              "      <th>transmission</th>\n",
              "      <th>VIN</th>\n",
              "      <th>drive</th>\n",
              "      <th>size</th>\n",
              "      <th>type</th>\n",
              "      <th>paint_color</th>\n",
              "      <th>image_url</th>\n",
              "      <th>description</th>\n",
              "      <th>county</th>\n",
              "      <th>state</th>\n",
              "      <th>lat</th>\n",
              "      <th>long</th>\n",
              "      <th>posting_date</th>\n",
              "    </tr>\n",
              "  </thead>\n",
              "  <tbody>\n",
              "    <tr>\n",
              "      <th>0</th>\n",
              "      <td>7222695916</td>\n",
              "      <td>https://prescott.craigslist.org/cto/d/prescott...</td>\n",
              "      <td>prescott</td>\n",
              "      <td>https://prescott.craigslist.org</td>\n",
              "      <td>6000</td>\n",
              "      <td>NaN</td>\n",
              "      <td>NaN</td>\n",
              "      <td>NaN</td>\n",
              "      <td>NaN</td>\n",
              "      <td>NaN</td>\n",
              "      <td>NaN</td>\n",
              "      <td>NaN</td>\n",
              "      <td>NaN</td>\n",
              "      <td>NaN</td>\n",
              "      <td>NaN</td>\n",
              "      <td>NaN</td>\n",
              "      <td>NaN</td>\n",
              "      <td>NaN</td>\n",
              "      <td>NaN</td>\n",
              "      <td>NaN</td>\n",
              "      <td>NaN</td>\n",
              "      <td>NaN</td>\n",
              "      <td>az</td>\n",
              "      <td>NaN</td>\n",
              "      <td>NaN</td>\n",
              "      <td>NaN</td>\n",
              "    </tr>\n",
              "    <tr>\n",
              "      <th>1</th>\n",
              "      <td>7218891961</td>\n",
              "      <td>https://fayar.craigslist.org/ctd/d/bentonville...</td>\n",
              "      <td>fayetteville</td>\n",
              "      <td>https://fayar.craigslist.org</td>\n",
              "      <td>11900</td>\n",
              "      <td>NaN</td>\n",
              "      <td>NaN</td>\n",
              "      <td>NaN</td>\n",
              "      <td>NaN</td>\n",
              "      <td>NaN</td>\n",
              "      <td>NaN</td>\n",
              "      <td>NaN</td>\n",
              "      <td>NaN</td>\n",
              "      <td>NaN</td>\n",
              "      <td>NaN</td>\n",
              "      <td>NaN</td>\n",
              "      <td>NaN</td>\n",
              "      <td>NaN</td>\n",
              "      <td>NaN</td>\n",
              "      <td>NaN</td>\n",
              "      <td>NaN</td>\n",
              "      <td>NaN</td>\n",
              "      <td>ar</td>\n",
              "      <td>NaN</td>\n",
              "      <td>NaN</td>\n",
              "      <td>NaN</td>\n",
              "    </tr>\n",
              "    <tr>\n",
              "      <th>2</th>\n",
              "      <td>7221797935</td>\n",
              "      <td>https://keys.craigslist.org/cto/d/summerland-k...</td>\n",
              "      <td>florida keys</td>\n",
              "      <td>https://keys.craigslist.org</td>\n",
              "      <td>21000</td>\n",
              "      <td>NaN</td>\n",
              "      <td>NaN</td>\n",
              "      <td>NaN</td>\n",
              "      <td>NaN</td>\n",
              "      <td>NaN</td>\n",
              "      <td>NaN</td>\n",
              "      <td>NaN</td>\n",
              "      <td>NaN</td>\n",
              "      <td>NaN</td>\n",
              "      <td>NaN</td>\n",
              "      <td>NaN</td>\n",
              "      <td>NaN</td>\n",
              "      <td>NaN</td>\n",
              "      <td>NaN</td>\n",
              "      <td>NaN</td>\n",
              "      <td>NaN</td>\n",
              "      <td>NaN</td>\n",
              "      <td>fl</td>\n",
              "      <td>NaN</td>\n",
              "      <td>NaN</td>\n",
              "      <td>NaN</td>\n",
              "    </tr>\n",
              "    <tr>\n",
              "      <th>3</th>\n",
              "      <td>7222270760</td>\n",
              "      <td>https://worcester.craigslist.org/cto/d/west-br...</td>\n",
              "      <td>worcester / central MA</td>\n",
              "      <td>https://worcester.craigslist.org</td>\n",
              "      <td>1500</td>\n",
              "      <td>NaN</td>\n",
              "      <td>NaN</td>\n",
              "      <td>NaN</td>\n",
              "      <td>NaN</td>\n",
              "      <td>NaN</td>\n",
              "      <td>NaN</td>\n",
              "      <td>NaN</td>\n",
              "      <td>NaN</td>\n",
              "      <td>NaN</td>\n",
              "      <td>NaN</td>\n",
              "      <td>NaN</td>\n",
              "      <td>NaN</td>\n",
              "      <td>NaN</td>\n",
              "      <td>NaN</td>\n",
              "      <td>NaN</td>\n",
              "      <td>NaN</td>\n",
              "      <td>NaN</td>\n",
              "      <td>ma</td>\n",
              "      <td>NaN</td>\n",
              "      <td>NaN</td>\n",
              "      <td>NaN</td>\n",
              "    </tr>\n",
              "    <tr>\n",
              "      <th>4</th>\n",
              "      <td>7210384030</td>\n",
              "      <td>https://greensboro.craigslist.org/cto/d/trinit...</td>\n",
              "      <td>greensboro</td>\n",
              "      <td>https://greensboro.craigslist.org</td>\n",
              "      <td>4900</td>\n",
              "      <td>NaN</td>\n",
              "      <td>NaN</td>\n",
              "      <td>NaN</td>\n",
              "      <td>NaN</td>\n",
              "      <td>NaN</td>\n",
              "      <td>NaN</td>\n",
              "      <td>NaN</td>\n",
              "      <td>NaN</td>\n",
              "      <td>NaN</td>\n",
              "      <td>NaN</td>\n",
              "      <td>NaN</td>\n",
              "      <td>NaN</td>\n",
              "      <td>NaN</td>\n",
              "      <td>NaN</td>\n",
              "      <td>NaN</td>\n",
              "      <td>NaN</td>\n",
              "      <td>NaN</td>\n",
              "      <td>nc</td>\n",
              "      <td>NaN</td>\n",
              "      <td>NaN</td>\n",
              "      <td>NaN</td>\n",
              "    </tr>\n",
              "  </tbody>\n",
              "</table>\n",
              "</div>"
            ],
            "text/plain": [
              "           id  ... posting_date\n",
              "0  7222695916  ...          NaN\n",
              "1  7218891961  ...          NaN\n",
              "2  7221797935  ...          NaN\n",
              "3  7222270760  ...          NaN\n",
              "4  7210384030  ...          NaN\n",
              "\n",
              "[5 rows x 26 columns]"
            ]
          },
          "metadata": {
            "tags": []
          },
          "execution_count": 6
        }
      ]
    },
    {
      "cell_type": "code",
      "metadata": {
        "colab": {
          "base_uri": "https://localhost:8080/"
        },
        "id": "98qiz_1Xivro",
        "outputId": "c779282c-1679-4fab-8c7e-87ea01481ec0"
      },
      "source": [
        "df.info()"
      ],
      "execution_count": 7,
      "outputs": [
        {
          "output_type": "stream",
          "text": [
            "<class 'pandas.core.frame.DataFrame'>\n",
            "RangeIndex: 426880 entries, 0 to 426879\n",
            "Data columns (total 26 columns):\n",
            " #   Column        Non-Null Count   Dtype  \n",
            "---  ------        --------------   -----  \n",
            " 0   id            426880 non-null  int64  \n",
            " 1   url           426880 non-null  object \n",
            " 2   region        426880 non-null  object \n",
            " 3   region_url    426880 non-null  object \n",
            " 4   price         426880 non-null  int64  \n",
            " 5   year          425675 non-null  float64\n",
            " 6   manufacturer  409234 non-null  object \n",
            " 7   model         421603 non-null  object \n",
            " 8   condition     252776 non-null  object \n",
            " 9   cylinders     249202 non-null  object \n",
            " 10  fuel          423867 non-null  object \n",
            " 11  odometer      422480 non-null  float64\n",
            " 12  title_status  418638 non-null  object \n",
            " 13  transmission  424324 non-null  object \n",
            " 14  VIN           265838 non-null  object \n",
            " 15  drive         296313 non-null  object \n",
            " 16  size          120519 non-null  object \n",
            " 17  type          334022 non-null  object \n",
            " 18  paint_color   296677 non-null  object \n",
            " 19  image_url     426812 non-null  object \n",
            " 20  description   426810 non-null  object \n",
            " 21  county        0 non-null       float64\n",
            " 22  state         426880 non-null  object \n",
            " 23  lat           420331 non-null  float64\n",
            " 24  long          420331 non-null  float64\n",
            " 25  posting_date  426812 non-null  object \n",
            "dtypes: float64(5), int64(2), object(19)\n",
            "memory usage: 84.7+ MB\n"
          ],
          "name": "stdout"
        }
      ]
    },
    {
      "cell_type": "code",
      "metadata": {
        "colab": {
          "base_uri": "https://localhost:8080/"
        },
        "id": "AfnL1aymix1b",
        "outputId": "e7a551ec-6c70-42c1-cab6-2ffdf1da6af2"
      },
      "source": [
        "df.isna().sum()"
      ],
      "execution_count": 8,
      "outputs": [
        {
          "output_type": "execute_result",
          "data": {
            "text/plain": [
              "id                   0\n",
              "url                  0\n",
              "region               0\n",
              "region_url           0\n",
              "price                0\n",
              "year              1205\n",
              "manufacturer     17646\n",
              "model             5277\n",
              "condition       174104\n",
              "cylinders       177678\n",
              "fuel              3013\n",
              "odometer          4400\n",
              "title_status      8242\n",
              "transmission      2556\n",
              "VIN             161042\n",
              "drive           130567\n",
              "size            306361\n",
              "type             92858\n",
              "paint_color     130203\n",
              "image_url           68\n",
              "description         70\n",
              "county          426880\n",
              "state                0\n",
              "lat               6549\n",
              "long              6549\n",
              "posting_date        68\n",
              "dtype: int64"
            ]
          },
          "metadata": {
            "tags": []
          },
          "execution_count": 8
        }
      ]
    },
    {
      "cell_type": "code",
      "metadata": {
        "colab": {
          "base_uri": "https://localhost:8080/",
          "height": 299
        },
        "id": "2XVPGLpGkLFI",
        "outputId": "5d5ab040-f4d8-4004-b104-f5acd80929a4"
      },
      "source": [
        "df.describe()"
      ],
      "execution_count": 9,
      "outputs": [
        {
          "output_type": "execute_result",
          "data": {
            "text/html": [
              "<div>\n",
              "<style scoped>\n",
              "    .dataframe tbody tr th:only-of-type {\n",
              "        vertical-align: middle;\n",
              "    }\n",
              "\n",
              "    .dataframe tbody tr th {\n",
              "        vertical-align: top;\n",
              "    }\n",
              "\n",
              "    .dataframe thead th {\n",
              "        text-align: right;\n",
              "    }\n",
              "</style>\n",
              "<table border=\"1\" class=\"dataframe\">\n",
              "  <thead>\n",
              "    <tr style=\"text-align: right;\">\n",
              "      <th></th>\n",
              "      <th>id</th>\n",
              "      <th>price</th>\n",
              "      <th>year</th>\n",
              "      <th>odometer</th>\n",
              "      <th>county</th>\n",
              "      <th>lat</th>\n",
              "      <th>long</th>\n",
              "    </tr>\n",
              "  </thead>\n",
              "  <tbody>\n",
              "    <tr>\n",
              "      <th>count</th>\n",
              "      <td>4.268800e+05</td>\n",
              "      <td>4.268800e+05</td>\n",
              "      <td>425675.000000</td>\n",
              "      <td>4.224800e+05</td>\n",
              "      <td>0.0</td>\n",
              "      <td>420331.000000</td>\n",
              "      <td>420331.000000</td>\n",
              "    </tr>\n",
              "    <tr>\n",
              "      <th>mean</th>\n",
              "      <td>7.311487e+09</td>\n",
              "      <td>7.519903e+04</td>\n",
              "      <td>2011.235191</td>\n",
              "      <td>9.804333e+04</td>\n",
              "      <td>NaN</td>\n",
              "      <td>38.493940</td>\n",
              "      <td>-94.748599</td>\n",
              "    </tr>\n",
              "    <tr>\n",
              "      <th>std</th>\n",
              "      <td>4.473170e+06</td>\n",
              "      <td>1.218228e+07</td>\n",
              "      <td>9.452120</td>\n",
              "      <td>2.138815e+05</td>\n",
              "      <td>NaN</td>\n",
              "      <td>5.841533</td>\n",
              "      <td>18.365462</td>\n",
              "    </tr>\n",
              "    <tr>\n",
              "      <th>min</th>\n",
              "      <td>7.207408e+09</td>\n",
              "      <td>0.000000e+00</td>\n",
              "      <td>1900.000000</td>\n",
              "      <td>0.000000e+00</td>\n",
              "      <td>NaN</td>\n",
              "      <td>-84.122245</td>\n",
              "      <td>-159.827728</td>\n",
              "    </tr>\n",
              "    <tr>\n",
              "      <th>25%</th>\n",
              "      <td>7.308143e+09</td>\n",
              "      <td>5.900000e+03</td>\n",
              "      <td>2008.000000</td>\n",
              "      <td>3.770400e+04</td>\n",
              "      <td>NaN</td>\n",
              "      <td>34.601900</td>\n",
              "      <td>-111.939847</td>\n",
              "    </tr>\n",
              "    <tr>\n",
              "      <th>50%</th>\n",
              "      <td>7.312621e+09</td>\n",
              "      <td>1.395000e+04</td>\n",
              "      <td>2013.000000</td>\n",
              "      <td>8.554800e+04</td>\n",
              "      <td>NaN</td>\n",
              "      <td>39.150100</td>\n",
              "      <td>-88.432600</td>\n",
              "    </tr>\n",
              "    <tr>\n",
              "      <th>75%</th>\n",
              "      <td>7.315254e+09</td>\n",
              "      <td>2.648575e+04</td>\n",
              "      <td>2017.000000</td>\n",
              "      <td>1.335425e+05</td>\n",
              "      <td>NaN</td>\n",
              "      <td>42.398900</td>\n",
              "      <td>-80.832039</td>\n",
              "    </tr>\n",
              "    <tr>\n",
              "      <th>max</th>\n",
              "      <td>7.317101e+09</td>\n",
              "      <td>3.736929e+09</td>\n",
              "      <td>2022.000000</td>\n",
              "      <td>1.000000e+07</td>\n",
              "      <td>NaN</td>\n",
              "      <td>82.390818</td>\n",
              "      <td>173.885502</td>\n",
              "    </tr>\n",
              "  </tbody>\n",
              "</table>\n",
              "</div>"
            ],
            "text/plain": [
              "                 id         price  ...            lat           long\n",
              "count  4.268800e+05  4.268800e+05  ...  420331.000000  420331.000000\n",
              "mean   7.311487e+09  7.519903e+04  ...      38.493940     -94.748599\n",
              "std    4.473170e+06  1.218228e+07  ...       5.841533      18.365462\n",
              "min    7.207408e+09  0.000000e+00  ...     -84.122245    -159.827728\n",
              "25%    7.308143e+09  5.900000e+03  ...      34.601900    -111.939847\n",
              "50%    7.312621e+09  1.395000e+04  ...      39.150100     -88.432600\n",
              "75%    7.315254e+09  2.648575e+04  ...      42.398900     -80.832039\n",
              "max    7.317101e+09  3.736929e+09  ...      82.390818     173.885502\n",
              "\n",
              "[8 rows x 7 columns]"
            ]
          },
          "metadata": {
            "tags": []
          },
          "execution_count": 9
        }
      ]
    },
    {
      "cell_type": "code",
      "metadata": {
        "colab": {
          "base_uri": "https://localhost:8080/"
        },
        "id": "R5uT8veTk2Ua",
        "outputId": "ef89f229-717b-4edf-9d2f-94917551f14a"
      },
      "source": [
        "df.columns"
      ],
      "execution_count": 10,
      "outputs": [
        {
          "output_type": "execute_result",
          "data": {
            "text/plain": [
              "Index(['id', 'url', 'region', 'region_url', 'price', 'year', 'manufacturer',\n",
              "       'model', 'condition', 'cylinders', 'fuel', 'odometer', 'title_status',\n",
              "       'transmission', 'VIN', 'drive', 'size', 'type', 'paint_color',\n",
              "       'image_url', 'description', 'county', 'state', 'lat', 'long',\n",
              "       'posting_date'],\n",
              "      dtype='object')"
            ]
          },
          "metadata": {
            "tags": []
          },
          "execution_count": 10
        }
      ]
    },
    {
      "cell_type": "code",
      "metadata": {
        "id": "N_pWeme_k21F"
      },
      "source": [
        "df.drop([ 'id', 'url', 'region_url', 'VIN',\n",
        "         'image_url', 'description', 'state', 'lat', \n",
        "         'long', 'posting_date','county'], axis=1, inplace=True)"
      ],
      "execution_count": 11,
      "outputs": []
    },
    {
      "cell_type": "code",
      "metadata": {
        "id": "UxE_z5hek3BS"
      },
      "source": [
        "df['age'] = 2021 - df['year']\n",
        "df.drop('year', axis=1, inplace=True) "
      ],
      "execution_count": 12,
      "outputs": []
    },
    {
      "cell_type": "code",
      "metadata": {
        "colab": {
          "base_uri": "https://localhost:8080/",
          "height": 422
        },
        "id": "024xPbRalkVI",
        "outputId": "6680499f-a8bb-4c29-832c-ae5728c6dc25"
      },
      "source": [
        "df"
      ],
      "execution_count": 13,
      "outputs": [
        {
          "output_type": "execute_result",
          "data": {
            "text/html": [
              "<div>\n",
              "<style scoped>\n",
              "    .dataframe tbody tr th:only-of-type {\n",
              "        vertical-align: middle;\n",
              "    }\n",
              "\n",
              "    .dataframe tbody tr th {\n",
              "        vertical-align: top;\n",
              "    }\n",
              "\n",
              "    .dataframe thead th {\n",
              "        text-align: right;\n",
              "    }\n",
              "</style>\n",
              "<table border=\"1\" class=\"dataframe\">\n",
              "  <thead>\n",
              "    <tr style=\"text-align: right;\">\n",
              "      <th></th>\n",
              "      <th>region</th>\n",
              "      <th>price</th>\n",
              "      <th>manufacturer</th>\n",
              "      <th>model</th>\n",
              "      <th>condition</th>\n",
              "      <th>cylinders</th>\n",
              "      <th>fuel</th>\n",
              "      <th>odometer</th>\n",
              "      <th>title_status</th>\n",
              "      <th>transmission</th>\n",
              "      <th>drive</th>\n",
              "      <th>size</th>\n",
              "      <th>type</th>\n",
              "      <th>paint_color</th>\n",
              "      <th>age</th>\n",
              "    </tr>\n",
              "  </thead>\n",
              "  <tbody>\n",
              "    <tr>\n",
              "      <th>0</th>\n",
              "      <td>prescott</td>\n",
              "      <td>6000</td>\n",
              "      <td>NaN</td>\n",
              "      <td>NaN</td>\n",
              "      <td>NaN</td>\n",
              "      <td>NaN</td>\n",
              "      <td>NaN</td>\n",
              "      <td>NaN</td>\n",
              "      <td>NaN</td>\n",
              "      <td>NaN</td>\n",
              "      <td>NaN</td>\n",
              "      <td>NaN</td>\n",
              "      <td>NaN</td>\n",
              "      <td>NaN</td>\n",
              "      <td>NaN</td>\n",
              "    </tr>\n",
              "    <tr>\n",
              "      <th>1</th>\n",
              "      <td>fayetteville</td>\n",
              "      <td>11900</td>\n",
              "      <td>NaN</td>\n",
              "      <td>NaN</td>\n",
              "      <td>NaN</td>\n",
              "      <td>NaN</td>\n",
              "      <td>NaN</td>\n",
              "      <td>NaN</td>\n",
              "      <td>NaN</td>\n",
              "      <td>NaN</td>\n",
              "      <td>NaN</td>\n",
              "      <td>NaN</td>\n",
              "      <td>NaN</td>\n",
              "      <td>NaN</td>\n",
              "      <td>NaN</td>\n",
              "    </tr>\n",
              "    <tr>\n",
              "      <th>2</th>\n",
              "      <td>florida keys</td>\n",
              "      <td>21000</td>\n",
              "      <td>NaN</td>\n",
              "      <td>NaN</td>\n",
              "      <td>NaN</td>\n",
              "      <td>NaN</td>\n",
              "      <td>NaN</td>\n",
              "      <td>NaN</td>\n",
              "      <td>NaN</td>\n",
              "      <td>NaN</td>\n",
              "      <td>NaN</td>\n",
              "      <td>NaN</td>\n",
              "      <td>NaN</td>\n",
              "      <td>NaN</td>\n",
              "      <td>NaN</td>\n",
              "    </tr>\n",
              "    <tr>\n",
              "      <th>3</th>\n",
              "      <td>worcester / central MA</td>\n",
              "      <td>1500</td>\n",
              "      <td>NaN</td>\n",
              "      <td>NaN</td>\n",
              "      <td>NaN</td>\n",
              "      <td>NaN</td>\n",
              "      <td>NaN</td>\n",
              "      <td>NaN</td>\n",
              "      <td>NaN</td>\n",
              "      <td>NaN</td>\n",
              "      <td>NaN</td>\n",
              "      <td>NaN</td>\n",
              "      <td>NaN</td>\n",
              "      <td>NaN</td>\n",
              "      <td>NaN</td>\n",
              "    </tr>\n",
              "    <tr>\n",
              "      <th>4</th>\n",
              "      <td>greensboro</td>\n",
              "      <td>4900</td>\n",
              "      <td>NaN</td>\n",
              "      <td>NaN</td>\n",
              "      <td>NaN</td>\n",
              "      <td>NaN</td>\n",
              "      <td>NaN</td>\n",
              "      <td>NaN</td>\n",
              "      <td>NaN</td>\n",
              "      <td>NaN</td>\n",
              "      <td>NaN</td>\n",
              "      <td>NaN</td>\n",
              "      <td>NaN</td>\n",
              "      <td>NaN</td>\n",
              "      <td>NaN</td>\n",
              "    </tr>\n",
              "    <tr>\n",
              "      <th>...</th>\n",
              "      <td>...</td>\n",
              "      <td>...</td>\n",
              "      <td>...</td>\n",
              "      <td>...</td>\n",
              "      <td>...</td>\n",
              "      <td>...</td>\n",
              "      <td>...</td>\n",
              "      <td>...</td>\n",
              "      <td>...</td>\n",
              "      <td>...</td>\n",
              "      <td>...</td>\n",
              "      <td>...</td>\n",
              "      <td>...</td>\n",
              "      <td>...</td>\n",
              "      <td>...</td>\n",
              "    </tr>\n",
              "    <tr>\n",
              "      <th>426875</th>\n",
              "      <td>wyoming</td>\n",
              "      <td>23590</td>\n",
              "      <td>nissan</td>\n",
              "      <td>maxima s sedan 4d</td>\n",
              "      <td>good</td>\n",
              "      <td>6 cylinders</td>\n",
              "      <td>gas</td>\n",
              "      <td>32226.0</td>\n",
              "      <td>clean</td>\n",
              "      <td>other</td>\n",
              "      <td>fwd</td>\n",
              "      <td>NaN</td>\n",
              "      <td>sedan</td>\n",
              "      <td>NaN</td>\n",
              "      <td>2.0</td>\n",
              "    </tr>\n",
              "    <tr>\n",
              "      <th>426876</th>\n",
              "      <td>wyoming</td>\n",
              "      <td>30590</td>\n",
              "      <td>volvo</td>\n",
              "      <td>s60 t5 momentum sedan 4d</td>\n",
              "      <td>good</td>\n",
              "      <td>NaN</td>\n",
              "      <td>gas</td>\n",
              "      <td>12029.0</td>\n",
              "      <td>clean</td>\n",
              "      <td>other</td>\n",
              "      <td>fwd</td>\n",
              "      <td>NaN</td>\n",
              "      <td>sedan</td>\n",
              "      <td>red</td>\n",
              "      <td>1.0</td>\n",
              "    </tr>\n",
              "    <tr>\n",
              "      <th>426877</th>\n",
              "      <td>wyoming</td>\n",
              "      <td>34990</td>\n",
              "      <td>cadillac</td>\n",
              "      <td>xt4 sport suv 4d</td>\n",
              "      <td>good</td>\n",
              "      <td>NaN</td>\n",
              "      <td>diesel</td>\n",
              "      <td>4174.0</td>\n",
              "      <td>clean</td>\n",
              "      <td>other</td>\n",
              "      <td>NaN</td>\n",
              "      <td>NaN</td>\n",
              "      <td>hatchback</td>\n",
              "      <td>white</td>\n",
              "      <td>1.0</td>\n",
              "    </tr>\n",
              "    <tr>\n",
              "      <th>426878</th>\n",
              "      <td>wyoming</td>\n",
              "      <td>28990</td>\n",
              "      <td>lexus</td>\n",
              "      <td>es 350 sedan 4d</td>\n",
              "      <td>good</td>\n",
              "      <td>6 cylinders</td>\n",
              "      <td>gas</td>\n",
              "      <td>30112.0</td>\n",
              "      <td>clean</td>\n",
              "      <td>other</td>\n",
              "      <td>fwd</td>\n",
              "      <td>NaN</td>\n",
              "      <td>sedan</td>\n",
              "      <td>silver</td>\n",
              "      <td>3.0</td>\n",
              "    </tr>\n",
              "    <tr>\n",
              "      <th>426879</th>\n",
              "      <td>wyoming</td>\n",
              "      <td>30590</td>\n",
              "      <td>bmw</td>\n",
              "      <td>4 series 430i gran coupe</td>\n",
              "      <td>good</td>\n",
              "      <td>NaN</td>\n",
              "      <td>gas</td>\n",
              "      <td>22716.0</td>\n",
              "      <td>clean</td>\n",
              "      <td>other</td>\n",
              "      <td>rwd</td>\n",
              "      <td>NaN</td>\n",
              "      <td>coupe</td>\n",
              "      <td>NaN</td>\n",
              "      <td>2.0</td>\n",
              "    </tr>\n",
              "  </tbody>\n",
              "</table>\n",
              "<p>426880 rows × 15 columns</p>\n",
              "</div>"
            ],
            "text/plain": [
              "                        region  price manufacturer  ...       type paint_color  age\n",
              "0                     prescott   6000          NaN  ...        NaN         NaN  NaN\n",
              "1                 fayetteville  11900          NaN  ...        NaN         NaN  NaN\n",
              "2                 florida keys  21000          NaN  ...        NaN         NaN  NaN\n",
              "3       worcester / central MA   1500          NaN  ...        NaN         NaN  NaN\n",
              "4                   greensboro   4900          NaN  ...        NaN         NaN  NaN\n",
              "...                        ...    ...          ...  ...        ...         ...  ...\n",
              "426875                 wyoming  23590       nissan  ...      sedan         NaN  2.0\n",
              "426876                 wyoming  30590        volvo  ...      sedan         red  1.0\n",
              "426877                 wyoming  34990     cadillac  ...  hatchback       white  1.0\n",
              "426878                 wyoming  28990        lexus  ...      sedan      silver  3.0\n",
              "426879                 wyoming  30590          bmw  ...      coupe         NaN  2.0\n",
              "\n",
              "[426880 rows x 15 columns]"
            ]
          },
          "metadata": {
            "tags": []
          },
          "execution_count": 13
        }
      ]
    },
    {
      "cell_type": "markdown",
      "metadata": {
        "id": "HGHvPwkNtXgj"
      },
      "source": [
        "### 5. 범주형 데이터의 통계 분석하기\n"
      ]
    },
    {
      "cell_type": "code",
      "metadata": {
        "colab": {
          "base_uri": "https://localhost:8080/"
        },
        "id": "wvXPw4y5l6uB",
        "outputId": "db32aa0f-635f-4e68-b0a0-fdecbb50f182"
      },
      "source": [
        "df.columns"
      ],
      "execution_count": 14,
      "outputs": [
        {
          "output_type": "execute_result",
          "data": {
            "text/plain": [
              "Index(['region', 'price', 'manufacturer', 'model', 'condition', 'cylinders',\n",
              "       'fuel', 'odometer', 'title_status', 'transmission', 'drive', 'size',\n",
              "       'type', 'paint_color', 'age'],\n",
              "      dtype='object')"
            ]
          },
          "metadata": {
            "tags": []
          },
          "execution_count": 14
        }
      ]
    },
    {
      "cell_type": "code",
      "metadata": {
        "id": "b_zcrUDF7khF",
        "colab": {
          "base_uri": "https://localhost:8080/"
        },
        "outputId": "af4d89f1-f75f-4cee-f759-f6c952747ec1"
      },
      "source": [
        "# 범주형 데이터의 값의 범위, 기초 통계 분석하기\n",
        "# manufacturer 부터 함 봐볼까.\n",
        "len(df['manufacturer'].value_counts())"
      ],
      "execution_count": 15,
      "outputs": [
        {
          "output_type": "execute_result",
          "data": {
            "text/plain": [
              "42"
            ]
          },
          "metadata": {
            "tags": []
          },
          "execution_count": 15
        }
      ]
    },
    {
      "cell_type": "code",
      "metadata": {
        "colab": {
          "base_uri": "https://localhost:8080/"
        },
        "id": "Ae_lKvb6mPau",
        "outputId": "2ab67096-047d-476d-a720-d54f4c847c11"
      },
      "source": [
        "df['manufacturer'].value_counts()"
      ],
      "execution_count": 16,
      "outputs": [
        {
          "output_type": "execute_result",
          "data": {
            "text/plain": [
              "ford               70985\n",
              "chevrolet          55064\n",
              "toyota             34202\n",
              "honda              21269\n",
              "nissan             19067\n",
              "jeep               19014\n",
              "ram                18342\n",
              "gmc                16785\n",
              "bmw                14699\n",
              "dodge              13707\n",
              "mercedes-benz      11817\n",
              "hyundai            10338\n",
              "subaru              9495\n",
              "volkswagen          9345\n",
              "kia                 8457\n",
              "lexus               8200\n",
              "audi                7573\n",
              "cadillac            6953\n",
              "chrysler            6031\n",
              "acura               5978\n",
              "buick               5501\n",
              "mazda               5427\n",
              "infiniti            4802\n",
              "lincoln             4220\n",
              "volvo               3374\n",
              "mitsubishi          3292\n",
              "mini                2376\n",
              "pontiac             2288\n",
              "rover               2113\n",
              "jaguar              1946\n",
              "porsche             1384\n",
              "mercury             1184\n",
              "saturn              1090\n",
              "alfa-romeo           897\n",
              "tesla                868\n",
              "fiat                 792\n",
              "harley-davidson      153\n",
              "ferrari               95\n",
              "datsun                63\n",
              "aston-martin          24\n",
              "land rover            21\n",
              "morgan                 3\n",
              "Name: manufacturer, dtype: int64"
            ]
          },
          "metadata": {
            "tags": []
          },
          "execution_count": 16
        }
      ]
    },
    {
      "cell_type": "code",
      "metadata": {
        "colab": {
          "base_uri": "https://localhost:8080/",
          "height": 625
        },
        "id": "3ZQbE5jcmPwo",
        "outputId": "81b8bfe8-97f5-41c7-e21a-43a814914f58"
      },
      "source": [
        "# countplot으로 얘들 분포를 좀 봐볼까?\n",
        "#df.fillna('n/a')로 채워서 결측치인 것들의 수도 좀 봐보자. N/A수를 따로 추산하지 않아도 n/a가 카테고리중 하나로 들어가게 됨.\n",
        "#['manufacturer'].value_counts().index 는 인덱스를 ['manufacturer'].value_counts()로 해서 ['manufacturer'].value_counts()이거 순서로 그래프 그리라는 뜻임.\n",
        "fig = plt.figure(figsize=(8, 10))\n",
        "sns.countplot(y='manufacturer', data=df.fillna('n/a'), order=df.fillna('n/a')['manufacturer'].value_counts().index)"
      ],
      "execution_count": 17,
      "outputs": [
        {
          "output_type": "execute_result",
          "data": {
            "text/plain": [
              "<matplotlib.axes._subplots.AxesSubplot at 0x7ff93e64cd90>"
            ]
          },
          "metadata": {
            "tags": []
          },
          "execution_count": 17
        },
        {
          "output_type": "display_data",
          "data": {
            "image/png": "[encoded data removed]",
            "text/plain": [
              "<Figure size 576x720 with 1 Axes>"
            ]
          },
          "metadata": {
            "tags": [],
            "needs_background": "light"
          }
        }
      ]
    },
    {
      "cell_type": "code",
      "metadata": {
        "colab": {
          "base_uri": "https://localhost:8080/"
        },
        "id": "p4pj5RYOp3t4",
        "outputId": "66b0e4b5-4e10-4ef6-dcf5-03d7809d056d"
      },
      "source": [
        "df.columns"
      ],
      "execution_count": 18,
      "outputs": [
        {
          "output_type": "execute_result",
          "data": {
            "text/plain": [
              "Index(['region', 'price', 'manufacturer', 'model', 'condition', 'cylinders',\n",
              "       'fuel', 'odometer', 'title_status', 'transmission', 'drive', 'size',\n",
              "       'type', 'paint_color', 'age'],\n",
              "      dtype='object')"
            ]
          },
          "metadata": {
            "tags": []
          },
          "execution_count": 18
        }
      ]
    },
    {
      "cell_type": "code",
      "metadata": {
        "colab": {
          "base_uri": "https://localhost:8080/"
        },
        "id": "9THTeDMVp38S",
        "outputId": "84501da5-2a41-433c-84e7-8d1794973faa"
      },
      "source": [
        "len(df['model'].value_counts()) #너무 많아서 그래프로 보기 힘들고, 내용을 보기도 힘들다. "
      ],
      "execution_count": 19,
      "outputs": [
        {
          "output_type": "execute_result",
          "data": {
            "text/plain": [
              "29667"
            ]
          },
          "metadata": {
            "tags": []
          },
          "execution_count": 19
        }
      ]
    },
    {
      "cell_type": "code",
      "metadata": {
        "colab": {
          "base_uri": "https://localhost:8080/"
        },
        "id": "mteiEYsaqJtL",
        "outputId": "cecd6b13-94d1-466f-802b-4714ca993de1"
      },
      "source": [
        "#그래도 굳이 보자면, for문 돌려서 모델명이랑 갯수랑 해서 봐보자.\n",
        "for model, num in zip(df['model'].value_counts().index, df['model'].value_counts()):\n",
        "  print(model, num)\n",
        "#일단 쓱 봐보면, 갯수가 1개인 차량중에는 대소문자가 달라서 모델이 달라지는 경우나, 모델명이 대충써진거나, 잘못써진거나 이런게 좀 있는거 같다. \n",
        "#얘는 메모리 문제가 있어서 그래프 못돌림. 돌리면 메모리 바닥남."
      ],
      "execution_count": 20,
      "outputs": [
        {
          "output_type": "stream",
          "text": [
            "\u001b[1;30;43m스트리밍 출력 내용이 길어서 마지막 5000줄이 삭제되었습니다.\u001b[0m\n",
            "cooper clubman base 3dr 1\n",
            "silverado 2500 hd 3/4 ton 1\n",
            "sho 1\n",
            "940 wagon 1\n",
            "f-350 4x 4 utility 1\n",
            "pick up truck 1\n",
            "5 series 535i xdrive 4dr s 1\n",
            "Suzuki SFV650 1\n",
            "Mack Granite GU713 1\n",
            "Dune buddy 1\n",
            "2010 f250 super duty 1\n",
            "four door 1\n",
            "1500 laramie big horn 1\n",
            "jetta 4dr man 2.0l s 1\n",
            "2016 Mazada Miata 1\n",
            "silverado durmax 1500 1\n",
            "silverado ext cab 4wd 1\n",
            "sorento sxl awd 1\n",
            "2006 saab 92x 1\n",
            "2500 slt quad cab 1\n",
            "trailblazer ls ** only 76k miles ** 4x4 vortec 4.2l 285hp 1\n",
            "1941 1\n",
            "benz 2500 high roof 1\n",
            "Meercedes 1\n",
            "envoy sle sport utility 4d 1\n",
            "328it 1\n",
            "91 Bentley Turbo R 1\n",
            "commander overland 1\n",
            "UD 2600 1\n",
            "golf tdi 2.0l 1\n",
            "f150 lariat crewcab 4x4 1\n",
            "1972 oldsmobile delta 88 royale 1\n",
            "Comet 2 door sedan 1\n",
            "E350 4500 3500 Savana Express 1\n",
            "mazda6i 1\n",
            "tundra 4x4 2016 1\n",
            "2c4rc1cg0cr181348 1\n",
            "350z roadster touring 1\n",
            "sierra z71 4x4 1\n",
            "jetta gls 1.8t 1\n",
            "Expedición 1\n",
            "tdi jetta sportwagen golf 1\n",
            "escape se 4dr suv 1\n",
            "fusiom 1\n",
            "nv 200 sv 1\n",
            "xe 35t r-sport awd 1\n",
            "Suzuki XL-7 Luxury 1\n",
            "pickup 1500 classic lone 1\n",
            "smart fortwo electric drive 1\n",
            "2003 SAAB 9-5 3.0t ARC 1\n",
            "f550 super 1\n",
            "transit awd 1\n",
            "1992 ChevyVan G10 1\n",
            "2008 smart fortwo 1\n",
            "911 2dr carrera cpe 6- 1\n",
            "tahoe special 1\n",
            "ml 3500 1\n",
            "fleetwood southwind 1\n",
            "Cheverolet Tahoe Z71 1\n",
            "civic ex, gas saver, reli 1\n",
            "xc90 3.2 awd 3.2l heated leather dvd tvs moon 1 owner 1\n",
            "300E 1\n",
            "silverado 2500hd ltz crew cab 4wd 6-speed automati 1\n",
            "convertable 1\n",
            "fusion hybrid sedan 1\n",
            "f-550 service truck under deck compressor 1\n",
            "2008 M2 freightliner 1\n",
            "Yukon XL SLT 1\n",
            "sienna le mobility fwd 7-passenger mobility (natl) 1\n",
            "Accura MDX 1\n",
            "International4300 Crew Cab 1\n",
            "isuzu NPR 1\n",
            "600sel 1\n",
            "rendezvous cxl awd 1\n",
            "3-series 328xi xdrive 1\n",
            "m2 competiton 1\n",
            "3500 dump 1\n",
            "Caddy Deville 1\n",
            "Expedition SSV 1\n",
            "tundra limited limited 4 1\n",
            "q5 premium plus awd gas suv 1\n",
            "Holiday Rambler Vacationer 1\n",
            "tahoe lt automatic 1\n",
            "civic lx 5spd 1\n",
            "grand cherokee laredo nav 1\n",
            "1968 f250 1\n",
            "328xi AWD 1\n",
            "cr-v lx 4wd at 1\n",
            "celica gt sunchaser 1\n",
            "1500 sport 4x4 crew cab 57 b 1\n",
            "f550 superduty 1\n",
            "21011 1\n",
            "cobalt lt 2.2 1\n",
            "cx-3 grand touring awd 1\n",
            "Maui Full Body Bedliner 1\n",
            "srx 4dr luxury collec 1\n",
            "plymouth caravelle 1\n",
            "JETTA 1\n",
            "mustang convertible v6 premium automatic leather seats 68k 1\n",
            "grand cherokee latitude 1\n",
            "f-100 truck 1\n",
            "3500 diesel 4x4 1\n",
            "2005 E350 1\n",
            "compass 4x4 latitude 1\n",
            "3 gt grand touring 1\n",
            "1400 1\n",
            "town car - executive 1\n",
            "encore preferred ii fwd 1\n",
            "Isuzu NQR DC 1\n",
            "sierra 2500hd 4wd crew cab 159\" denali 1\n",
            "edge 4dr sel fwd 1\n",
            "econoline cargo work van 1\n",
            "cr-v lx 4dr suv 1\n",
            "Tacoma TRD 1\n",
            "cherokee high altitude automatic 1\n",
            "yukon xl sle 1500 1\n",
            "International Freightliner 1\n",
            "am general m1233 1\n",
            "jetta hybrid sel premium--we finance!! 1\n",
            "f-250 super duty 4wd crew c 1\n",
            "f-250 camper special ranger 1\n",
            "malibu limited t 1\n",
            "camry hybrid electric 1\n",
            "sentra se-r 1\n",
            "feaf 1\n",
            "IC School Bus GC39530 1\n",
            "328 sport package 1\n",
            "accord ex-l*leather*moon 1\n",
            "suzuki aerio gs 1\n",
            "accent gshatchback 1\n",
            "blazer 4 door 1\n",
            "santa fe sel 2.4 1\n",
            "4-series 440i xdrive gran c 1\n",
            "expedition xlt 4wd suv 1\n",
            "ranger xlt xlt 2dr supercab 1\n",
            "rx 350 sport utility 1\n",
            "Ford/collins 1\n",
            "740IL 1\n",
            "q3 2.0t premium plus quatt 1\n",
            "x1 xline xdrive28i 1\n",
            "535 gran turismo 1\n",
            "cj dj 1\n",
            "MG-TD Classic 1953 1\n",
            "wrangler sahara i6 4x4 1\n",
            "x3 xdrive28i backup camera 1\n",
            "Rugged 1\n",
            "CHAIRLIFT 1\n",
            "q3 quattro awd gas suv auto 1\n",
            "colorado z71 diesel 1\n",
            "INTERNATIONAL DURASTAR 4300 1\n",
            "f250 super duty ext-cab 1\n",
            "terraza 4dr cxl fwd 1\n",
            "forester xs awd 1\n",
            "Chevr Exp 1\n",
            "THOMAS SCHOOL BUS 1\n",
            "2000 OR NEWER 1\n",
            "xc90 3.2 sport utility 4d 1\n",
            "custom build 1\n",
            "325xit 2003 1\n",
            "xterra offroad 4x4 1\n",
            "short bed step side 1\n",
            "camry lx 1\n",
            "F150 XLT CREW CAB 1\n",
            "4runner sr5 4wd suv 1\n",
            "mazada miata 1\n",
            "rav4 xle premium automatic 1\n",
            "tacoma 4x4 trd doublecab 1\n",
            "1981 Cutlass 1\n",
            "Chevorlet stake bed truck 1\n",
            "fusion hybrid titanium 1\n",
            "international 4300 bucket truck 1\n",
            "F15O FX-2 SPORT PICKUP 1\n",
            "escalade and 1\n",
            "Rugby Flatbed 8'6 long 7'8 wide 1\n",
            "super duty f-250 crew cab 172\" xlt 4wd 1\n",
            "xv crosstrek 2.0i premiu 1\n",
            "1975 nova 1\n",
            "1 series 128i convertible 2 1\n",
            "frontier, extended cab 1\n",
            "3500 cummins laramie 1\n",
            "is G80 1\n",
            "benz sclass 1\n",
            "pickup 1500 classic $346 month, $1500 down, only 20k miles, $346 month, $1500 down, only 20k miles 1\n",
            "Accra RDX technology package 1\n",
            "sierra 2500hd slt z71 1\n",
            "sports sedan 1\n",
            "ranger shortbed 1\n",
            "excursion lmited 1\n",
            "a6 quattro awd 1\n",
            "tacoma regular cab 2wd 1\n",
            "f-350 superduty dually 4x4 1\n",
            "f-250 super dully 1\n",
            "m850i xdrive 1\n",
            "crv touring awd 1\n",
            "320xi 3 series xdrive 1\n",
            "corvette c5 1\n",
            "odyssey ex-l wheelchair h 1\n",
            "impreza 2.0i premium 5-door cvt 1\n",
            "sable wagon ls premium 1\n",
            "focus sel 80k miles 38mpg tinted windows 1\n",
            "tl 3.5l v6 1\n",
            "continental mark iii 1\n",
            "tiburon gt v6 2004 1\n",
            "escalade ext sport 1\n",
            "dart 340 sport 1\n",
            "MB E320 1\n",
            "Plymouth savoy 1\n",
            "silverado 3500hd srw 1\n",
            "1977 MGB Tourer 1\n",
            "super duty f-550 xl/boxtruck/lift gate/reg cab/ 1\n",
            "impala lt 2013 1\n",
            "accord ex-l coupe at 1\n",
            "F450 Fontaine 1\n",
            "2012 F250 1\n",
            "f-150 king ranch *4wd 1\n",
            "COTTRELL c-7510ST 1\n",
            "sierra v8 4x4 1\n",
            "Frieghtliner fl 50 1\n",
            "AUTO4YOU 1\n",
            "juke - sl awd 1\n",
            "Will fit 1\n",
            "tacoma 4wd double lb v6 a 1\n",
            "impala lt fleet 4dr s 1\n",
            "gmc/chevy/ford/toyota 1\n",
            "model a convertable 1\n",
            "silverado z71/ltz 1\n",
            "tradesman 1500 1\n",
            "forte lx - 3 months / 3,000 miles limited warranty 1\n",
            "am general m998 humvee 1\n",
            "t4 eurovan mv 1\n",
            "CHINOOK DREAM 178QB 1\n",
            "beelte r line 1\n",
            "c30 rebel blue polestar 1\n",
            "tacoma limited double cab 5' bed v6 4x2 at (natl) 1\n",
            "G.M. 1\n",
            "Standard Business Coupe 1\n",
            "qx80 base 1\n",
            "grandville 1\n",
            "Suburban 2500 1\n",
            "chysler 300 limited 1\n",
            "vue v6 xe 1\n",
            "g savana camper special 1\n",
            "srx performance awd! 1\n",
            "cla 250 amg equipment 1\n",
            "accord sedan sport 1.5t cvt 1\n",
            "04 SUZUKI AERIO 1\n",
            "outback legacy 1\n",
            "f150 super cab 4x4 xlt 1\n",
            "rav4 4dr 4-cyl 4-spd at 1\n",
            "vnl cummins isx engine 1\n",
            "3 window pro street coupe 1\n",
            "1991 MAXDA MIATA 1\n",
            "transcraft eagle 1\n",
            "F-350  6.2L V8 GAS  RWD  CLEAN 1\n",
            "plymouth voyager se 1\n",
            "Oldsmobile 88 50th Anniversary 1\n",
            "qx70 rwd 4dr 1\n",
            "mecury milan 1\n",
            "escape titanium automatic 1\n",
            "c-class c 250 2dr 1\n",
            "f-150 king ranch automatic 1\n",
            "1500 sport crew cab 5'7 bo 1\n",
            "1975 1\n",
            "grand cherokee upland sport 1\n",
            "2009 f250 1\n",
            "mustang v6 premium 2dr 1\n",
            "expedition eddie bauer 4dr 1\n",
            "malibu limited 4dr sdn ls w/1fl 1\n",
            "impreza 2.5i 5-door 1\n",
            "cayenne 2004 1\n",
            "g-20 1\n",
            "300 limo 1\n",
            "1967 capris Supersport 1\n",
            "oldsmobile cutless 1\n",
            "2011 terrain 1\n",
            "PACKARD SUPER CLIPPER 1\n",
            "rogue sv hybrid 1\n",
            "Cheverlot C3500 1\n",
            "benz 300sd turbo 1\n",
            "rsx base 1\n",
            "f150 xl reg cab 1\n",
            "new beetle gls turbo 1\n",
            "c-class 2.3l 1\n",
            "s60 r base 1\n",
            "crestliner 1\n",
            "sportgage 1\n",
            "r 320 r320 bluetec 1\n",
            "International 9700 1\n",
            "1957 Studerbaker 1\n",
            "cc300 1\n",
            "rav4 xle 4dr suv 1\n",
            "tacoma x-cab 1\n",
            "f-150 lariat 4wd supercrew automatic 1\n",
            "mkx(awd)limited 1\n",
            "TRIUMPH SPIT FIRE 1\n",
            "f-350 super duty lariat 4dr crew cab lariat 1\n",
            "FORDF 150 1\n",
            "defender 130 1\n",
            "g-37x 1\n",
            "pilot 4wd ex-l at 1\n",
            "is250 sport rwd 1\n",
            "landcruiser fj45 1\n",
            "e350 amg awd 1\n",
            "delica spacegear 1\n",
            "c300 luxury v6 1\n",
            "f-150 triton v8 5.4l 1\n",
            "escalade luxury sun r 1\n",
            "f-150 supercrew 4x4 xlt 1\n",
            "frontier xe king cab v6 1\n",
            "Porsch 928 S4 1\n",
            "2500 st 4x4 quad cab 1\n",
            "q7 quattro 1\n",
            "cx-5 grand touring sport utility 4d automatic 1\n",
            "outback 2.5i awd legacy 1\n",
            "328gt 1\n",
            "Chryslaer PT Crusier 1\n",
            "explorer limted 1\n",
            "5500 heavy duty 1\n",
            "300d 2.5turbo diesel 1\n",
            "SMART CAR BY(MERCEDES BENZ) 1\n",
            "m 37 1\n",
            "Sprinter 2500 1\n",
            "legacy 3.0 r limited 1\n",
            "Plymouth GTX 1\n",
            "accord ex-l v6 with navi 1\n",
            "versa 1.6 sv automatic 1\n",
            "charger sxt v6 awd 1\n",
            "benz clk350 coupe 1\n",
            "hybrid prius 1\n",
            "jetta 1.4t se 4dr se 1\n",
            "g 35x awd 1\n",
            "v8 efi 1\n",
            "suzuki samuarai. 1\n",
            "sport 4x4 1\n",
            "tacoma 4wd double lb v6 at (natl) 1\n",
            "Willys CJ- 2A 1\n",
            "1985 Peterbilt EXHD 1\n",
            "1966 c10 1\n",
            "silverado 1500 ls 4dr 1\n",
            "U-Model Mack 1\n",
            "model b custom 1\n",
            "general 1\n",
            "gle gle 350 automatic 1\n",
            "highlander limited platinum v6 awd (natl) 1\n",
            "ranger extended cab 4x4 1\n",
            "c-class 4dr sdn 3 1\n",
            "tiguan touareg 1\n",
            "devville 1\n",
            "corolla 2006 1\n",
            "LT 1\n",
            "ls 460 4dr sdn 1\n",
            "firebird trans am gta 1\n",
            "2500 lt ext cab 6.0 4x4 1\n",
            "transit connect carg 1\n",
            "mustang premium mach 1 1\n",
            "flex sel 118k awd new tires 3rd row 118k 23mpg 1\n",
            "sierra 2500hd base crew cab 1\n",
            "sorento 2wd 4dr i4 lx 1\n",
            "city express cargo van lt 1\n",
            "fuison 1\n",
            "civichonda si 1\n",
            "bluebird international 1\n",
            "sierra sle 1500 1\n",
            "s40 awd 1\n",
            "HINO 338 [TOYOTA] 1\n",
            "1986 CJ-7 1\n",
            "trailblazer ltz 4wd 1\n",
            "galaxie 500 starliner 1\n",
            "yukon slt 4x4 v8 auto leather seats 3 row seating loaded 1\n",
            "camaro z-28 1\n",
            "rav4 xle audio with navi 1\n",
            "hyndai tucson 1\n",
            "350 le 1\n",
            "silverado 4500hd work 1\n",
            "74 Duster 1\n",
            "tahoe ltz sport utili 1\n",
            "2004 Tundra Limited 1\n",
            "silverado1500 1\n",
            "f-150 supercab 139\" lariat 1\n",
            "International 4000 1\n",
            "sonata se 4dr sedan sul 1\n",
            "International  4300 Dump Truck 1\n",
            "yaris ia auto 1\n",
            "colorad 1\n",
            "200t f sport 1\n",
            "s-class s 550 4ma 1\n",
            "3100 pickup/shortbed 1\n",
            "2018 Polaris Slingshot 1\n",
            "expedition xlt 4dr suv 1\n",
            "rav4 4 x 4 1\n",
            "soul hatchback fwd 1\n",
            "f150 crewcab xlt 1\n",
            "edge se automatic 1\n",
            "accord exv6 1\n",
            "Chevey uplander 1\n",
            "Peterbilt 367 1\n",
            "Toyoya RAV4 1\n",
            "van 1987 1\n",
            "Bertone X1/9 (Fiat) 1\n",
            "civic sport hatch 1\n",
            "travese ltz awd 1\n",
            "f-250 xlt lariat 1\n",
            "1928 Ford, Pickup Truck 1\n",
            "xv crosstrek hybrid touri 1\n",
            "MG MGB Convertible 1\n",
            "2013 F150 KING RANCH 1\n",
            "daewoo lanos 1\n",
            "ecoline 1\n",
            "EZ-GO Golf Cart 1\n",
            "sierra 1500 single cab 4x4 1\n",
            "pathfinder silver editio 1\n",
            "blazer xtreme 1\n",
            "mustang saleen convertible 1\n",
            "f250 xlt fx4 1\n",
            "ranger 4dr supercab 4.0l xlt 4wd 1\n",
            "sonat se 1\n",
            "f550 xlt 1\n",
            "avalanche ls 4x4crew 1\n",
            "truck lone star 1\n",
            "super duty f-250 srw lariat 4wd crew cab 6.75' box 1\n",
            "tundra double cab sr5 4x4 1\n",
            "td6 dies 1\n",
            "1984 American General 915A1 1\n",
            "wrangler x 4 x 4 1\n",
            "1500 slt 1500 quad hemi 1\n",
            "blazer extreme 1\n",
            "deville 79 1\n",
            "rav4 newgener 1\n",
            "158000 1\n",
            "sierra 1500 4wd double cab 143.5\" 1\n",
            "avalanche lt z71 1\n",
            "Bwise 1\n",
            "legacy premium 2.5i awd 1\n",
            "escape titanium fwd gas suv 1\n",
            "52 MG TD 1\n",
            "Che y Silverado 4x4 1\n",
            "wrx,sti,evalotion 1\n",
            "soul ev base 1\n",
            "tacoma 4 x 4 1\n",
            "380 series 1\n",
            "legacy l 4dr wagon 1\n",
            "sierra duramax 2500 hd all 1\n",
            "silverado 3500 hd flatbed 1\n",
            "cherokee latitude automatic 1\n",
            "07 SONATA 1\n",
            "4500 kodiack 1\n",
            "accord ex-l v-6 1\n",
            "rio lxsedan 4a 1\n",
            "220 1\n",
            "d-5 1\n",
            "escapre hybrid 1\n",
            "outlander suv 1\n",
            "explorer eddie bauersuv( 1\n",
            "compass sport 4dr suv 1\n",
            "2017 fusion SE AWD 1\n",
            "is is 250 sedan 4d 1\n",
            "1968 f600 1\n",
            "bronco 4wd 1\n",
            "dart. gt 1\n",
            "dakota bighorn/lonestar 1\n",
            "forrester awd 1\n",
            "1967 Firebird 1\n",
            "sierra sl 1\n",
            "pannel van 1\n",
            "escape xlssuv 1\n",
            "330xi and 1\n",
            "- SUPER DUKE GT 1\n",
            "la sabre 1\n",
            "touring car 1\n",
            "c300 4 matic 1\n",
            "altima 2017.5 2.5 sr sed 1\n",
            "volskwagen vanagon 1\n",
            "f-650 extended cab 1\n",
            "corolla le 45k 1\n",
            "silverado 2500hd lt 4d 1\n",
            "standard business coupe 1\n",
            "camry se*leather*cam*fue 1\n",
            "roadster cooper s 1\n",
            "escape limited xlt 4wd 1\n",
            "golden jubilee tractor 1\n",
            "f-150 4x4 super cab xlt 1\n",
            "suburban 5wd lt 1\n",
            "saab 93 2.0t 1\n",
            "murano sv (2017.5) sport 1\n",
            "335i sedan 1\n",
            "f-250sd lariat 4wd 1\n",
            "f100 costem 1\n",
            "cls63 amg 1\n",
            "olet Silverado 3500HD 1\n",
            "Argo Amphibious Aurora 950 Bigfoot 1\n",
            "Lariart 1\n",
            "Junk car 1\n",
            "WMWXP7C59K2A51028 1\n",
            "sierra classic 2500hd 4x4 1\n",
            "passat 1.8 tsi se 1\n",
            "edge select awd 1\n",
            "pilot ex-l awd camera 1\n",
            "glk250 diesel! very clean & tight, 1\n",
            "1988 Corvette 1\n",
            "super duty f-250 pow 1\n",
            "cr-v exl suv 1\n",
            "avalanche z71 4wd 1\n",
            "2020 ISUZU NPR XD 1\n",
            "FORD/MUSTANG GT 1\n",
            "1974 CAT 930 1\n",
            "f350 xlt lariat 6.2gas 1\n",
            "q7 3.0 tfsi premium plus 1\n",
            "2003 F250 Superduty 1\n",
            "s60 awd 1\n",
            "es 350. 1\n",
            "f150 4x4 heritage 1\n",
            "armada pathfinder 1\n",
            "328i 335i m3 528i 330i 540i 1\n",
            "75 1\n",
            "grand caravan 3rd row 1\n",
            "renegade cj-5 1\n",
            "benz 560sec 1\n",
            "Zap Power Systems, 'Zapino' 1\n",
            "wrangler rubicon (tj) 1\n",
            "INTER 4700 CRANE 1\n",
            "altima coupe 3.5 1\n",
            "liberty 2wd 4dr sport 1\n",
            "sienna xle limited handic 1\n",
            "cr-v ex-l 4wd 5-speed at 1\n",
            "HUNDAI SANTA FE 1\n",
            "300 300c rwd 1\n",
            "transit t350 stakebed truck 1\n",
            "1992 International Dump 1\n",
            "sonata 2.4 l 1\n",
            "f150 4x4 supwer crew xlt 1\n",
            "Craftsman Freightliner 1\n",
            "328ic 1\n",
            "rav4 limited 4x4suv 1\n",
            "CEHVROLET SILVERADO 3500HD 4WD 1\n",
            "highlander sport utility 1\n",
            "Toyota. 22 Re 1\n",
            "1500 diesel 1\n",
            "express cargo van car 1\n",
            "Freightliner BUSINESS CLASS M2 1\n",
            "escape fwd 4dr s 1\n",
            "Frtlner Cascadia 1\n",
            "e-series cargo - 1\n",
            "fe160 1\n",
            "trans am firehawk 1\n",
            "sclass 1\n",
            "LEXUS/ES 350 1\n",
            "l320 1\n",
            "edge limited sel 1\n",
            "1950 plymouth 1\n",
            "cooper s turbo charged 1\n",
            "regal 2dr 1\n",
            "mdx awd camera 1\n",
            "KEYSTONE COLEMAN BY DUTCHMEN LAN 1\n",
            "sundancer 1\n",
            "Delorean Dmc-12 1\n",
            "x3 xdrive28i m-sport pkg 1\n",
            "X3 35i M AWD 1\n",
            "gs 50 1\n",
            "Isuzu NPR HD 15' Box Truck 1\n",
            "tacoma sr5 double cab 5' bed v6 4x4 at (natl) 1\n",
            "c/30 1\n",
            "yukon xl 1500 sle 1\n",
            "rs 3 1\n",
            "corvette z06 2dr coup 1\n",
            "f-450 4x4 1\n",
            "2500 diesel laramie 1\n",
            "Willys CJ3B 1\n",
            "benz e350 4matic sport 1\n",
            "a4 avant quattro wagon 1\n",
            "expedition eddie bauer4x4 1\n",
            "240gd swb 1\n",
            "passat gls 4motion 1\n",
            "forester 2.5 x premium p 1\n",
            "xc60 awd 4dr 3.0t w/moonroof 1\n",
            "charger 3.5 1\n",
            "sierra 2500hd 4wd crew cab 153.7\" slt 1\n",
            "f7 1\n",
            "335i e92 coupe 1\n",
            "f450 xlt 1\n",
            "2003 f350 1\n",
            "GEM GREENGO TEK 1\n",
            "e-series e-250 1\n",
            "MMW 325 XI 1\n",
            "e-150 chateau van 1\n",
            "2914 Mustang V6 coupe 1\n",
            "silverado 2500 ltz lifted diesel 4x4 on 37's with 56k 1\n",
            "acty minitruck 1\n",
            "tahoe 4x4 5.3l vortec 1\n",
            "86 c10 1\n",
            "Freightliner Mt55 1\n",
            "cr-v ex-l crv exl 1\n",
            "Oldsmobile LSS Sedan 1\n",
            "isc 250 1\n",
            "340i m sport package xi 1\n",
            "golf gti 2.0t se 1\n",
            "sierra 2500 long bed 1\n",
            "Saab 9-3, 2003 convertible 1\n",
            "FRHT   TR 1\n",
            "450gl 1\n",
            "cv tradesman 1\n",
            "taurus s 1\n",
            "expediton xlt 4x4 1\n",
            "econoline450 1\n",
            "tradesman 200 maxi van 1\n",
            "Colorado 1\n",
            "350z roadster convertible 1\n",
            "c10 pickup long bed 1\n",
            "228i m sport package 1\n",
            "camaro ss manual 1\n",
            "focus zx5 s 4dr hatchback 1\n",
            "many makes and models 1\n",
            "saab 9-3 linear turbo 1\n",
            "1978 el camino 1\n",
            "c280 4 matic 1\n",
            "civic ex-l automatic 57k leather moon roof rear spoiler 1\n",
            "San Antonio 1\n",
            "f-250 super cab 4wd 1\n",
            "sts 4dr sedan northstar 1\n",
            "2007 International 4300 1\n",
            "legacy sedan awd 1\n",
            "sierra 2500hd 4wd crew cab 1 1\n",
            "f-350 sd crew cab 1\n",
            "tlx sedan v6 tech 1\n",
            "outback onyx edition xt 1\n",
            "3 window 1\n",
            "camaro z28 conv 1\n",
            "santa fe gls 4dr suv 1\n",
            "transit t250 low toof 1\n",
            "Freightliner FC-70 1\n",
            "TUNDRA  SR5  4WD  5.7L V8 1\n",
            "escape xlt sport 1\n",
            "focus slt 1\n",
            "envoy slt awd 1\n",
            "fusion titanium turbo 1\n",
            "2002 rsx type s 1\n",
            "sentra sedan 4d 1\n",
            "Bmwi3 1\n",
            "outback l.l. bean editio 1\n",
            "new beetle s 1\n",
            "Merceded 450 SE 1\n",
            "CRX DX 1\n",
            "glk 350 awd 1\n",
            "m3 base 1\n",
            "1972 Karman Ghia 1\n",
            "qx30 sport utility 4d 1\n",
            "s420 1\n",
            "HUMMER H2 Lux Series 4X4 V8 6.0L Auto Leather Moon New Tires 1\n",
            "Fiesta 1\n",
            "supra twin turbo 1\n",
            "f350 xl utility truck 1\n",
            "fuso fec52s 1\n",
            "odyssey ex-l navi 1\n",
            "sunliner 406 4-speed 1\n",
            "2010 HYUNDAI, SANTA FE 1\n",
            "accord wagon 1\n",
            "tiburon gs 1\n",
            "jetta 2.0t gli se 1\n",
            "xj8 vandan plas 1\n",
            "fit ex hatcback 1\n",
            "benz e450 4matic 1\n",
            "l-series sedan l300 4-speed automatic 1\n",
            "tow dolly 1\n",
            "turbo s 1\n",
            "dakota quad cab slt 1\n",
            "Club car 4 seater 1\n",
            "mazda3 s sport sedan 4d 1\n",
            "s6 quattro 1\n",
            "International Durastar 1\n",
            "V.W. Passat R-Line 1\n",
            "caravan wheelchair van 1\n",
            "MERCECES-BENZ E 320 1\n",
            "country wagon 1\n",
            "Ponitac Grand Am GT 1\n",
            "Chevy/gmc 1\n",
            "1961 F100 1\n",
            "ioniq hybrid se automatic 1\n",
            "SCION tC 1\n",
            "Volkswagon Golf 1\n",
            "corolla xse sedan 4d 1\n",
            "hr-v ex awd cvt 1\n",
            "Many Makes and Models 1\n",
            "metro 1\n",
            "benz e320 sport 1\n",
            "elanta 1\n",
            "jetta gli fahrenheit 1\n",
            "sierra sle z71 1\n",
            "2509 hd silveradt 1\n",
            "ecoline van e350 1\n",
            "xi 1\n",
            "liberty unlimited edition 1\n",
            "Maserati 2007  QUATROPORTE 1\n",
            "imapla limited lt 1\n",
            "1500 sport crew cab 1\n",
            "430i xdrive gran coup 1\n",
            "sport 4wd 4dr hse 1\n",
            "3 series 330xi 1\n",
            "coronet super bee 1\n",
            "cls cls 55 1\n",
            "impreza wagon 2.0i premium 1\n",
            "fit lx hatchback 1\n",
            "dakota quad cab sport 3.7 1\n",
            "1500 v8 slt 1\n",
            "e5 50 1\n",
            "z3 3.0i 1\n",
            "is 350c 1\n",
            "1969 CORVETTE 1\n",
            "challegner sxt 1\n",
            "370 z 1\n",
            "golf+gti 1\n",
            "MAZDA5 1\n",
            "qx60 3.5 hybrid 1\n",
            "esape 1\n",
            "Tadano 1882 TM  Truck Crane 1\n",
            "335i xdrive f30 n55 1\n",
            "tsx navi 1\n",
            "genesis coupe 3.8 r-spec 1\n",
            "k series 1\n",
            "beetle gls tdi turbo 1\n",
            "hardbody xe 1\n",
            "2008 International 4300 series 1\n",
            "f150 triton 1\n",
            "outlander limited fwd 1\n",
            "tt 2.0 1\n",
            "1978 C 10 1\n",
            "benz gl450 awd 1\n",
            "300 touring édition 1\n",
            "romeo stelvio sport 1\n",
            "a6 3.0 quattro prestige 1\n",
            "AMC Marlin 1\n",
            "International C1200 4x4 1\n",
            "f250 ext 4x4 1\n",
            "mdx sh-awd 4dr suv 1\n",
            "2500hd silverado 1\n",
            "Isuzu NPR ECO-MAX 1\n",
            "ls600h l 1\n",
            "Genesis G80 3.8 1\n",
            "f450 super duty powerstroke 1\n",
            "f150 super crew cab limited 1\n",
            "1967 MG Midget 1\n",
            "sierra 1500 hd 1\n",
            "c-class sport amg 1\n",
            "Volkswagen/Austin gasser 1\n",
            "2009 Subarua Forester 1\n",
            "avalanche ltz 4x4 1\n",
            "step 30 series 1\n",
            "f-250 4wd 5sp 7.5 1\n",
            "f250 xlt crew 4x4 1\n",
            "boxster s (986) 1\n",
            "E350 4matic 1\n",
            "AMC CJ5 1\n",
            "2007 f350 superduty 1\n",
            "Any model 1\n",
            "1996 cierra 1\n",
            "silverado 1500 4wd crew cab 143.5 lt w/1lt automatic 1\n",
            "McLaren 720S Performance 1\n",
            "delica exceed l300 1\n",
            "altima sl sedan 1\n",
            "Ford, Thunderbird 1\n",
            "450-750 1\n",
            "F-150  KING  RANCH  4WD *TURBO 1\n",
            "chysler 300 AWD 1\n",
            "xjr s 1\n",
            "2000 Oldsmobile Intrigue 1\n",
            "pilot 4d sport utility 1\n",
            "2008 F250 1\n",
            "davidson flstc103 / herit 1\n",
            "prius hybrid131,184 1\n",
            "7 series 740lisedan 1\n",
            "soul ev ev auto 1\n",
            "FOERD EDGE 1\n",
            "c300 4-matic awesome color, great 1\n",
            "silverad lt 1\n",
            "BENTLEY GT/GTR 1\n",
            "HINO XJC740 / XFC740 1\n",
            "susuki grand vitara 1\n",
            "International 4300 diesel box 1\n",
            "susuki forenza 1\n",
            "f250 utility bed v10 1\n",
            "INTERNATIONAL 26' DURASTAR 4300 1\n",
            "jetta 2.0 1\n",
            "focus zx4 107k 1\n",
            "sable ls 2000 1\n",
            "romeo stelvio ti lusso 1\n",
            "gs340 1\n",
            "cts 3.6 coupe 2d 1\n",
            "Hyudai Sonata Hybrid 1\n",
            "tahoe ltz 4x4 fully 1\n",
            "alitma 1\n",
            "A7 1\n",
            "Isuzu NPR DSL REG AT LSD 1\n",
            "3500 diesel dually 1\n",
            "International 9900i 1\n",
            "corolla xse sedan 1\n",
            "yeoman wagon 1\n",
            "300 k 1\n",
            "fairlaine 1\n",
            "PETERBILT/COTTRELL 1\n",
            "equinox premier automatic 1\n",
            "acadia awd denali 1\n",
            "r/t 1\n",
            "vickey copy 1\n",
            "cls 400 1\n",
            "ranger xlt ext cab 1\n",
            "titan sv crew cab v8 4x4 1\n",
            "highlander xle suv 1\n",
            "98 Jag XJ8 1\n",
            "3500 utility 1\n",
            "club coupe 1\n",
            "f-150 4wd supercrew 145 svt 1\n",
            "f150 lariat 4x4 supercrew 1\n",
            "e250 hightop 1\n",
            "tacoma double cab limited v6 4x4 / trd off road / e-locke moon roof / new wheels / new tires / low miles / lifted 1\n",
            "BMX X3 1\n",
            "(210) 1\n",
            "2002 freightliner 1\n",
            "LEXUS/ES 300 1\n",
            "1971 c10 1\n",
            "mazda3 mazdaspeed3 1\n",
            "e 150xlt 8 pass 1\n",
            "2016 Polaris XP 4 Turbo RZR 1\n",
            "excursion 7.3l 1\n",
            "sentra sv 1-owner 1\n",
            "750i m-sport package 1\n",
            "328 awd 1\n",
            "f-150 xl supercab 1\n",
            "a4 premium plus 2.0t 1\n",
            "2001 Merc Grand Marquis 1\n",
            "pilot suv touring 4wd 1\n",
            "cx-9 grand touring awd 1\n",
            "xf luxury 1\n",
            "forester 2.5x premium all wheel drive 1\n",
            "ecosport ses 4wd 1\n",
            "s60 inscription t5 1\n",
            "e-series cargo e-350 sd 132k ** diesel ** power stroke 6.0l diesel turbo cargo van 1\n",
            "navigator l select 1\n",
            "camaro base model 1\n",
            "silvia 1\n",
            "santa fe limited edition 1\n",
            "Kenworth T370 1\n",
            "2007 corvette 1\n",
            "911 carrera 4s 4 s 1\n",
            "62 series 1\n",
            "tahoe 1500 rst 4x4 gas 1\n",
            "ram350 1\n",
            "explorer sport suv 4wd 1\n",
            "sierra 1500 denali 4x4 4dr 1\n",
            "tremor f-250 super duty 1\n",
            "certified edge p4427 1\n",
            "sorento lx 4wd 7 seats 1\n",
            "mdx l 1\n",
            "mazda2vtouring 1\n",
            "SILVERADO  2500 HD Z71 1\n",
            "Honday Odyssey 1\n",
            "sonata limited 3.3l 1\n",
            "Porache 944 Turbo 1\n",
            "1979 1\n",
            "86 shortbed silverado 1\n",
            "express g3500 cutaway 1\n",
            "quad cab pu 1\n",
            "rogue s fwd gas suv auto 1\n",
            "silverado 1500 ltz 4wd 1\n",
            "Xlt 1\n",
            "liberty 65 4x4 1\n",
            "2017 LATE MODELS 1\n",
            "Willys cj5 1\n",
            "Pontic Trans AM WS6 1\n",
            "cooper clubman s 3dr 1\n",
            "f150 fx2 rwd 1/2 ton gas 1\n",
            "frontier king cab se 1\n",
            "pickup 1500 sport 1\n",
            "cooper s john cooper works 1\n",
            "canyon deisel duramax slt 1\n",
            "b-3-b 1\n",
            "highlander xle v6 awd 1\n",
            "rsx coupe 2.0l automatic leather moon sport wheels 1\n",
            "q7 premium plus quattro 1\n",
            "2020 Camaro 2SS 1\n",
            "Nissa 200SX 1\n",
            "outback 2.5 wagon 1\n",
            "tucson eco 1\n",
            "Cadillax Eldorado 1\n",
            "REGAL 1\n",
            "civic si 1.5lturbo.... 1\n",
            "tunderbird 1\n",
            "1500 trail boss 1\n",
            "2500hd Silverado 1\n",
            "cl550 4 matic 1\n",
            "countryman s all4 6-speed automatic 1\n",
            "328 xdrive touring 1\n",
            "325i sport wagon 1\n",
            "silverado texas 1\n",
            "f150 xl triton 1\n",
            "Hyundia Sonata 1\n",
            "Saab 9-3 AERO V6 Convertible 1\n",
            "outback 2.5 xt limited 1\n",
            "frontier le king cab 1\n",
            "evoque convertible hse dynamic 1\n",
            "altima 2.5s sedan 1\n",
            "Isuzu Rodeo 4x4 1\n",
            "ranger local trade in low 1\n",
            "gti driver's 1\n",
            "range diesel 1\n",
            "solara conv. 1\n",
            "forester awd 2.5 limited 1\n",
            "megacab 1\n",
            "grand cherokee 4dr overla 1\n",
            "xk120 1\n",
            "express 2500 cargo va 1\n",
            "740il e38 sport 1\n",
            "astro ls 2-owner cargo van 4.3l v6 190hp front and rear ac 1\n",
            "Lotus Evora 1\n",
            "rav4 base automatic 1\n",
            "enlantra se 1\n",
            "xts luxury automatic 1\n",
            "s60 t6 premier plus sedan 1\n",
            "accord lx*back up cam*fue 1\n",
            "P30 1\n",
            "colorado lt crew cab 4wd 1\n",
            "cooper john cooper 1\n",
            "benz 280 slk 1\n",
            "galant ralliart 1\n",
            "element lx (awd) 1\n",
            "scion xb rs 1\n",
            "Mack CHN613 1\n",
            "tucson 1.6t limited 1\n",
            "transit wagon xlt 1\n",
            "forester 2.5x wagon 2.5l 5 speed manual 1 owner 1\n",
            "legacy 2.5i special ed 1\n",
            "cx-9 touring automatic 1\n",
            "vnm200 1\n",
            "prius touring cvt 1\n",
            "Maserati Ghibli S Q4  4dr Sedan 1\n",
            "silverado 150 z71 1\n",
            "250 xlt 1\n",
            "fiesta s hatchback 1\n",
            "lemans custom 1\n",
            "dakota big horn 4x4 4dr crew 1\n",
            "contour se sport 1\n",
            "taurus x limited awd 1\n",
            "murrano 1\n",
            "528 xi 1\n",
            "2500 laramie 4wd 6.7 cummins diesel lifted on 37 1\n",
            "altima 3.5 s 1\n",
            "wheelchair van 1\n",
            "ridgeline rts 4x4 1\n",
            "tribeca limited awd 1\n",
            "highlander 4wd 3.3 1\n",
            "compass 80th special 1\n",
            "1967 Chevelle 1\n",
            "van 30 1\n",
            "1991 OLDSMOBILE CUTLASS SUPREME 1\n",
            "f150 4x4 xtr 1\n",
            "gillig phantom 1\n",
            "eos lux convertible 1\n",
            "equinox 1 owner 1\n",
            "Orion 1\n",
            "cls550 4matic 1\n",
            "Silverado K2500HD 1\n",
            "k5 lxs 1\n",
            "XJS Vanden Plas 1\n",
            "accord hybrid ex 1\n",
            "xts platinum awd 1\n",
            "clubwagon 1\n",
            "golf sportwagen 1.4t s automatic 1\n",
            "pickup 3500 laramie 4d 1\n",
            "forester 2.5 xt limited 1\n",
            "laredo 1\n",
            "cx-9 gt 1\n",
            "1998 F-150 1\n",
            "juke 5dr wgn cvt sv fwd 1\n",
            "r8 v10 coupe quattro 1\n",
            "silverado 1500 ltz z7 1\n",
            "impala ltsedan 1\n",
            "LS 4x4 1\n",
            "MMAZDA 6 SEDAN 1\n",
            "Acura_ RDX_ 1\n",
            "traverse lt2 1\n",
            "2010 International 4300 1\n",
            "1954 Studebaker 1\n",
            "benz ml350 awd 1\n",
            "xg50 1\n",
            "tiguan 2012 1\n",
            "MERCEDES-BENZ/CLK-CLASS 1\n",
            "1976 grand Marquis 1\n",
            "500x trekking sport utility 1\n",
            "ux 250h 1\n",
            "sona 1\n",
            "2010toyota prius 1\n",
            "r8 v10 quattro 1\n",
            "AM GENERAL HUMMER 1\n",
            "yukon denali 4dr suv 1\n",
            "f-350 super duty lariat 4x4 lifted double roof diesel 1\n",
            "nitro sxt 4x4 suv 3.7l automatic newer tires 1\n",
            "savana g3500 16' box truck 1\n",
            "f-250 super duty xl xl 2dr regular cab 1\n",
            "yukon xl 2500 slt 1\n",
            "outlander awd 1\n",
            "xc90 2.5t 4wd 1\n",
            "landcruier 1\n",
            "suburban dually 1\n",
            "sierra 1500 denali crew 147 1\n",
            "f-150 fx4 4dr supercrew s 1\n",
            "Freightliner Sprinter 1\n",
            "f450 super duty xl 1\n",
            "Tracker 500 side by side 1\n",
            "e-class e 350 sport 1\n",
            "accord navigation 1\n",
            "AM General M49A2 1\n",
            "odysseyexl 1\n",
            "1500 big horn 4wd! 1\n",
            "fj cruiser 4x4 lifted long travel suspension 1\n",
            "KENWORTH T800 1\n",
            "Suzuki XL7 EX 1\n",
            "sonata 2.4l pzev 1\n",
            "f150 xlt crew 1\n",
            "Toyoya Sequoia 1\n",
            "2004 POINTIAC GRAND PRIX GTP 1\n",
            "lacrosse sx 1\n",
            "wrangler unlimited unlimited sport automatic 1\n",
            "Freightliner M55 1\n",
            "2001 f250 super duty 1\n",
            "civic coupe lx-p cvt 1\n",
            "1959 f-100 1\n",
            "Infinti Qx60 1\n",
            "hyudai elantra gls 1\n",
            "forte s automatic 1\n",
            "2015 Land Rove LR4 HSE 1\n",
            "grandcherokee srt 1\n",
            "1996 impala ss 1\n",
            "custom V8 HEMI convertible 1\n",
            "q5 2.0t prem plus 1\n",
            "trax fwd 4dr ltz 1\n",
            "mkx ultimate 4wd 1\n",
            "corolla le 4dr sedan (1.8 1\n",
            "keep wrangler 1\n",
            "prius v three hybrid i4 fwd 1\n",
            "x3 2.8i xdrive 1\n",
            "200 limitedsedan 1\n",
            "1500 outdoorsman 4wd 1\n",
            "civic hybrid cvt at-pzev w/ leather and nav 1\n",
            "rav- 4 1\n",
            "620 1\n",
            "crosstrek 2.0i limited automatic 1\n",
            "infinite Q50 1\n",
            "a4 2.0t prestige 1\n",
            "1942 1\n",
            "e 250 super duty 1\n",
            "RV Gulfstream Innsbruck  26ft Bunk House 1\n",
            "yukon xl sle 4x4 1\n",
            "aspin 1\n",
            "benz c230 sport 1\n",
            "a4 premium plus quattro awd 1\n",
            "cherokee latitude plus 4x4 1\n",
            "645 ci coupe 1\n",
            "f25 1\n",
            "couier 1\n",
            "1500 club coupe 1\n",
            "c-7500 1\n",
            "f350 platinum 1\n",
            "CUSTOM CUSTOM black 1\n",
            "Mazda6 wagon 1\n",
            "tacoma double cab trd 4x4 1\n",
            "accord ex 4 cyl 1\n",
            "Xx 1\n",
            "gr. cherokee laredo 4x4 1\n",
            "privea 1\n",
            "cr-v crv 1\n",
            "explorer lim nav pana roof 1\n",
            "corvette -- c7 1\n",
            "box 1\n",
            "Nissian Murano SL AWD 1\n",
            "trailblazer ls ls 4dr 1\n",
            "g3500 van 1\n",
            "sprinter 2500 high r 1\n",
            "e-350 passenger van/only 34km 1\n",
            "transit 250 high roof reefer 148\" wb cargo van 1\n",
            "cayenne platinum editi 1\n",
            "is300 awd f-sport 1\n",
            "Camaro mustang 1\n",
            "rav4 sport v6 1\n",
            "pininfarina spider 1\n",
            "astre 1\n",
            "lesabre 4dr sdn 1\n",
            "trans 1\n",
            "2012 Camaro 2SS 1\n",
            "b150 1\n",
            "dart 4dr sdn aero 1\n",
            "dakota club 1\n",
            "silverado 3500hd cc w 1\n",
            "suburan 2500 ls 1\n",
            "accord 4dr i4 auto ex-l 1\n",
            "accord coupe ex-l v6 1\n",
            "c-class c 450 amg 1\n",
            "cummins 3500 limited 1\n",
            "FINANCIAMIENTO EN VIVIENDA 1\n",
            "maxima sl*navi*leather*b 1\n",
            "c-class 4dr sdn c 1\n",
            "3000 gt sl 1\n",
            "terazza cx 1\n",
            "silverado 1500 lt crew cab 1\n",
            "mustang gt conv 1\n",
            "cooper s 4-door 1\n",
            "cruz 1\n",
            "Oldsmobile Aurora 1\n",
            "soul automatic 1\n",
            "1984 CJ-7 1\n",
            "benz sport c280 1\n",
            "i30t 1\n",
            "town car hearse 1\n",
            "freestar limitef 1\n",
            "focus zx3 s 1\n",
            "lj rubicon 1\n",
            "liberty 4dr limited 1\n",
            "rav4 4wd limited 1\n",
            "civic cng 1\n",
            "f-150 fx4 fx4 4dr supercrew 1\n",
            "rdx w/tech awdsuv w/ 1\n",
            "450 sl cv 1\n",
            "1973 Corvette Stingray 1\n",
            "1995 Ambulance 1\n",
            "23-window samba deluxe 1\n",
            "Cadilac DTS Luxury 1\n",
            "s70 se 1\n",
            "1500 4wd crew cab 140.5\" laramie 1\n",
            "f250 sd 4d lariet 1\n",
            "belair bubble top 1\n",
            "veloster i4 fwd 1\n",
            "camero z28 1\n",
            "7-series m package 1\n",
            "econoline e350 superduty 1\n",
            "2006 pt cruiser 1\n",
            "f-350 rwd automatic 1\n",
            "nx 300 f sport suv 1\n",
            "Ridheline 1\n",
            "f150 reg cab 1\n",
            "mdx sport pkg 1\n",
            "f650xlt 1\n",
            "grand cherokee overland 4d sport utility automatic 1\n",
            "sedona lx 3.3l v6 1\n",
            "convt 1\n",
            "FLEX LIMITED FWD 1\n",
            "d30 international 1\n",
            "variety 1\n",
            "titan crew cab swb s 1\n",
            "rsx sport coupe 1\n",
            "77 MG 1\n",
            "1968 Torino Squire Station Wagon 1\n",
            "starcraft e350 1\n",
            "x-type v6 1\n",
            "ISUZU ASCENDER 1\n",
            "c-7500 multiple uses perfect 1\n",
            "pre runner 1\n",
            "tacoma access 128\" v6 auto 4wd (natl) 1\n",
            "SERIES 60 1\n",
            "1987 humvee 1\n",
            "model x 100d 1\n",
            "x1 28i/awd/nav 1\n",
            "promaster 1500 136 high roof 1\n",
            "cruze lt ecotec turbo 1\n",
            "sedan 2door 1\n",
            "Towmotor BHF20 1\n",
            "model 70 1\n",
            "mark series 4dr supercre 1\n",
            "challenger srt 392 rwd gas 1\n",
            "cruze 4dr sdn 1.4l premier w/1sf 1\n",
            "fc101 1\n",
            "serieslla 1\n",
            "regal grand nat 1\n",
            "gold wing 1\n",
            "silverado 1500 ls 4x4 only 76k low miles crew cab 1 owner 1\n",
            "accord lx-s coupe 2d 1\n",
            "x3 xdrive30i sports activity vehicle 1\n",
            "f-250 king ranch 4x4 lifted 6.7l 1\n",
            "evoque pu 1\n",
            "flex sel wagon 1\n",
            "silverado 2500 hd c... 1\n",
            "colorado 2wd reg cab 1\n",
            "montana extended 1\n",
            "500l pop hatchback 1\n",
            "2006 X 2dr Sport Utility 1\n",
            "venza limited awd 1\n",
            "3500 cargo van ext 1\n",
            "malibu 4dr sdn ls w/1 1\n",
            "yukon 4x4 * 1\n",
            "v6 1\n",
            "monte carlo ss #3 1\n",
            "Touareg V-10 TDI 1\n",
            "Merceds C 230 1\n",
            "tundra sr5 5.7 1\n",
            "Detomaso Pantera 1\n",
            "silverado lt crew cab 4x4 1\n",
            "1998 jagure convertible xk8 1\n",
            "pilot ex-l. 3rd row, fully serviced, 1\n",
            "1hgcm56896a112876 1\n",
            "cruze lt w/1lt full p 1\n",
            "rav 4 prime 1\n",
            "kona sel 2.0l auto w/contrasting roof 1\n",
            "tranist 1\n",
            "cherokee pioneer 1\n",
            "durango sxt 4x4 1\n",
            "crosstrek 2.0i prem 1\n",
            "b2300 truck 1\n",
            "liberty sport 4x2suv 1\n",
            "accord ex 1.5l turbo 1\n",
            "outlander sport 2.4 1\n",
            "1995 HM 1\n",
            "s 10 4 x 4 1\n",
            "silverado custom 1\n",
            "1998 do-466 1\n",
            "FJ Cruiser 1\n",
            "370z w/ sport package 1\n",
            "Mercedez Benz ML 350 1\n",
            "f350 diesel dualy 1\n",
            "elantra sel 4dr sedan 1\n",
            "high sierra 1\n",
            "mdx touring sport 4wd 1\n",
            "corvette z07 1\n",
            "versa sv.1.6 1\n",
            "m151a1 1\n",
            "Pylmouth Valiant 1\n",
            "hardbody 4x4 1\n",
            "2007  Poniac GT 1\n",
            "1994 DAIHATSU HIJET 1\n",
            "isx 1\n",
            "rx 400h base awdsuv 1\n",
            "kona sel automatic 1\n",
            "odyssey 2012 1\n",
            "corolla ve 1\n",
            "v50 t5 4dr wagon 1\n",
            "f-super dudy 1\n",
            "2500 2wd quad cab 140.5 sl 1\n",
            "civic cx 1\n",
            "cabrio glx 1\n",
            "2019 F-150 XLT 1\n",
            "HOND civic 1\n",
            "beetle-classic turbo 1\n",
            "2500 v10 1\n",
            "530i 6cyl automatic only 121k heated leather sport 1\n",
            "xplorer 1\n",
            "sierra1500 crewcab 4x4 1\n",
            "explorer slt 4x4 1\n",
            "cl 550 1\n",
            "1500 limited crew 4x4 1\n",
            "575m maranello 1\n",
            "econline e3 1\n",
            "gazelle convertible 1\n",
            "1999 e36 m3 1\n",
            "tribute 2.0l man dx 1\n",
            "versa 1.6 sl 1\n",
            "f550 super duty xl 6.7l 1\n",
            "s70 t5 1\n",
            "06TRX4 2500 turbo Diesel 1\n",
            "356 speedster 1\n",
            "88 Isuzu Tropper II 1\n",
            "a4 allroad quattro 2 1\n",
            "focust st 1\n",
            "foxbody 1\n",
            "benz e500 awd sedan 1\n",
            ": 1\n",
            "rabbit convertible 1\n",
            "benz c230 compressor 1\n",
            "fromtier 1\n",
            "tundra 4 doors, limited 1\n",
            "poniac firebird 1\n",
            "savana g2500 4.8l 1\n",
            "Mack Pinnacle CXU 600 1\n",
            "explorer eddie bauer eddie bauer 4dr suv 1\n",
            "silverado 2500 4x4 chassis 1\n",
            "97 Cobra 1\n",
            "civic ex vehicle wrecked 1\n",
            "2 series m235i convertible 1\n",
            "880 1\n",
            "ranger xlt fx4 level 2 1\n",
            "transit 250 lr 1\n",
            "e 450 18 ft 1\n",
            "Isuzu Medium Duty Cabover 1\n",
            "v3500 1\n",
            "lancer rhd 1\n",
            "grandville convertible 1\n",
            "silverado 1500 trail bos 1\n",
            "wrangler jk sport s 1\n",
            "s500 amg 1\n",
            "f 350 xl hd dually 1\n",
            "tdi jetta 1\n",
            "silverado single cab 1\n",
            "Internal 3800 1\n",
            "astro awd 4x4 1\n",
            "f350 supercab 7.3 diesel 1\n",
            "chieften 1\n",
            "cooper hardtop 4 door 4dr 1\n",
            "forester limited x 1\n",
            "maibu 1\n",
            "gs 350 f-sport premium 1\n",
            "fj cruiser 4wd 4dr auto 1\n",
            "odyssey ex 48k miles new tires leather dual power doors 1\n",
            "saab 9-3 2.0t convertible 1\n",
            "Camaro Z 28 1\n",
            "05 Saab convertible 2.0 Turbo 1\n",
            "tundra limited 4x4 4dr 1\n",
            "1500 rebel hemi 4x4 1\n",
            "4runner 4wd sport edition 1\n",
            "explorer luxury 1\n",
            "s10 extended cab 1\n",
            "500x trekking 1 owner 1\n",
            "king cab 1\n",
            "F-250 Ranger, Camper Special 1\n",
            "f150 (northland edition) 1\n",
            "lecerne 1\n",
            "hilander 1\n",
            "OLDSMOBILE  66 SEDAN 1\n",
            "xf 43,000 miles 1 owner 1\n",
            "silverado 2500 hd 4wd 1\n",
            "f350 crew cab super duty 1\n",
            "liborty 1\n",
            "f-150 four-door crew cab 1\n",
            "f 150 xlt 4x4 supercrew 1\n",
            "f-350 dually diesel 4x4 1\n",
            "dakota 4x4 quad cab 1\n",
            "civic si 2dr coupe 1\n",
            "forester 2.5i awd gas suv 1\n",
            "NISAAN LEAF SV 1\n",
            "tacoma xtracab manual 1\n",
            "1972 B-GT 1\n",
            "High Country Silverado 1\n",
            "xj sedan 1\n",
            "jetta se fwd gas auto 1\n",
            "IC School Bus PB10500 1\n",
            "2 dr del ray 1\n",
            "expedition 4x4 eddie bauer 1\n",
            "sc430 conv. 1\n",
            "focus electric automatic 1\n",
            "f550 super duty 4wd 1\n",
            "2010 SEMA Build 1\n",
            "fk-260 1\n",
            "es350 sedan 1\n",
            "marinr hybrid 1\n",
            "town car black 1\n",
            "5N1AA0NE3BN614984 1\n",
            "soul 62k 1\n",
            "coupe deville 62 1\n",
            "3335i x drive gt 1\n",
            "1988Ford Ranger XLT 1\n",
            "FRRV Puma 1\n",
            "200 4dr sdn touring 1\n",
            "e350 sd ext cargo van 1\n",
            "rlx adance 1\n",
            "200 4dr sdn limited 1\n",
            "W124 d 1\n",
            "celica trd 1\n",
            "fiberjet beachcomber 1\n",
            "oldsmobile cutlass 442 W30 1\n",
            "benz ml320 4matic 1\n",
            "f 150 xlt super crew 1\n",
            "352i 1\n",
            "silverado 3500hd/48km 1\n",
            "impala 4dr sdn lt fleet 1\n",
            "is 350 4dr sdn rwd 1\n",
            "lancer evolution iv 1\n",
            "clarity plug-in hybrid sedan 1\n",
            "fords ranger 1\n",
            "2013/2540A 1\n",
            "ls 430 sedan--we finance!! 1\n",
            "325i premium sport package clean carfax 1\n",
            "TOWN COUNTRY 1\n",
            "1952 Willys M38 1\n",
            "highlander hybrid awd 1\n",
            "IN HOUSE 1\n",
            "MG TD kit car 1\n",
            "f-150 xlt**back up cam*v6, 1\n",
            "tl awd tech package v6 1\n",
            "nova 350 ss 1\n",
            "jetta 2.0l tdi value 1\n",
            "4500 regular cab & chassis 1\n",
            "TOYOYA HIGHLANDER HYBRID 1\n",
            "custom van 1\n",
            "Citroen 2CV6 1\n",
            "2011 Impreza wrx 1\n",
            "i3 rex 1\n",
            "cherokee 4dr sport 1\n",
            "PS30 1\n",
            "tacoma double cab v6 4x 1\n",
            "soul base manual 1\n",
            "m coupe 1\n",
            "fit exl 1\n",
            "lifted f150 xl 4x4 1/2 ton 1\n",
            "ptcruiser series 3 1\n",
            "lifted titan pro-4x 4x4 1\n",
            "invita 1\n",
            "avalanche 1500 ltz 1\n",
            "MB ML350 1\n",
            "OLDS 442 1\n",
            "wrangler unlimited rubicon recon 1\n",
            "ranger splash 1\n",
            "centra 1\n",
            "durango subn 1\n",
            "2500 van 1\n",
            "c-30 1\n",
            "medalist 1\n",
            "Hundai Sonata 1\n",
            "2011 Hoinda Pilot 1\n",
            "Hyndai Sonata 1\n",
            "Freightliner, Business Class M2 1\n",
            "veloster re:flex 1\n",
            "mkt w/ecoboost 1\n",
            "KENWORTH 1\n",
            "1966 Oldsmobile Toronado 1\n",
            "easy car deals 1\n",
            "370z touring sport 1\n",
            "ram1500 hemi 1\n",
            "1968 Chevelle 1\n",
            "KYRV COLEMAN 1\n",
            "qx56 awd 1\n",
            "430 ls 1\n",
            "gmc/chev c3500hd bucket boom 1\n",
            "Prius C Hybrid 1\n",
            "f250 powerstroke 1\n",
            "fleet-side (custom) 1\n",
            "expedition 2wd 4dr limited 1\n",
            "explorer 4wd 4dr/46 km 1\n",
            "express van 1500 1\n",
            "f100 ranger xlt 1\n",
            "camaro pro-street 1\n",
            "rogue sl 4dr crossover 1\n",
            "focus coupe 1\n",
            "excursion 7.3 limited 1\n",
            "Maserati GranTurismo 2017 1\n",
            "taurus le 1\n",
            "accord sdn ex auto 1\n",
            "Isuzu Trooper S 1\n",
            "express cargo van yf7 1\n",
            "f550 super duty crew cab h 1\n",
            "lancer sel 1\n",
            "jetta 2.5l 1\n",
            "VOLKWAGEN JETTA SE 1\n",
            "expedition xl fleet 1\n",
            "911 c4 1\n",
            "FREIGHTLINER Sprinter Cargo Vans 1\n",
            "goldwing 50th anniv 1\n",
            "Hummer H3 4x4 1\n",
            "accord exl 2.0t 1\n",
            "passat 4dr sdn 2.5l auto se w/sunroof pzev 1\n",
            "c-5500 1\n",
            "trx 1500 1\n",
            "model s sdn 1\n",
            "mountainner premier 1\n",
            "grand marquis colony park wagon 1\n",
            "international scout 800 1\n",
            "F250 XLT 7.3L 1\n",
            "1500 4.7 slt 1\n",
            "super duty f250 srw stx 1\n",
            "f350 crew cab diesel 1\n",
            "Clement 2011 scrap metal 1\n",
            "Keep CJ5 1\n",
            "f150 extended cab 4x4 1\n",
            "1979 c10 1\n",
            "DETHMERS KAR CADDY 1\n",
            "nash lafayette 1\n",
            "Sports Coupe 1\n",
            "750l 1\n",
            "transit cargo van base automatic 1\n",
            "tacoma 4dr access cab 1\n",
            "forte gt line 1\n",
            "6 series 640i xdrive gran c 1\n",
            "challenger 345 rt custom 1\n",
            "panel van 1\n",
            "2 door touring sedan 1\n",
            "toronado 1\n",
            "tucson se plus sport 1\n",
            "2500 laramie 4x4 1\n",
            "Sidekick-tracker 1\n",
            "m813a1-w/w 1\n",
            "b3500 cargo van 1\n",
            "49 Plymouth 1\n",
            "1975 olds 98 1\n",
            "prius etc 1\n",
            "challenger srt hellcat 6. 1\n",
            "Pointiac Torrent 1\n",
            "benz c3504matic coupe 1\n",
            "equinox *lt* awd 1\n",
            "Any Make / Model 1\n",
            "chassis 3500 6.7l cummings,9ft jumbo ut box, aisin heavy duty 6 spd auto trans! 1\n",
            "1923 Dort Coupe 1\n",
            "Pinzgauer 712 1\n",
            "fit sport w/navi 1\n",
            "Peterbilt 579 1\n",
            "Kenworth T300 Series Convention 1\n",
            "accord ex-l cpe 1\n",
            "International 1100D 1\n",
            "yukon xl denali**dvd*3rd ro 1\n",
            "Oldsmobile Cutlass Hurst 1\n",
            "ux 250h f sport 1\n",
            "challenger srt8 core 1\n",
            "maxima 4dr sdn v6 auto 3.5 se 1\n",
            "f-150 xlt supercrew 4wd 4-speed automatic 1\n",
            "g2500 savana cargo 1\n",
            "Yamaha XV250 1\n",
            "z26 1\n",
            "ISUZU TROOPER 1\n",
            "500l trekkinghatchback 1\n",
            "pulse lightstar 1\n",
            "capiva sport 1\n",
            "prius is 1\n",
            "impreza (new york/new 1\n",
            "volkwagen beetle convertible 1\n",
            "xc60 r type 1\n",
            "elantra sel 2.0l auto 1\n",
            "grand cherokke limited/nav 1\n",
            "new tahoe 4x4 1\n",
            "magnum hemi 1\n",
            "a4 2.0t quattro premium + 1\n",
            "IMPALA 1\n",
            "c15 truck 1\n",
            "Mercedes450 SL 1\n",
            "sebring convertible to 1\n",
            "gn 1\n",
            "tacoma sr5 dbl cab 1\n",
            "cobalt ss supercharged 1\n",
            "1500 big horn 4x4 5.7l hemi 1\n",
            "armada platinum 4wd 5-speed automatic 1\n",
            "FREIGHTLINER M2 STAKE TRUCK 1\n",
            "Leonard Leer 1\n",
            "Oldsmobile Cutlass Ciera 1\n",
            "benz cl550 1\n",
            "titan crew cab truck 1\n",
            "Ptrb truck 1\n",
            "1974 Triumph Spitfire 1500 1\n",
            "toyata camry 1\n",
            "volkswagon passat se 1\n",
            "jetta sportwagen 4dr 1\n",
            "AM GENERAL MV-1 1\n",
            "f250 xl - extended cab 1\n",
            "GM 1\n",
            "accord lx 4dr 1\n",
            "Car Trucks and Suv's. 1\n",
            "w150 club cab 4x4 1\n",
            "f-150 xtnd. cab 1\n",
            "grand cherokee high altitu 1\n",
            "silverado 3500 duramax 1\n",
            "Triumph TR 8 1\n",
            "cherokee sport automatic 1\n",
            "prius c hatchback 1\n",
            "2005 f350 1\n",
            "maxima sv--we finance!! 1\n",
            "ACRUA TSX 1\n",
            "f350 crewcab lariat 4x4 1\n",
            "tacoma 4x4 pre runner 1\n",
            "chyrlser 300 1\n",
            "65 Impala SS 1\n",
            "country squire ltd 1\n",
            "3500 hd dually gas 1\n",
            "National Tropical 1\n",
            "s p100d 1\n",
            "- 4 DOOR ACCORD - SAFETY SENSING 1\n",
            "x3 awd 1\n",
            "explorer xlt**v8,4.6l!! 1\n",
            "fcw170 1\n",
            "x1 x 1\n",
            "210 club coupe 1\n",
            "tdi sportwagen jetta 1\n",
            "tacoma access cab v6 auto 4wd 1\n",
            "ranger 4x4 sport 1\n",
            "x5 sdrive40i 1\n",
            "2008 Freightliner M2 106 1\n",
            "Isuzu Vehicross 1\n",
            "3.0si 1\n",
            "legacy 3.0r 1\n",
            "GCKM WL160 1\n",
            "sierra 1500 slt 4dr crew c 1\n",
            "excursion powerstroke 4wd 1\n",
            "nssan altima 1\n",
            "panamera rwd 1\n",
            "JN1Bj0RR1HM406111 1\n",
            "qx56 4dr suv 1\n",
            "rav-4 4wd 1\n",
            "e60 m5 1\n",
            "MILITARY 3 1/2 ton trailer 1\n",
            "5500 quad cab & chassis 1\n",
            "john deer 1\n",
            "fusion hybrid se automatic 1\n",
            "cr-v ex-l black 1\n",
            "A 1\n",
            "q50 premiun 1\n",
            "Paige 1\n",
            "ats 3.6l premium 1\n",
            "s7 4.0t quattro premium plus 1\n",
            "mighty max pickup 1\n",
            "optima ex hybrid 1\n",
            "Food/Truck 1\n",
            "ml250 1\n",
            "f750 26ft box truck 1\n",
            "3500 no 1\n",
            "lifted f350 deisel 350 4x4 1\n",
            "impala wagon 1\n",
            "camaro z28 indy 500 pa 1\n",
            "wrangler sahara 2d 1\n",
            "Case 310 dozer 1\n",
            "odyssey ex-l touring 1\n",
            "ftwd southwind 1\n",
            "mkz, 4d sedan 1\n",
            "focus st fwd gas hatchback 1\n",
            "cummin 3500 tradesman 1\n",
            "1997 Ranger 1\n",
            "edge r4515 1\n",
            "cts sedan performance 1\n",
            "galant 3.8 1\n",
            "qx60 awd nav 1 owner 1\n",
            "silverado ltz z71 150 1\n",
            "EXPLORER 1\n",
            "Isuzu Pup Diesel 1\n",
            "qx80 4wd v8 1\n",
            "STERLING DUMP TRUCK 1\n",
            "f-150 4wd supercrew 145\" lariat 1\n",
            "c-max r4452a 1\n",
            "suzuki sidekick sport 1\n",
            "300 m 1\n",
            "accord lx 4 dr 1\n",
            "terrain sle automatic 1\n",
            "1500 crew cab hemi 1\n",
            "k20 3/4 ton surburban 1\n",
            "82 cutlass 1\n",
            "f150 crew lariat v8 5.0 1\n",
            "equinox fwd 4dr lt w/1lt 1\n",
            "x3 3.0si awdsuv 1\n",
            "Volkswagon Passat Wagon 1\n",
            "a3 2.0 turbo 1\n",
            "outlook xr awdsuv 1\n",
            "Scion FR-S Monogram 1\n",
            "fj cruiser 4wd auto 1\n",
            "tribute hybrid touring 1\n",
            "Cheverolet 3600 1\n",
            "hiace super custom 4wd jdm van, model lh107 1\n",
            "e350 sd 1\n",
            "cr-v ex automatic 1\n",
            "avalon xl 2008 1\n",
            "willys cj3b 1\n",
            "jx35 base awdsuv 1\n",
            "cj-2 1\n",
            "f550 xl - 25ft crane 1\n",
            "428i 428i 1\n",
            "acadia fwd 4dr denali 1\n",
            "22re 1\n",
            "335i 335i 1\n",
            "Scion FRS 1\n",
            "Rolls-Royce Wraith 1\n",
            "blazer 4x4 ls 1\n",
            "e350 xl ext 6 pass van 1\n",
            "passat 2.0l tdi se 1\n",
            "e-series van ** high roof** wheelchair 1\n",
            "super duty e-250 1\n",
            "Mack CV713 1\n",
            "town & country touring w/ sto-n-go 1\n",
            "2500hd classic 1\n",
            "sienna 5dr 8-pass van v6 1\n",
            "GMC, sierra 1\n",
            "grand caravan minivan 1\n",
            "2016 F45-750 1\n",
            "international prostar premium 1\n",
            "c43 1\n",
            "Roadtrek 190 Versatile 1\n",
            "scion tc release series 1\n",
            "Sprinter 3500 Box Truck 1\n",
            "2000 Outback Limited 1\n",
            "cr-v crv ex-l 1\n",
            "f150 xl supercab 1\n",
            "3 series 328i 2dr 1\n",
            "accord ex-l 3.5l v6 1\n",
            "silverado lt double 1\n",
            "eagle premier 1\n",
            "eclipse gst 1\n",
            "HONO 268 1\n",
            "escalade 4wd 4dr platinum 1\n",
            "MAZDA3 ISPORT 1\n",
            "2013 freightliner cascadia 1\n",
            "Quigley Conversion 1\n",
            "1500 st rwd 1\n",
            "Flex 1\n",
            "journey limited 1\n",
            "new beetle cabrio 1\n",
            "2002 Montero XLS 1\n",
            "e350 deisel 1\n",
            "voyager l 1\n",
            "q50s awd 1\n",
            "x5 35i awd 1 owner 1\n",
            "corvette t-top 1\n",
            "x1 s type 1\n",
            "murano le awd 3.5 v6 1\n",
            "grand cherokee limited | 1\n",
            "f-pace 30t r-sport suv 4d 1\n",
            "accord 4dr i4 cvt sport 1\n",
            "2000 ML 430 1\n",
            "Yamaha XVS1100 1\n",
            "m4 package 1\n",
            "dart 4dr sdn sxt 1\n",
            "Fors Shelby GT 1\n",
            "f-150 stx supercrew 1\n",
            "tundra 4wd truck sr5 automatic 1\n",
            "1931 Studebaker 1\n",
            "touareg wolfsburg awd 1\n",
            "a3 tdi premium 1\n",
            "camaro 2dr cpe 2lt 1\n",
            "legacy outback xt 1\n",
            "passat 2.5l s sedan 1\n",
            "legacy premium sedan this car is ready to go! 1\n",
            "3 series 330i xdrive gran t 1\n",
            "2500 diesel truck 6.7l turbo diesel laramie one owner 1\n",
            "2014 SCION FR-S 1\n",
            "Conversion van 1\n",
            "grand caravan se dvd 1\n",
            "1600 roadster 1\n",
            "a4 quattro awd 1\n",
            "CHEVEROLET SONIC 1\n",
            "acadia slt-1 107k 3rd row leather dvd backup camera 1\n",
            "f-350 super duty xl 4dr sup 1\n",
            "3500 laramie slt 1\n",
            "lt 1\n",
            "q5 2.0t premium 4wd 1\n",
            "expedition king ranch 4x4 1\n",
            "xc90 r-design awd 1\n",
            "fordf-150xlt 4x4 - ecoboost cle 1\n",
            "stealth es 1\n",
            "international 9400i 1\n",
            "e63s 1\n",
            "frontier s 4x2king cab 1\n",
            "q3 prestige awd 1\n",
            "a5 2.0t prestige coupe 2d 1\n",
            "e350 high roof cargo van 1\n",
            "Toyoya Tundra 1\n",
            "cayenne gts awdsuv 1\n",
            "f15o fx4 sport 1\n",
            "Land Crusier FJ55 1\n",
            "citation 1\n",
            "2500 laramie crew cab 4x4 1\n",
            "f-150 fx2 lifted super crew 1\n",
            "hardtop 2 door cooper s fw 1\n",
            "rogue s fwd 1\n",
            "ex-cab z-71 4x4 1\n",
            "impreza 2.0i sport ltd 1\n",
            "300 lxsedan 1\n",
            "kodial 5500 1\n",
            "silverado 3500hd ltz 4 1\n",
            "kenworth t700 1\n",
            "roadmaster sedan 1\n",
            "sierra sle 2500hd 1\n",
            "RX8 1\n",
            "windstar gl 1\n",
            "trasit 250 1\n",
            "1981 TRI-MAGNUM 1\n",
            "collins bus 1\n",
            "is 250 luxury sedan / v6 2.5 l / moon roof / heated & cooled leather / fully loaded 1\n",
            "89 suburban 1500 1\n",
            "discovery hse sport 1\n",
            "350z - fairlady z 1\n",
            "MGB 1979 Classic 1\n",
            "crosstrek 2.0i premium aw 1\n",
            "explorer 4dr 114 wb xls 4wd 1\n",
            "sw 1\n",
            "chrystler 300 1\n",
            "Toyota, Rav4 1\n",
            "soul urban special edition 1\n",
            "f-150 raptor 4wd supercrew 5.5' box 1\n",
            "996 turbo 1\n",
            "200 limited platinum 1\n",
            "fj cruiser 4dr auto 1\n",
            "e-series van e-250 class b conversion camper rv van class b motorhome campervan high roof rv camper van -motorhome great service history 1\n",
            "durango slt (hemi) 1\n",
            "280sl 1\n",
            "impreza wagon outback sport new head gaskets & timing belt 1\n",
            "terrrain 1\n",
            "centra sr 1\n",
            "pacifica touring plus 4 1\n",
            "f-150 2wd supercrew 145 fx2 1\n",
            "87 s-10 1\n",
            "Keep Grand Cherokee 1\n",
            "Chev. Tahoe LT 1\n",
            "srx luxory collection 1\n",
            "charger rt awd 1\n",
            "passat 4motion 1\n",
            "230i convertible 1\n",
            "impreza 2.5 i awd sedan 1\n",
            "2006 isuzu npr 1\n",
            "Chrsysler Town & Country 1\n",
            "rx 350 sport 1\n",
            "Zenith 1\n",
            "express 3500 ext 1\n",
            "accord exvl 1\n",
            "Prius Hatchback 1\n",
            "forda fiesta se 1\n",
            "yokon xl 1\n",
            "q7 quattro prestige sline 1\n",
            "500x trekking 1\n",
            "tundra tss 1\n",
            "altima 2.5 sl 4dr sedan 1\n",
            "corolla/s/ *90 day warran 1\n",
            "yukon xl denali! 1\n",
            "sante fe sport 2.0t 1\n",
            "Genesis 4.6 1\n",
            "explorer ltd 1\n",
            "2005 3500. Utility van 1\n",
            "f350 crew flatbed 4x4 1\n",
            "enclave awd premium 1\n",
            "xterra 4x4 s 1\n",
            "sierra sle crew cab 1\n",
            "gl-class gl350 bluetec suv 1\n",
            "arcadia slt awd 1\n",
            "s-class s600 1\n",
            "e-450 cutaway e-450 sd drw 1\n",
            "a4 and a6 1\n",
            "st 1\n",
            "1935 Austin Nippy 1\n",
            "triumph gt6 1\n",
            "charger sedan 1\n",
            "mks ecoboost awd luxury 1\n",
            "colorado 4wd work 1\n",
            "yukon 1500 4wd 1\n",
            "caviler 1\n",
            "f-550 11ft flatbed 1\n",
            "colorado 1lt crew cab 1\n",
            "Packard 110 sedan 1\n",
            "cr-v * clean carfax! 1\n",
            "tacpoma double cab 4x4 1\n",
            "soul ex wagon 4d 1\n",
            "BMW, 328i 1\n",
            "civic cpe 2dr at lx 1\n",
            "3-window coupe 1\n",
            "taurus sel - awd 1\n",
            "cr-v ex-l one owner car!!! 1\n",
            "Caterham 280R 1\n",
            "venza awd xle 1\n",
            "3 select fwd gas sedan 1\n",
            "c-class c 63 s am 1\n",
            "sl 450r 1\n",
            "1500 quad cab hemi 1\n",
            "benz ml55 1\n",
            "s60 t5 dynamic 1\n",
            "sienna 5dr 8-pass van xle fwd (natl) 1\n",
            "titan sl c c 4x4 1\n",
            "a8 l 3.0 tfsi 1\n",
            "impreza awd premium wagon 1\n",
            "jetta gli se turbo 1\n",
            "g3500 cube van 1\n",
            "club wagon chateau 1\n",
            "x5 xdrive 5.0i 1\n",
            "soul + hatchback 1\n",
            "renegade altitude fwd 1\n",
            "rouge select 1\n",
            "Trade ins 1\n",
            "06 F250 Lariat 1\n",
            "custom deluxe 20 1\n",
            "impreza wrx wrx premium 1\n",
            "Scion TC 2dr Hatchback 1\n",
            "3500 diesel truck 6.7l tradesman 4 door crew cab long bed 1\n",
            "Accord LX 1\n",
            "savana van 1\n",
            "club car 1\n",
            "Chysler Town and Country Limited 1\n",
            "f-350 flatbed drw liftgate 1\n",
            "amc ambassador 1\n",
            "2017 200t fsport 1\n",
            "3500 sprinter vans 1\n",
            "sierra 1500 denali 4wd 1\n",
            "mariner escape tribute 1\n",
            "remeo 1\n",
            "pathfinder sl 4wd / 3rd seat / blind spot / leather / 360 cameras / 39k miles / factory warranty 1\n",
            "f-100 panel 1\n",
            "2014 Town & Country BraunAbility 1\n",
            "charger v6 awd 1\n",
            "12’ flatbed atruck 1\n",
            "taurus and blazer 2001 1\n",
            "1993 International Road Tractor 1\n",
            "silverado 1500 2wd crew cab 143.5\" lt w/1lt 1\n",
            "1995 thunderbird 1\n",
            "cvr 1\n",
            "journey fwdsxt 1\n",
            "Chrsler LHS 1\n",
            "tacoma long bed sr5 1\n",
            "trailblazer ext lo 1\n",
            "300 c rwd 1\n",
            "mazd6 1\n",
            "jetta sedan 1.4t se 1\n",
            "International b32 1\n",
            "enclave cxl 1 awd 1\n",
            "cx-3 sport awd 1\n",
            "Cadilla CTS 1\n",
            "Honday Odyssey EX-L 1\n",
            "charger pursuit 5.7l v8 1\n",
            "malibu ls fwd 1\n",
            "skyline r32 gts-t 1\n",
            "cc r line 1\n",
            "1988 Nisan 1\n",
            "Freightliner M2-106 1\n",
            "1978 El Camino 1\n",
            "f350 sd 1\n",
            "535i m sport 1\n",
            "rogue *star wars edition 1\n",
            "3 series 328i 4dr sedan sul 1\n",
            "mustang shelby gt-500 1\n",
            "encore leather awd 1\n",
            "flex limited automatic 1\n",
            "sierra lt 1\n",
            "evoke 1\n",
            "f-150 short bed 1\n",
            "fiesta se 4dr sedan 1\n",
            "m models competition 1\n",
            "WVWWF7AU5HW191345 1\n",
            "LINCOL TOWN CAR 1\n",
            "mark v11 1\n",
            "3 series m340i sedan north 1\n",
            "2004 SUZUKI AERIO LX 1\n",
            "f450 diesels power stroke 1\n",
            "f150 xcab 1\n",
            "06 Colorado Extreme 1\n",
            "Saab 97x 1\n",
            "wrangler se 2dr 4x4 tj 1\n",
            "ODGE GRAND CARAVAN SE 1\n",
            "Volks Wagen Jetta GLI 1\n",
            "/ vmi ♿ 1\n",
            "genesis **navigation, 1\n",
            "diamante sdn ls 3. 1\n",
            "FORD/F-150 XLT ECOBOOST 1\n",
            "Hummer H2 SUT 4WD 1\n",
            "mbz e350 1\n",
            "sand rail 1\n",
            "forte 5 sxt gdi turbo 1\n",
            "3500 deisel cummins crew cab 1\n",
            "xf 35t r-sport rwd 1\n",
            "CORVETTE  CONVERTIBLE 1\n",
            "caddilac escalade esv 2006 1\n",
            "camero ss 1le 1\n",
            "enclave nav leather 1\n",
            "PETERBUILT 379 1\n",
            "benz c300 sport v6 1\n",
            "f-250 super duty xlt 4x4 4d 1\n",
            "Kenworth K270 1\n",
            "charity plug-in touring 1\n",
            "any and every 1\n",
            "sable ls 4dr sedan 1\n",
            "Chysler Sebring 1\n",
            "boxster 986 1\n",
            "AMC Pacer 1\n",
            "wranlger 1\n",
            "e350 wagon 1\n",
            "mustang gt 35th anniversary 1\n",
            "300 'l' 1\n",
            "outlander sel fwd 1\n",
            "escalade 4wd 1\n",
            "dunebuggy 1\n",
            "silverado 3500 diesel trucks 6.6l duramax utility bed with lumber rack 1\n",
            "charger sxt-*leather*v6,3 1\n",
            "mdx sh awd gas suv auto 1\n",
            "hse adap 1\n",
            "RX 330 1\n",
            "legacy gt awd 1\n",
            "silverado 1500 ltz z 1\n",
            "𝓜𝓮𝓻𝓬𝓮𝓭𝓮𝓼 𝓫𝓮𝓷𝔃 𝓶𝓵 350 1\n",
            "Dode Nitro 1\n",
            "2015 Isuzu NQR 1\n",
            "1500 2wd crew cab 140.5 spor 1\n",
            "924s special edition 1\n",
            "rx 350 f spport 1\n",
            "express duramax g4500 1\n",
            "67 Cougar 1\n",
            "corolla 4dr sdn cvt le eco (natl) 1\n",
            "DODGE1500 1\n",
            "silverado ltz 2500 hd 1\n",
            "avalon xlssedan 1\n",
            "terrain sle2 awd 1\n",
            "outback 2.5 limitd awd 1\n",
            "911 carrera gts 1\n",
            "benz metris cargo van 1\n",
            "Cobra industries Inc. 1\n",
            "cx-9 sport awd 1\n",
            "altima 3.5 se sedan 4d 1\n",
            "monterrey breezeway 1\n",
            "rav4 2wd 4dr 4-cyl sport (natl) 1\n",
            "Oldsmobile Alero GL 1\n",
            "a5 prestige sedan 4d 1\n",
            "hummer h2 4x4 suv 1\n",
            "sabre 1300 1\n",
            "RAN 1\n",
            "x5 m sport 1\n",
            "Dump Trailer 10ft x 6ft 1\n",
            "xl 1\n",
            "f-150 xl extended cab 1\n",
            "725i 1\n",
            "limited edition 1\n",
            "Merz 500se 1\n",
            "international pro star 1\n",
            "dakota slt 4x2 1\n",
            "Volskwagen Jetta TDI 1\n",
            "328xi m-sport 1\n",
            "tundra off road 4x4 1\n",
            "Cheverolet Van 1\n",
            "f150 xl single cab 1\n",
            "metro lsi 1\n",
            "x3 m sport 1\n",
            "expedition limited el 1\n",
            "Peterbilt 337 Dump Truck 1\n",
            "tundra trd sport 1\n",
            "prius base 4dr hatchback 1\n",
            "jetta sedan 4dr auto s 1\n",
            "Hummer H2 4x4 1\n",
            "braughm 1\n",
            "3500 dually cummins 1\n",
            "focus rs awd gas hatchback 1\n",
            "Isuzu I350 Quad Cab  Z71 4X4 1\n",
            "f-150 v8 supercrew 1\n",
            "ranch wagon 2dr. 1\n",
            "Fore Mustang GT 1\n",
            "1999 oldsmobile aurora 1\n",
            "civic ex- l 1\n",
            "300 d 1\n",
            "rav4 xle awd suv 1\n",
            "outback ll bean h6 wgn 1\n",
            "sonic lt hb 1\n",
            "mirage de - 3 months / 3,000 miles limited warranty 1\n",
            "stinger awd 1\n",
            "1500hd 1\n",
            "benz c220 1\n",
            "journey avp 1\n",
            "f-150 lariat 4x4 4door 1\n",
            "TOYOTY ECHO 1\n",
            "Suzuki XL7 Special Edition w/3rd 1\n",
            "cooper turbo 1\n",
            "rnger 1\n",
            "2006 pete 1\n",
            "e250 v6 4.9l 1\n",
            "f-350 super duty lariat 4 1\n",
            "sonic premier auto 1\n",
            "Big Dog Bulldog 1\n",
            "4.6 hse 1\n",
            "altima 2.5 s bluetooth f 1\n",
            "c20 panel 1\n",
            "q60 convertible 2d 1\n",
            "portage 1\n",
            "KEYS Carbon 1\n",
            "benz sl560 1\n",
            "tl 4dr sdn 2wd tech 1\n",
            "Volkswagens JETTA SE 1\n",
            "1983 mustang 1\n",
            "tacoma v6 sr5 4wd 1\n",
            "Amc ambassador 1\n",
            "silverado 1500 texas 1\n",
            "rubicon 4wd manual 1\n",
            "milan v6 premier awd 1\n",
            "x3 3.0i 4x4 1\n",
            "128 i coupe 1\n",
            "2006Volvo VNL780 1\n",
            "phaeton premiere edit 1\n",
            "f-150 fx4 4x4supercrew 1\n",
            "yukon xl denali 4wd 1\n",
            "wrangler sahara 94k 6 speed manual hardtop bfg's ac air conditioning 35\" bfgs lifted 2 door 1\n",
            "Hummer M998 1\n",
            "1997 toy t100 1\n",
            "f-150 platinum 4wd supercrew 5.5' box 1\n",
            "acadia 4dr slt w/slt-1 1\n",
            "cargo van l32,ooo 1\n",
            "UD/NISSAN 1\n",
            "2500 slt 4x4 mega cab 6'4\" box 1\n",
            "3500 long bed dually 1\n",
            "lifted gladiator sport 4x4 1\n",
            "s450 1\n",
            "250 super duty xl 1\n",
            "Dogde grand caravan 1\n",
            "Keystone cougar 1\n",
            "2017 MASERATI LEVANTE 1\n",
            "2013chevy equinox lt 1\n",
            "CASE 621C 1\n",
            "1500 rebel 4x4 1\n",
            "g35 coupe sport 1\n",
            "e550 e-550 1\n",
            "1500 laramie slt 5.9 1\n",
            "xj l supercharged 1\n",
            "2001 Ford-F350 1\n",
            "912 e 1\n",
            "ISUZU NPR 14FT BOX VAN,1600LB LIFT GATE,  3.0L TURBO DIESEL 1\n",
            "1958 1\n",
            "forester automatic 2.5x 1\n",
            "envoy xl 4wd 1\n",
            "armada sv automatic 1\n",
            "ranchero gt brougham 1\n",
            "cayon 1\n",
            "armada,platinum 1\n",
            "econoline e250 cargo van 1\n",
            "ranger xlt xcab 4x4 1\n",
            "outback 2.5i premium 4d 1\n",
            "dart gt 270 2-door ht 1\n",
            "master ace surf 1\n",
            "BMY M923A2 1\n",
            "x3 awd 4dr xdrive28i 1\n",
            "ct 200h 4dr hatchback 1\n",
            "altima 3.5 se 2dr 1\n",
            "passat 1.8t s auto 1\n",
            "Cherolet Corvette 1\n",
            "civic sport hatch back 1\n",
            "accord 2014 1\n",
            "2.0 liter turbo 1\n",
            "Chevrolet/Trailblazer 1\n",
            "malibu ltz1 1\n",
            "b-3b 1\n",
            "2500hd crew cab 4x4 1\n",
            "elantra sel carfax 1\n",
            "ranger xlt supercab 2wd - 1\n",
            "1500 quadcab slt 1\n",
            "altima 2.5 sv automatic 1\n",
            "f-150 xlt sport 1\n",
            "terrain 2015 1\n",
            "a5 2.0t premium 1\n",
            "2010 Passet turbo 1\n",
            "i3 120ah 1\n",
            "tacoma trd sport double cab 6' bed v6 4x2 at (natl) 1\n",
            "s60 dynamic 1\n",
            "cummings 1\n",
            "s4 quattro premium plus 1\n",
            "accord sedan sport 1.5t cvt w/ bluetooth 1\n",
            "prius hybrid v 1\n",
            "m-class ml63 amg 1\n",
            "cng ngv natural gas 1\n",
            "e46 1\n",
            "ranger supercrew lariat 4x4 1\n",
            "American Motors AMX 1\n",
            "a4 quattro 3.0 1\n",
            "v90 cross country 1\n",
            "1965 mustang fastback 1\n",
            "2015 smart fortwo 1\n",
            "olet Express Passenger 1\n",
            "wrx premium awd gas sedan 1\n",
            "trailblazer ls ls 4dr suv 1\n",
            "1998 oldsmobile aurora 1\n",
            "2008 passion CPE 1\n",
            "m3 e46 convertible 1\n",
            "cx-9 4dr grand touring 1\n",
            "1954 Packard Patrician Limousine 1\n",
            "650c 2001 1\n",
            "fit ex-l 5 doors only 54k leather moon gps 2 owner 1\n",
            "q5 quattro premium plus awd 1\n",
            "forte ex hatchback 5d 1\n",
            "prius v two cvt 1\n",
            "f-150 pickup truck 1\n",
            "charger 4dr sedan rallye 1\n",
            "120y 1\n",
            "t2 camper 1\n",
            "1950 Plymouth Coupe 1\n",
            "5 series 528i sedan 1\n",
            "MUSTANH 1\n",
            "928 s 1\n",
            "mustang deluxe convertible 1\n",
            "xterra 4dr xe 2wd v6 auto 1\n",
            "hiunday sonata 1\n",
            "Passat 1\n",
            "1929 Ford. 1\n",
            "1993 1\n",
            "blazer ls 4dr ls 1\n",
            "transit 150 extended cargo van 1\n",
            "525it 1\n",
            "odyssey ex w/navi 4dr min 1\n",
            "M-Class. ML 350 Sport Utility 4D 1\n",
            "rogue s**back up cam*fue 1\n",
            "renegade latitude fwd gas 1\n",
            "335ix 1\n",
            "HTLD PIONEER 1\n",
            "freightliner fl112 1\n",
            "f-250 super duty 20km crew cab 1\n",
            "bus kk35 1\n",
            "f-150 supercab 1\n",
            "1959 Edsel Ranger 4D Sedan 1\n",
            "2000 Mustang gt 1\n",
            "f-250 4wd 1\n",
            "Keystone copper canyon 1\n",
            "escalade luxury edition 1\n",
            "DELAVAN 2878 1\n",
            "impala sdn ls 1\n",
            "4runner sr5 v6 1\n",
            "corvette stingray 2d 1\n",
            "inc 1\n",
            "expedition el xl 4x4 1\n",
            "prius hybrid iv 1\n",
            "3z 1\n",
            "durango limited 4wd 1\n",
            "silverado w/t 1\n",
            "sorrnto 1\n",
            "EASY CAR DEALS NOW 1\n",
            "17 Focus base 1\n",
            "outback touring xt 1\n",
            "royal 1\n",
            "f 250 4x4 fx4 lariat diesel 1\n",
            "f45 1\n",
            "escape se awdsuv 1\n",
            "2 series 2dr cpe 228i rwd 1\n",
            "f350 tow truck 1\n",
            "soul + 2.0l 117k 2-owner super clean 29mpg 1\n",
            "international loadstar 1\n",
            "2500 4x4 laramie diesel 1\n",
            "c/t hicube 1\n",
            "j200 gladiator 1\n",
            "forte ex gdi 1\n",
            "911/996 carrera cab 1\n",
            "f150 off road 1\n",
            "soul 1-owner **30mpg** new tires 1\n",
            "murano crosscabriolet awd 1\n",
            "gli 30th edition 1\n",
            "a6 avant 1\n",
            "k15 silverado 1\n",
            "500l 5dr hb lounge 1\n",
            "5 series 550i xdrive**navi* 1\n",
            "cx-3 sport suv 4d 1\n",
            "concord 1\n",
            "2500 ls 1\n",
            "f5500sd 1\n",
            "Chevelle SS Convertible 1\n",
            "e350 convertible 1\n",
            "-150 xlt 1\n",
            "santa fe se 2.4 1\n",
            "Promaster 2500 High 1\n",
            "eurovan mv weekender bus 5 speed manual rear bed 1\n",
            "transit t250 xl bus 1\n",
            "k1500 z71 extended cab 1\n",
            "freestar limited van 1\n",
            "wrangler sport x unlimited 1\n",
            "edge selcrossover 1\n",
            "accord 4dr i4 cvt ex-l 1\n",
            "saab convertible 1\n",
            "q70 hybrid 1\n",
            "Promaster City 1\n",
            "Isuzu NPR 2008 1\n",
            "2001 workhorse customs 1\n",
            "benz sl5pp 1\n",
            "pacifica hybrid touring 1\n",
            "x5 3.0 1\n",
            "356 b super 90 cpe 1\n",
            "Pups 1\n",
            "outback 2.5i se 1\n",
            "Transit 250 High Roof 1\n",
            "captiva ltz sport 1\n",
            "prius c le hatchback 4d 1\n",
            "1976 Monte Carlo 1\n",
            "FX/4 CREW CAB F15O 1\n",
            "2017 3.6R 1\n",
            "transit connect wago 1\n",
            "2006 lbz diesel 1\n",
            "benz e320w4 1\n",
            "rc 300 base 1\n",
            "c-max energi titanium fwd 1\n",
            "2001 PT Cruiser 1\n",
            "grand caravan se*fuel eco 1\n",
            "Scion IQ 1\n",
            "rx350 suv awd 1\n",
            "jetta gls 1.8t 4dr t 1\n",
            "s6 awd 5.2 quattro 1\n",
            "econoline wagon xlt 1\n",
            "s3 2.0t premium plus 1\n",
            "wrx base 1\n",
            "grand caravan sxt 4d passenger van automatic 1\n",
            "f-250 xl service body 1\n",
            "freightliner m2106 1\n",
            "cooper coupe 1\n",
            "benz amg gts 1\n",
            "1500 silverado sierra 1\n",
            "2007CHEVY SILVERADO  1500 1\n",
            "Sedan............ 1\n",
            "f250 xlt super duty 4dr 1\n",
            "evoque pure plus 1\n",
            "BMW/3 SERIES 1\n",
            "2002 Oldsmobile Bravada 1\n",
            "corvette coupe 6.0l v 1\n",
            "seinna 1\n",
            "3500 & kaufman 1\n",
            "Saab 9-3 Aero Convertible Only 77K Leather GPS 1 OWNER 1\n",
            "slt promaster cargo van 1\n",
            "Acuride 1\n",
            "a3 sedan premium 1\n",
            "1972 Plymouth Satellite 1\n",
            "utility 1\n",
            "x5 awd xdrive35i premium 1\n",
            "silverado 1500 4wd crew cab 143.5\" ltz 1\n",
            "focus ses sedan 4d 1\n",
            "300 c 5.7 hami 1\n",
            "expedition 5.4l xlt 4wd 1\n",
            "c-max hybrid titanium 1\n",
            "cx-9 grand touring 4x4 1\n",
            "1997 Isuzu NPR 1\n",
            "tt 225hp quattro 1\n",
            "Saab 93 2.0 Turbo 1\n",
            "challenger srt demon 1\n",
            "fd-150 1\n",
            "tacoma 4x2 *prerunner 4dr access cab 6.1 sb 4a *1-owner* local *truck 1\n",
            "odyssey ex w/ dvd 1\n",
            "f150 4wd f-150 4x4 lariat 1\n",
            "versa hatchback sv 1\n",
            "Tacoma PreRunner V6 Double-Cab 1\n",
            "camaro lt rwd gas auto 1\n",
            "raiders 1\n",
            "qx80 limited awd 1\n",
            "benz r-350 1\n",
            "sierra 3500 diesel truck 6.6l duramax denali 6 speed allison 1000 1\n",
            "super duty f-250 pickup la 1\n",
            "sierra 3500hd diesel 1\n",
            "fiero 2m4 1\n",
            "larami long horn 4x4 leather 1\n",
            "outbback awd 1\n",
            "camry le 2.4l 1\n",
            "trailblazer lt extd 1\n",
            "civic sdn 4dr auto ex-l 1\n",
            "wrx awd gas sedan manual 1\n",
            "e-class e 550 2dr 1\n",
            "Accura MDX Technology 1\n",
            "optima lx fwd 1\n",
            "Charger tahoe explorer 1\n",
            "equinox lt fwd 1\n",
            "3 series 330i xdrive**navi* 1\n",
            "safari awd van 1\n",
            "safari slt 1\n",
            "Compass 1\n",
            "1993 300ZX 1\n",
            "sienna le ada braun conversion deep floors wheel chair 1\n",
            "sierra c3 1\n",
            "monterey luxury 1\n",
            "Totyota tundra sr5 1\n",
            "91 Corvette 1\n",
            "flhtkse 1\n",
            "a6 3.2 sw 1\n",
            "tacoma double cab 4x4 / v6 3.4 l / oregon truck / timing belt + water pump replaced / 1-owner / low miles 1\n",
            "1500 f150 1\n",
            "a4 4dr sdn auto quattro 2. 1\n",
            "c-v tradesman 1\n",
            "exploror xlt 1\n",
            "titan 5.6 le 1\n",
            "malibu ltz 2.4 1\n",
            "1997 CAMARO 1\n",
            "2015 Peterbuilt Glider Kit 1\n",
            "1FTFW1CT4CFA04302 1\n",
            "07 Freightliner M2 Dump Plow 1\n",
            "1500 quad cab 140.5 st 1\n",
            "express 2500hd 1\n",
            "sonett 3 1\n",
            "f-350 sd fx4 crew cab 1\n",
            "2000 Tour Bus 1\n",
            "GENESIS G80 AWD 1\n",
            "Dose Grand Caravan 1\n",
            "71 MONTE CARLO 1\n",
            "FTWD Wilderness 1\n",
            "ranger unlimited rubicon 1\n",
            "WV 1\n",
            "mega cab 1\n",
            "NEW HEAD GASKETS & TIMING BELT 1\n",
            "laramie 1500 1\n",
            "520 1\n",
            "Oldsmobile 98 Regency 1\n",
            "sierra 3500hd available 1\n",
            "Oldsmobile Cutlass S Convertible 1\n",
            "mdx tech package awd 1\n",
            "By Rackit 1\n",
            "335i sport convertible 1\n",
            "e-350 church camp bus 1\n",
            "INTERNATIONAL MF035 1\n",
            "international 4600 1\n",
            "t-150 130\" low roof cargo 1\n",
            "srx v6 1\n",
            "Fuel 1\n",
            "International 9300 1\n",
            "Dode challenger 1\n",
            "gl550 4matic awd v 1\n",
            "rogue s sport 1\n",
            "optima lxs 1\n",
            "x1 sdrive28i sdrive28i 1\n",
            "3500 truck 1\n",
            "silverado k2500 4x4 pickup 1\n",
            "viper srt10 1\n",
            "forester 2.5 premium 1\n",
            "Fakery LE 1\n",
            "Studebaker Golden Hawk 1\n",
            "f-150 4x4 lariet 1\n",
            "DaimlerChrysler CROSSFIRE 1\n",
            "k1500 suburban 1\n",
            "Linclon MKX 1\n",
            "Trailblazer EXT 1\n",
            "2500hd 4x4 duramax 1\n",
            "mazda3 sedan 1\n",
            "2015 hyunda Genesis 1\n",
            "tahoe lt 4wdsuv 1\n",
            "stingray 1\n",
            "bentley continental gtc 1\n",
            "Chevy,Ford, International 1\n",
            "nv3500hd passenger van 1\n",
            "Toyta Rav4 1\n",
            "Kenworth & Peterbilt's 1\n",
            "evoque 2012 land rove 1\n",
            "lancer evolution 8 1\n",
            "1971 f-350 1\n",
            "patriot sport se 4x4 1\n",
            "charger r/t 392 1\n",
            "535i m sport package 1\n",
            "anything 1\n",
            "500c convertible 1\n",
            "tucson walking dead 1\n",
            "ranger xlt 2dr supercab 1\n",
            "slk-class slk320 1\n",
            "Cobra SSK 1\n",
            "c10 cst 1\n",
            "gti vr6 2dr hatchbac 1\n",
            "altima 2.5 sl cvt 1\n",
            "Toyota, Highlander 1\n",
            "328i cabriolet stunning & sharp, 1\n",
            "Mazda3 S GT 1\n",
            "Camaro SS 1\n",
            "benz sprinter van 1\n",
            "truck d100 1\n",
            "a5 prem plus convertible 1\n",
            "s-type 3.0 rwd 1\n",
            "crew cab dually 3500 1\n",
            "deuce sedan 1\n",
            "long bed 4x4 1\n",
            "f350 4x4 super duty 1\n",
            "Corvette Coupe Z51 1\n",
            "suburban ls 4x4 1\n",
            "MB SL 400 1\n",
            "fit cvt lx automatic 1\n",
            "2004 Envoy 1\n",
            "4runner trd pro 4x4 1\n",
            "convertible sebring 1\n",
            "xts professional 1\n",
            "International 1654 1\n",
            "cayenne awd 4dr diesel 1\n",
            "passat 2.0 turbo 1\n",
            "eos final edition 1\n",
            "plymouth coupe 1\n",
            "s3 2.0t quattro prestige 1\n",
            "2007 MAZDA3 Sport Hatchback 1\n",
            "2500 HD 4WD  6.0L 2016 1\n",
            "Chevey Cavalier 1\n",
            "protege5 base 1\n",
            "tercel dx 2dr coupe 1\n",
            "ITI QX80 1\n",
            "cayenne base 1\n",
            "2003 International 4300 1\n",
            "SL600 1\n",
            "MOST MODELS 1\n",
            "mazdaspeed3 sport 4dr wag 1\n",
            "2004 pt cruiser 1\n",
            "vibe 1sb 1\n",
            "cx-5 awd touring pkg 1\n",
            "forester awd 2.5x 4dr wag 1\n",
            "1978 LincolnTown Cars 1\n",
            "wrangler unlimited 4 door 1\n",
            "sierra 2500hd 4x4 slt 1\n",
            "TEREX CRANE 1\n",
            "NIISAN FRONTIER 1\n",
            "2005 f250 1\n",
            "focus se 4dr sedan 1\n",
            "f-150 limited automatic 1\n",
            "tahoe lt1 1\n",
            "maibu maxx 1\n",
            "colorado deisel durmax 1\n",
            "miata sold!!! 1\n",
            "4runner sr-5 sport 2wd--we finance!! 1\n",
            "accord lx 4dr 5 speed 1\n",
            "camaro 2ss coupe 1\n",
            "1C4RJFLG6JC191200 1\n",
            "3 series ** sunroof, 1\n",
            "hyndai santa fe sport 1\n",
            "Dad he Caravan 1\n",
            "1935 International 1\n",
            "forte exsedan 4a 1\n",
            "liberty 75 anniversary 1\n",
            "Mazdza3 1\n",
            "Pitts LP40-4L 1\n",
            "sebring tour. 1\n",
            "Mercedez Benz  ML350 1\n",
            "international 3200 1\n",
            "1992 International 4900 1\n",
            "MG midget 1275 1\n",
            "q7 3.6 1\n",
            "plymouth laser 1\n",
            "Lada 1\n",
            "escape se ecoboost i4 turbo fwd 1\n",
            "is is 300 f sport rwd 1\n",
            "ml350, awd, loaded, luxurious, 1\n",
            "Mack Vision cxn-613 1\n",
            "civic hybrid 4dr sedan 1\n",
            "cruze limited eco 1\n",
            "Bugatti 1\n",
            "f-150 4-dr lariat 1\n",
            "journey se 4dr suv tv 1\n",
            "1987 f150 1\n",
            "2019 Raptor 1\n",
            "g37 jounry 1\n",
            "Factory Five 33 1\n",
            "tls 1\n",
            "ats 2.5l 1\n",
            "maybach s560 1\n",
            "tacoma prerunner truck 1\n",
            "200 lxsedan 1\n",
            "1500 w/ plow 4x4 1\n",
            "e150 econoline conversion 1\n",
            "prius iv 4 1\n",
            "1976 Cheyenne 4x4 1\n",
            "3/4 ton c20 custom cab 1\n",
            "Freightliner 4x4 1\n",
            "peterbilt 357 1\n",
            "Audio A3 2.0T 1\n",
            "terrain sel 1\n",
            "328i xdrive gran turismo 1\n",
            "accorx 1\n",
            "1500 limited crew cab 1\n",
            "titan xd sv 4x4 1/2 ton 1\n",
            "versa note fuel economy! 1\n",
            "f450 lariat 4wd 1\n",
            "cl-class cl 500 c 1\n",
            "Maybach 57S 1\n",
            "1500 quad cab sxt 1\n",
            "olds cutlass 1\n",
            "sierra 1500 denali! 1\n",
            "vue wagon 1\n",
            "eagle 1\n",
            "1953 victoria 1\n",
            "wrx sti limited awd 1\n",
            "xf 20d premium -- diese 1\n",
            "rogue sport sl utility 4d 1\n",
            "Toyoya Tacoma 1\n",
            "international step side half ton 1\n",
            "1983 Mustange Convertible 1\n",
            "avalanche 4wd z71 1\n",
            "promaster 3500 159\" 1\n",
            "soul bluetooth power window 1\n",
            "altima 2.5 s*back up cam 1\n",
            "sierra 1500 slt crew cab 143 1\n",
            "rav4 awd v6 1\n",
            "f-150 4wd supercrew 157\" xlt 1\n",
            "sierra 1500 sleextended 1\n",
            "GEM E825 1\n",
            "q5 3.0 quattro prestige 1\n",
            "08' mkz 79,ooo mi. 1\n",
            "GRAND CHEROKEE SUV 1\n",
            "tahoe 4x4 lt 1\n",
            "accord lx se 1\n",
            "corvette z06 w/3lt 1\n",
            "Infintiti G35 1\n",
            "catalina 400 1\n",
            "rav4 limited 4wd nav 1\n",
            "accord ex-l sedan 4d automatic 1\n",
            "i3 giga 1\n",
            "5500 st chassis diesel 1\n",
            "Land+Rover Discovery 1\n",
            "golf 2012 1\n",
            "escape 2014 se 1\n",
            "patriot 75th anniversary 1\n",
            "a3 2.0t premium pluswagon 1\n",
            "520dodge 1\n",
            "es 350 4dr sdn automatic 1\n",
            "8cl 1\n",
            "prius 5dr hb two (natl) 1\n",
            "charger r/t v8 rwd 1\n",
            "f-250 supert duty xlt 1\n",
            "40 series coupe 1\n",
            "scottsdale 20 1\n",
            "altima 2.5 s coupe 1\n",
            "camry hybrid hybrid *90 d 1\n",
            "silverado 2500hd lt w 1\n",
            "silverado 2500 ls 1\n",
            "silverado truck 1\n",
            "95 f 800 1\n",
            "f-150 xlt supercrew 6.5-ft 1\n",
            "f150 xlt super crew 1\n",
            "grand marquis limited 1\n",
            "1965 Pontaic GTO 1\n",
            "tahoe z71 lt 1\n",
            "lesabre convertible 1\n",
            "1978 Corvette 1\n",
            "prius five five panel 1\n",
            "cosworth vega 1\n",
            "rav4 4wd 4dr i4 limited (natl) 1\n",
            "forte 5 1\n",
            "tacoma v6 4dr double cab v6 1\n",
            "transit cargo 3dr lwb medium roof cargo 1\n",
            "Continental 1\n",
            "Mack CXN612 1\n",
            "Oldsmobile cierra 1\n",
            "renegade ut 1\n",
            "1964 Plymouth  Sport Fury 1\n",
            "all types all years 1\n",
            "1500 slt laramie 4x4 1\n",
            "1972 chevelle 1\n",
            "protege5 hatchback 4d 1\n",
            "and newer 1\n",
            "Genesis G70 2.0T Sport Sedan 4D 1\n",
            "335i hard top convertible 6 speed manual sport gps 1\n",
            "f 750. 1\n",
            "mkz sedan 1\n",
            "KTM 530 1\n",
            "kodiak c5500 1\n",
            "camaro 2dr cpe 1ls 1\n",
            "veloster 2.0 premium 1\n",
            "CLARK FORKLIFT 1\n",
            "300 c srt 8 1\n",
            "equinox 4dr ltz 1\n",
            "a4 turbo 1\n",
            "Keep liberty 1\n",
            "sierra 2500 hd sle2 1\n",
            "uplander ls ext. 1ls 1\n",
            "civic ex 2.0l sedan 1\n",
            "s10 extcab 1\n",
            "elegante 1\n",
            "2007 Mazdaspeed6 GT 1\n",
            "express cargo van van 1\n",
            "xc90 3.2 versatility pkg 1\n",
            "FOR FOCUS SE 1\n",
            "335i turbo 1\n",
            "B M W X SERIES X3 3.0SI 1\n",
            "MERCEDS-BENZ CLK 1\n",
            "passat gls 1. 1\n",
            "Saab 9000 CSE 1\n",
            "accord ex-l 3.5 v6 1\n",
            "z3 2.8l 1\n",
            "1982 CORVETTE 1\n",
            "d50 turbo diesel 1\n",
            "All Makes & Models 1\n",
            "equinox lt w/1lt 3mo 1\n",
            "beetle 1973 1\n",
            "2500 diesel truck 6.7l one owner 4wd 1\n",
            "accent gls coupe 1\n",
            "Hyndai Santa Fe Sport Ult 1\n",
            "cts 3.6 l 1\n",
            "2 dr, sedan 1\n",
            "sonata limited 2.0t *ltd 1\n",
            "Sprint car 1\n",
            "five window coupe 1\n",
            "VOLKSW PASSAT WAGON 1\n",
            "outback awd limited 1\n",
            "Isuzu 20ft. Diesel Box Truck 1\n",
            "vnl 610 1\n",
            "m35 4wd 1\n",
            "ranger lariat supercrew 5 1\n",
            "pickup 3500 laramie 4x 1\n",
            "2007 civic EX Coupe 1\n",
            "pilot limited 1\n",
            "2009 Scion TC 1\n",
            "sentra 4dr sdn i4 cvt s 1\n",
            "tuscon- gls 1\n",
            "c 300 luxury 4matic 1\n",
            "ilx tlx watch plus 1\n",
            "cts 3.6l awd 1\n",
            "armada titanium 1\n",
            "wrangler unlmted x 1\n",
            "xf 20d premium 1\n",
            "f150 super crew fx4 1\n",
            "volkswagon cabrio 1\n",
            "k900 1\n",
            "HHR 1LT 1\n",
            "odyssey touring w/dvd w/n 1\n",
            "transit passenger wagon xlt 1\n",
            "FREIGHTLINER SEMI 1\n",
            "f35o 1\n",
            "c20 1966 1\n",
            "ls 460 awd 1\n",
            "camaro ss*v8,6.2l!! 1\n",
            "santa fe se 4dr suv 1\n",
            "cr-v awd manual 5speed 1\n",
            "leaf sv plus hatchback 4d 1\n",
            "Hino 185 1\n",
            "tucson se fwd 1\n",
            "mustang grande 1\n",
            "accord exl, 2dr-coupe 1\n",
            "JN8AZ1MW3DW314800 1\n",
            "sprinter 2500 ext 1\n",
            "t-8500 extended cab over box truck 1\n",
            "1996 Chevy/Topkick 1\n",
            "f150, platinum 1\n",
            "eldorado coupe 1\n",
            "f-150 xl 4x4 long bed 1\n",
            "smart Fortwo electric drive Pas 1\n",
            "seentra 1\n",
            "lancer 2015 1\n",
            "Hudson terraplane 1\n",
            "1500 crew cab 4x4 big horn 1\n",
            "jetta 1.4t s 6a 1\n",
            "equinox 4dr premier 1\n",
            "CHEVYS ETC. 1\n",
            "boxster w/power top 1\n",
            "unlimited rubicon 1\n",
            "sierra 2500 work truck 4dr extended cab work truck 1\n",
            "350sd 1\n",
            "328xi sulev awd 1\n",
            "xj-l 1\n",
            "Nissax Xterra 1\n",
            "corolla 4dr sdn auto s 1\n",
            "hardtop convertible 1\n",
            "sorento 4x4 1\n",
            "ghia coupe 1\n",
            "Plymouth Belveder wagon 1\n",
            "le sabre custom 1\n",
            "f-750 crew cab 1\n",
            "1972 MG Midget 1\n",
            "2011 Saab 9-3 I2.4 turbo manual 1\n",
            "1971 V.W. BEETLE 1\n",
            "Cooper Convertible 1\n",
            "1987 AM General HUMVEE 1\n",
            "c50 grain truck 1\n",
            "juke cvt nismo rs 1\n",
            "1500 longhorn 4x4 1\n",
            "suzuki esteem 1\n",
            "terrain slt-1 sport utility 1\n",
            "mdx sh awd 4dr suv 1\n",
            "diesel duramax 2500 1\n",
            "535i twin turbo 1\n",
            "sonnic lt2 1\n",
            "f150 4x4 pickup truck 1\n",
            "2006 chev. corvette COUPE 1\n",
            "escape 4wd 4dr limited 1\n",
            "titan sl midnight 1\n",
            "hemi-rt 1\n",
            "f450 dually diesel utility 1\n",
            "veloster 60k miles backup camera paddle shift 1\n",
            "tacoma sr5 trd *one 1\n",
            "rav4 4dr manual 1\n",
            "tahoea 1\n",
            "transit-150 base cargo 1\n",
            "journey express 1\n",
            "For Ranger XLT 1\n",
            "750li alpina 1\n",
            "International DT4400 1\n",
            "silverado 1500 work truck automatic 1\n",
            "tracker lt 1\n",
            "camry se (sports edition) 1\n",
            "2000 tahoe limited 1\n",
            "passat 1.8t r-line 1\n",
            "911 carrera 4 awd 6spd 1\n",
            "hse luxury ed. 1\n",
            "f-250 super duty lariat 4d 1\n",
            "1500 conversation 1\n",
            "300d 2.5 turbo diesel 1\n",
            "Rolls-Royce CORNICHE LOW MILES 1\n",
            "1994 SUZUKI CARRY 1\n",
            "cummins 2500 slt 4x4 1\n",
            "3500 tradesman - drw long 1\n",
            "HTLD Cyclone 1\n",
            "continental livery fwd 1\n",
            "civic dx sedan 1\n",
            "3 sires 328xi 1\n",
            "traverse fwd 4dr 1\n",
            "r350 awd 1\n",
            "tahoe 4wd premier 1\n",
            "tundra limited crewmax 1\n",
            "super duty f-150 xcab-4x4 1\n",
            "caprice classic wagon 1\n",
            "civic 2dr auto ex 1\n",
            "a4 quattro premium s-line 1\n",
            "acadia sle-2 automatic 1\n",
            "romeo stelvio quadrifoglio 1\n",
            "Genesis G80 3.8 Sedan 4d 1\n",
            "1964 AMC RAMBER 330 1\n",
            "journey gt awd 1\n",
            "2011 Murano S AWD 1\n",
            "d12 1\n",
            "tribecca 1\n",
            "voltswagon 1\n",
            "tundra 4wd 1794 edition 1\n",
            "santa fe gls 2.7l 1\n",
            "charger police sxt 1\n",
            "accent se fwd 1\n",
            "f-150 xlt supercab 6.5' b 1\n",
            "legacy outback sedan 1\n",
            "soul ev ev-e pre-owned 1\n",
            "k10 custom deluxe 1\n",
            "200 4dr sdn s fwd 1\n",
            "1992 corvette 1\n",
            "BMW525i 1\n",
            "boom truck 1\n",
            "3 series 340i xdrive**navi* 1\n",
            "si;verado 1\n",
            "f-350 super duty xl dually 1\n",
            "countryman cooper all4 1\n",
            "hardtop 2 door cooper automatic 1\n",
            "dilverado 1500 4x4 z71 1\n",
            "Clubman S 1\n",
            "hightop 1\n",
            "amg, s63,4matic 1\n",
            "bends slk230 1\n",
            "passsat 1\n",
            "Kendon 1\n",
            "super duty lariat f-350 srw 1\n",
            "vnl64t780 1\n",
            "ranger lariat wd supercrew ' box 1\n",
            "sierra 2500 sle1 1\n",
            "cayenne diesel awd 1\n",
            "F350 XL 4dr Crew Diesel Dually 1\n",
            "e450 super duty diesel 1\n",
            "2016 camaro 22 1\n",
            "senta 1\n",
            "Oldsmobile F85 1\n",
            "xts luxury awdsedan 1\n",
            "expedition limited 4x2suv 1\n",
            "2500 gas 1\n",
            "SHELBY COBRA 1\n",
            "tiguan se 4motion automatic 1\n",
            "golf wagon 4motion 1\n",
            "saab 900 se convertible 1\n",
            "1985  el camino 1\n",
            "tundra (4.7l) 1\n",
            "2002 corvette 1\n",
            "cherokee classic 4x4 1\n",
            "H2 HUMMER 1\n",
            "sienna le van 1\n",
            "INTERNATIONAL TERRASTAR DIESEL 1\n",
            "Any make or model 1\n",
            "w 4500 crew cab 1\n",
            "c-class c 320 sed 1\n",
            "CHEVOLET SILVERADO 1500 1\n",
            "MBZ sprinter 1\n",
            "starr 1\n",
            "scion tc spec 1\n",
            "corolla le*fuel economy! 1\n",
            "silverado 3500hd work 1\n",
            "fords f350 1\n",
            "1931 Oldsmobile 1\n",
            "rav4 rav limited awd 1\n",
            "jetta wagon se 1\n",
            "sprinter 3500 cab & chassis 1\n",
            "CUCV K5 Blazer 1\n",
            "opera coupe 1\n",
            "sienna 2002 1\n",
            "rav4 limited 4x4 v6 1\n",
            "c85008 1\n",
            "International  Scout 1\n",
            "two door sedan 1\n",
            "silverado ext cab ls 4x4 1\n",
            "montero sport xls 1\n",
            "1995 F250hd XLT 1\n",
            "87 r 20 1\n",
            "impreza 2.5l h4 1\n",
            "f-150 supercrew 145 in 1\n",
            "formula 1\n",
            "camry xle v 6 1\n",
            "2008ford f250 1\n",
            "xer 1\n",
            "encore fwd 4dr 1\n",
            "gx470 gx 470 1\n",
            "6 series 640i gran coupe 4d 1\n",
            "Christer Town an country 1\n",
            "highlander se awd gas suv 1\n",
            "torrent base 1\n",
            "c-max sel hybrid 1\n",
            "BMY m925A2 1\n",
            "cooper s 2dr hatchback 1\n",
            "hyndai sonata sport 1\n",
            "q5 2.0t premuim plus 1\n",
            "taurux x eddie bauer 1\n",
            "cherokee 4wd latitude plus 1\n",
            "xtravan 1\n",
            "sonata limited 2.0t se 1\n",
            "f-250 xlt crew 1\n",
            "ranger supercab edge 4x4 1\n",
            "xc90 v8 awd 1\n",
            "plymouth belvedere ii 1\n",
            "2009 Smart Car Fortwo 1\n",
            "AMC Javelin 1\n",
            "Smart for Two Electric Drive 1\n",
            "575 1\n",
            "1987 suzuki samurai 1\n",
            "ram5500 1\n",
            "evo mr 1\n",
            "c5500 4x4 1\n",
            "Carpet Cleaning 1\n",
            "V.W. Jetta S 1\n",
            "kaiser manhattan 1\n",
            "journey limited awd 1\n",
            "wia 64 1\n",
            "f-350 hd 1\n",
            "cr-v ex-l 4d sport utility automatic 1\n",
            "Hyuandi Tuscon limited AWD 1\n",
            "THUNDERBIRD  50TH ANV. 1\n",
            "highlanderawd 1\n",
            "g6 114k miles ecotec 2.4l i4 169hp 160ft. 1\n",
            "wrangler sport 2 door 1\n",
            "fit ex cvt 1\n",
            "Plymouth Savoy 1\n",
            "e 320 4matic 1\n",
            "20110GMC ARCADIA SLE AWD 1\n",
            "savana 2500 work van cargo 1\n",
            "volunteers bet 1\n",
            "International Pro Star 1\n",
            "xterra supercharged 1\n",
            "Model a 1\n",
            "promaster cargo van 1500 low roof 118\" wb 1\n",
            "c3500 dump truck 1\n",
            "cooper roadster s 1\n",
            "hr-v ex-l navi 1\n",
            "compass fwd 4dr latitude 1\n",
            "toyots prius 1\n",
            "flex limited suv 1\n",
            "xc90 t5 1\n",
            "express 3500 1 ton 1\n",
            "contnetal mark i 1\n",
            "cobalt 2lt sport appea 1\n",
            "Sterling 9500 1\n",
            "C230 S 1\n",
            "w300 powerwagon 1\n",
            "INFINIT FX FX45 AWD 1\n",
            "ss454 1\n",
            "yukon slt w/4sb 1\n",
            "Chrsler 300 1\n",
            "f-150 xl stx sport pkg 1\n",
            "leaf sv 4d hatchback 1\n",
            "gs 455 1\n",
            "rogue s automatic 1\n",
            "f-650 diesel 1\n",
            "Freightliner FLD 112 1\n",
            "Cherolet Spark 1\n",
            "suzuki carry 1\n",
            "cabriolet convertible 1\n",
            "sentra sv cvt *ltd avail* 1\n",
            "Cummins 1\n",
            "accord se v6 1\n",
            "f150 lariat 4x4 supercab 1\n",
            "PETERBILT 330 RV HAULER 1\n",
            "1500 slt 4dr quad cab 1\n",
            "1980 Sprint Race Car 1\n",
            "R 1\n",
            "liberty diesel 1\n",
            "bertone x 1/9 1\n",
            "f250 custom 1\n",
            "Moto Guzzi V9 Bobber Sport 850 1\n",
            "desoto firedome 1\n",
            "mark v1 1\n",
            "prius v fwd hatchback 1\n",
            "1986 International 1\n",
            "soul +crossover 1\n",
            "128i 1-series coupe 1\n",
            "m240i convertible 18k sport premium m pkg leather 1\n",
            "escalade esv 2wd 4dr p 1\n",
            "peterbilt cabover 1\n",
            "super duty f-350 20k m/flat bed reg cab/ 1\n",
            "golf r turbo awd 1 1\n",
            "tahoe ltz 4wd--we finance!! 1\n",
            "1500 big horn quad 305hp-3.6 1\n",
            "savavna 1\n",
            "f-150 v8 1\n",
            "1500 slt 4dr quad cab v8 automatic short bed tow pkg 1\n",
            "jetta s automatic 1\n",
            "explorer fwd 4dr limited 1\n",
            "plymouth valiant scamp sport 1\n",
            "da coupe 1\n",
            "es es 300h sedan 4d 1\n",
            "yukon slt v8 4x4 1\n",
            "altima 2.5 s coupe 2d 1\n",
            "verano leather group sedan 1\n",
            "navigator 4wd 4dr 1\n",
            "vtx1800r 1\n",
            "j-10 1\n",
            "liberty jet edition 1\n",
            "1949 PLYMOUTH DELUXE 1\n",
            "f-150 xl supercab 6.5-ft. 1\n",
            "malibu premier sedan 1\n",
            "rx 350 4dr 1\n",
            "avalon xls sedan 4d 1\n",
            "1952 MGTD Kit Car 1\n",
            "280s 1\n",
            "equinox lt 1lt awd 1\n",
            "range velar p250 s 1\n",
            "OLDSMOBILE TORONADO 1\n",
            "1FAHP2EW0AG138207 1\n",
            "monte 1\n",
            "Toyta xamry 1\n",
            "Frazer Standard 1\n",
            "cx-30 preferred 1\n",
            "cayenne s awd 1\n",
            "cooper+s+countryman 1\n",
            "sierra slt z71 1500 crew n 1\n",
            "Monaco Windsor 1\n",
            "3500 stake truck 1\n",
            "wrangler jl sahara 1\n",
            "f-250 super duty lariat cre 1\n",
            "6500 topkick 1\n",
            "outback h6r wagon 1\n",
            "e-350 xl super duty 1\n",
            "5 series 530i sedan 1\n",
            "bronco 2 ranger xl 1\n",
            "tacoma trd off road tec 1\n",
            "a4 avant quattro 1\n",
            "1998 Sebring Convertible 1\n",
            "FORDF-550 1\n",
            "clubwagon van 1\n",
            "mkt town car awd 1\n",
            "s 500 1\n",
            "diesel cummin 3500 1\n",
            "martin vanquish v12 1\n",
            "g35 sedan g35 4dr sdn auto 1\n",
            "forester x premium awd 1\n",
            "t class b camper van 1\n",
            "x5 m base 4dr suv 1\n",
            "fairmont 1\n",
            "accord sport 4d 1\n",
            "gs350 awd gas sedan auto 1\n",
            "2012 scion IQ 1\n",
            "promaster+city 1\n",
            "benz 560 sl 1\n",
            "avalanche 2lt 1\n",
            "fprd 1\n",
            "2500 mega cab lifted 1\n",
            "International 4400 Dump 1\n",
            "Military 1\n",
            "prius 5 1\n",
            "accord sport 1.5t cvt 1\n",
            "f 150 xl 1\n",
            "maserati quattroporte S Q4 1\n",
            "Merceces Benz E350 4matic Wagon 1\n",
            "corvette coupe lt1 1\n",
            "compas 1\n",
            "silverado 1500 lt2 4dr extended cab 4x4 v8 leather short bed 1\n",
            "escalade awd 4dr suv 1\n",
            "Toyoya Scion Tc 1\n",
            "optima ex sedan automatic 1\n",
            "68 1\n",
            "3500 slt/laramie quad 1\n",
            "Willys Truck 1\n",
            "tlx 2.4l fwd w/technology 1\n",
            "sts-v 1\n",
            "MORRRIS MINOR WOODY 1\n",
            "is 250 sport sedan 1\n",
            "legacy awd gas sedan 1\n",
            "2012 f250 1\n",
            "freightliner dump truck 1\n",
            "b-series cab plus 1\n",
            "AM General 1995/96 1\n",
            "Corvette Coupe 1\n",
            "flex sel automatic 1\n",
            "outback lagacy wagon awd 1\n",
            "sierra hd sle crew cab 1\n",
            "silverado 3500 hd lt / 4x4 / dually / 6.6l duramax diesl / allison transmission / long bed / 139k miles / ** lbz engine ** 1\n",
            "egde 1\n",
            "prius prime advantage 1\n",
            "sierra crew cab 1500 1\n",
            "F250 3500 Silverado sierra 2500 1\n",
            "2007 Chrylser 300C 1\n",
            "impala limited ls fleet 1\n",
            "silverado 1500 doub... 1\n",
            "suburban k1500 4x4 1\n",
            "flacon futura 1\n",
            "expedition xl 1\n",
            "rxs 1\n",
            "1966 Impala convertible 1\n",
            "forester 4dr auto 2.5i l 1\n",
            "2005 Isuzu Ascender 1\n",
            "911 turbo s 1 owner 10k gps leather pano roof loaded 1\n",
            "solstice base 2dr conver 1\n",
            "navigator base 4x2 1\n",
            "1500 5.7 hemi 1\n",
            "1970 kaiser 1\n",
            "rogue sv w/sl awd 1\n",
            "x2 m35i sport utility 4d 1\n",
            "juke dr wgn cvt nismo rs awd 1\n",
            "rav4 limited 4dr suv 1\n",
            "Custom built 1\n",
            "benz c300 awd 1\n",
            "escalade luxury 4dr s 1\n",
            "f-250 v10 1\n",
            "1500 slt rwd half ton 1\n",
            "seville sts v8 1\n",
            "nx300h 1\n",
            "sierra 2500 slt slt 4dr crew 1\n",
            "MB BRABUS SMART 1\n",
            "davidson xl 1200 forty-eight 1\n",
            "grand cherokee srt8 vapor 1\n",
            "Genesis G80 -3.3 Twin Trubo 1\n",
            "z3 3.2l 1\n",
            "fusion hybrid platinum 1\n",
            "jimmy slt 4x4 1\n",
            "Reef runner 1\n",
            "Ignite 1\n",
            "i-35 1\n",
            "2006 Scion tC 1\n",
            "legacy *back up cam!! 1\n",
            "c-class c 300 - 1\n",
            "explorer 4dr 114\" wb 4.0l eddie bauer 4wd 1\n",
            "qx4 base 4dr suv 1\n",
            "silverado 3500 drw 1\n",
            "prius plug in hybrid 1\n",
            "f150xlt 4x4 1\n",
            "grand caravan sxt fwd 1\n",
            "2015 370z 1\n",
            "golf tsi se 4-door 1\n",
            "colorado 1lt 1\n",
            "m550i xdrive 1\n",
            "venza hatchback fwd 1\n",
            "1974 CJ5 1\n",
            "2007 F-350 FX4 1\n",
            "lucerne cxl premium 1\n",
            "outback 2.5 limited 1\n",
            "journey sxt*3rd row! 1\n",
            "Isuzu HTR 1\n",
            "delivery truck 1\n",
            "e-class 500 4ma 1\n",
            "gti s 2.0t 1\n",
            "f150 regular cab 2wd 1\n",
            "$362.47, $1000 down, oac, 2.9%apr $362.47,luxury low miles $1000 down, only 40k miles 1\n",
            "tundra flat bed 1\n",
            "tall t 1\n",
            "alalanche 1\n",
            "sentra dr sdn i cvt sr 1\n",
            "gl550 4 matic 1\n",
            "civic hatchback sport tou 1\n",
            "ls2 1\n",
            "Kenworth T880 1\n",
            "f-150 xlt super 1\n",
            "dihatsui 1\n",
            "accent 4dsd 1\n",
            "super duty f-250 srw king ranch automatic 1\n",
            "16M 1\n",
            "Volve XC90 1\n",
            "f-type s convertible 1\n",
            "Bentley Arnage R 1\n",
            "3 series 335xi 4dr sedan 1\n",
            "3 series 328d 1\n",
            "65 mustang fastback 1\n",
            "elantra gt hatchback-4d 1\n",
            "kubota rtv x900 1\n",
            "foreser 2.5i touring 1\n",
            "535d 1\n",
            "impreza wrx awd 4dr turbo 1\n",
            "Nisaan quest 1\n",
            "Chrusler 1\n",
            "TOYOTA/COROLLA 1\n",
            "cla250 amg package 1\n",
            "c-8500 tandem 10 yard dump truck with knuckle boom 1\n",
            "valiant charger 1\n",
            "f250 crew cab long bed 1\n",
            "cavalier ls89514 1\n",
            "dart rally 1\n",
            "Mercede Benz S550 1\n",
            "INTERNATOINAL   R.V. 1\n",
            "atlas 3.6l v6 se w/t 1\n",
            "5015 promaster 1500 1\n",
            "isuzu fvr 1\n",
            "no accidents 1\n",
            "touareg tdi luxury 1\n",
            "cr-v ex-l w/navi awd 1\n",
            "1981 peterbilt 1\n",
            "highlander 4dr sport 1\n",
            "Chevrolet/Thomas Mintour 1\n",
            "650i cabriolet stunning, sharp 1\n",
            "tradesman 200 1\n",
            "TAHOE Z71 1\n",
            "charger 392 1\n",
            "Nash Ambassador 1\n",
            "NONE 1\n",
            "Interior is Black 1\n",
            "element ex-p 4wd 1\n",
            "f 150 xlt 4x4 regular cab 1\n",
            "accent 5dr hb auto gs 1\n",
            "pilot ex l 4dr suv 1\n",
            "lacrosse premium i sedan 1\n",
            "p20 1\n",
            "patriot high altitude editi 1\n",
            "f350 super duty regular cab 1\n",
            "f-150 koi 1\n",
            "sovereign xj12 saloon 1\n",
            "Voltswagon tiguan 1\n",
            "Wayne 1\n",
            "super duty f-350 srw crew cab 172\" xlt 4wd 1\n",
            "Isuzu NPR, CAB & CHASSIS 1\n",
            "C7D042 1\n",
            "accord hybrid exl nav 1\n",
            "versa sedan 's' 1\n",
            "sierra 1500 classic sl2 crew cab short bed 1\n",
            "f-150 platinum 4dr superc 1\n",
            "hhr ls panel 1\n",
            "e-350 sd extended bucket boom van 1\n",
            "tacoma access cab 2wd 1\n",
            "F250 Super Duty  7.3 Powerstroke 1\n",
            "sportage ex fwd 1\n",
            "optioma 1\n",
            "Sebring JXI 1\n",
            "ML 350 4MATIC Sport Utility 4D 1\n",
            "cx 3 1\n",
            "yukon denali suv 3rd row 1\n",
            "durango citadel 5.7 hemi 1\n",
            "envoy slt sport utility 1\n",
            "el dorado biarritz 1\n",
            "3500 4x4 bighorn cummins 6.7 1\n",
            "wrangler sport tj 1\n",
            "Dodge-A 4DR AUTO! COLD! NO RUST! TRUCK! Dakota-BHPH OFFERED! 1\n",
            "Freightliner FLD112 1\n",
            "davidson dyna fat bob 1\n",
            "a5 2dr cpe auto premium 1\n",
            "rio5 sx 1\n",
            "towncar 120 1\n",
            "FREIGHTLINER M2 Concrete Saw Tr 1\n",
            "malibu ltsedan 1\n",
            "2013 FOR F150 XLT 1\n",
            "cayenne/4wd/nav.. 1\n",
            "Club car 4 seat 1\n",
            "w100 pick up 1\n",
            "rav4 ltd 1\n",
            "outback wagon. 1\n",
            "electra limited 1\n",
            "fc-170 1\n",
            "cooper 6 spd convertible 1\n",
            "t-bucket street rod 1\n",
            "poniac g6 1\n",
            "liberty sport sport 4dr suv 1\n",
            "ls-460 1\n",
            "3 hatchback 2.5 1\n",
            "cherokee fwd 4dr latitude 1\n",
            "sierra 1500 ltz 1\n",
            "lacrosse fwd essence 1\n",
            "tsx sport sedan 1\n",
            "f-150 ecoboost 1\n",
            "sierra 1500 x31 4x4 1\n",
            "cl550 5.5l v8 1\n",
            "Frod Ranger 1\n",
            "canyon z71 sle base 4dr crew cab z71 sle base 1\n",
            "Volswagen Jetta sel 1\n",
            "international 9200i 1\n",
            "5500 hd chassis 1\n",
            "outback limited 3.6r awd 1\n",
            "mustang gt turbo 1\n",
            "thunderbird 2dr convertibl 1\n",
            "2001 Merc Sable 1\n",
            "TRITON TR-186 1\n",
            "vue xr suv 1\n",
            "rx30 1\n",
            "c800 1\n",
            "is 350 awd 1\n",
            "excursion 2005 1\n",
            "silverado rst**v8,5.3 1\n",
            "escalade platinum esv 1\n",
            "freestar vans sel 1\n",
            "titan xd 4wd 1\n",
            "f650 super excursion 1\n",
            "pathfinder s 4x4 1\n",
            "tlx technology fwd 1\n",
            "2004 izuzu rodeo 1\n",
            "1500 crew cab warlock 1\n",
            "1967 capris supersport 1\n",
            "mustang mach 1 fastback 1\n",
            "335i 335i sa 1\n",
            "xterra se 4dr 4x4 1\n",
            "Mazda3 hathcback 1\n",
            "3 series 328i | navigation, 1\n",
            "f550 4x4 diesel flatbed 1\n",
            "transit t350 xlt van 1\n",
            "optima lx sedan 1\n",
            "q60 g37 1\n",
            "International KB-2 1\n",
            "enclave awd 4dr leather l 1\n",
            "m6 - competition package 1\n",
            "dump tuck 1\n",
            "colorado work truck automatic 1\n",
            "MiniCooper S Coupe JCW 1\n",
            "3 series m3 2dr convertible 1\n",
            "c.o.e 1\n",
            "5.9 cummins 3500 4x4 1\n",
            "Mgb roadster 1\n",
            "2500 crew cav 4x4 hemi 1\n",
            "f-250 camper special 1\n",
            "70 International 1\n",
            "f250 diesel super duty 1\n",
            "dakota 4x4 v-8 magnum 1\n",
            "Fargo/Dodge 1\n",
            "srx4 premium 1\n",
            "suburban 1500 4wd 1\n",
            "sienna xle wheelchair ha 1\n",
            "forte koup ex 2d coupe automatic 1\n",
            "2000 SAAB 9-5 Aero sedan 1\n",
            "fairlane continental kit 1\n",
            "International  4300 1\n",
            "ilx w/premium 4dr sedan p 1\n",
            "2500 hd crew 1\n",
            "a6 55 tfsi premium plus 1\n",
            "ml 350 suv 1\n",
            "e-250 wheelchair van 1\n",
            "explorer xlt 3rd row back 1\n",
            "2012 MAZDA3 1\n",
            "tacoma sr v6 1\n",
            "850 spider 1\n",
            "mustang 2dr cpe v6 premium 1\n",
            "hevrolet Colorado LT CREW CAB 1\n",
            "2599 1\n",
            "i30 touring 1\n",
            "studebaker pickup 1\n",
            "california convertible 1\n",
            "town coupe 1\n",
            "focus zx3 se 1\n",
            "jx35 base 1\n",
            "94 bonneville 1\n",
            "passat gls 4 motion 1\n",
            "1500 laramie ecodiesel 1\n",
            "willy’s 1\n",
            "sonata 4dr sdn 2.4l auto limited 1\n",
            "challenger sxt plus automatic 1\n",
            "pathfinder platinum platinum 1\n",
            "benz c 300 1\n",
            "4500 duly 4x4 1\n",
            "g6 value leader 1\n",
            "edge 4dr sel 1\n",
            "Citron 2CV 1\n",
            "2003 blue bird 1\n",
            "ct6 luxury edition awd 1\n",
            "nx300 awd 1\n",
            "x3 sdrive30i sports activity 1\n",
            "cls-550 1\n",
            "Rubicon 1\n",
            "benz 350sl 1\n",
            "q5 quattro 4dr 2.0t premium plus 1\n",
            "benz 300sdl 1\n",
            "challenger r/t plus 345 hemi 1\n",
            "Forklift 1\n",
            "Volskwagen passat 1\n",
            "Victory V92C 1\n",
            "yaris rs 1\n",
            "sierra 1500 elevation automatic 1\n",
            "accord se w/htd leather 1\n",
            "express extended 3500 1\n",
            "f-550 forestry bucket truck 1\n",
            "1999 Cheyenne 1\n",
            "E 320 Wagon 1\n",
            "half ton pickup 1\n",
            "smart Fortwo 1\n",
            "silverado 1500 ls classic 1\n",
            "tacoma sr5 v6 crew cab 1\n",
            "ranger xlt crew cab 1\n",
            "xk8 coupe 1\n",
            "91 YJ 1\n",
            "pickup st 1\n",
            "patriot limited automatic 1\n",
            "corvette z06 2dr coupe 1\n",
            "Check tahoe 1\n",
            "f-150 fx4 sport appearance 1\n",
            "john deere 1\n",
            "5500 4x4 laramie chassis 1\n",
            "Borgward Midget 1\n",
            "f4 1\n",
            "Tacoma V6 4x4 4dr Double Cab 1\n",
            "passat 1.8t se pzev 1\n",
            "2010 Freightliner Cascadia 1\n",
            "civic sedan 2.0 l4 lx cvt automatic 1\n",
            "mustang fox body 1\n",
            "model sp90d 1\n",
            "sl2/sw2 1\n",
            "q70l 3.7 1\n",
            "outback r limited 1\n",
            "540 1\n",
            "model s 85d 1\n",
            "freightliner cascadia 126 1\n",
            "F250 XLT 1\n",
            "beetle 2.0t 1\n",
            "quest xe 1\n",
            "c max energi 1\n",
            "savana 3500 cargo 1\n",
            "spark ls manual 1\n",
            "3 i gt 1\n",
            ";esabre 1\n",
            "1999 F-350 Super Duty XLT 1\n",
            "nv2500 sl hd 1\n",
            "savana - collins body 1\n",
            "edge sel 4dr crossover 1\n",
            "venza 4dr wgn i4 fwd (natl) 1\n",
            "wrangler unlimited moab 1\n",
            "a6 3.0 quattro wagon 1\n",
            "3500 hd -gas- 1\n",
            "trd pro 1\n",
            "200 lx sedan 4d 1\n",
            "escape ltd 1\n",
            "g20 cargo van 1\n",
            "22r 1\n",
            "venteur 1\n",
            "leaf s-24 hatchback 4d 1\n",
            "montanna 1\n",
            "eldorodo 1\n",
            "2002 F350 / 2005 Lance Camper 1\n",
            "2005 Isuzu 1\n",
            "olet 4500HD LCF Diesel 1\n",
            "tahoe ltz automatic 1\n",
            "JETTA  t.D.I. 1\n",
            "550 maranello 1\n",
            "SAAB 9-3 TURBO 1\n",
            "e-350 4x4 quadravan 1\n",
            "Nissa Armada 1\n",
            "Mack Granite GU712 1\n",
            "b400 se 1\n",
            "Smart fortwo pure 1\n",
            "rav 4 xle awd 1\n",
            "legacy 3.6 limited awd 1\n",
            "SILVERADO RST 1\n",
            "Pontic vibe 1\n",
            "cts-v!!! 1\n",
            "benz c300 coupe 1\n",
            "Just Soul 1\n",
            "custom club coupe 1\n",
            "flhtc ultra clas 1\n",
            "Plymouth barracuda 1\n",
            "tiguan wolfsburg 1\n",
            "f450 utility tow body 1\n",
            "a4 premium plus awd nav 1\n",
            "soul 5dr wgn auto + 90 day w 1\n",
            "savana arboc shuttle bus 1\n",
            "lr2 suv 1\n",
            "fusion se hyrbid 1\n",
            "express awd van 1\n",
            "s5 sport coupe 1\n",
            "mdx touring awd 1\n",
            "accord ex wagon 1\n",
            "frontier sv king cab 1\n",
            "f 250 super duty lariat 1\n",
            "triumph spitfires 1\n",
            "silverado 1500 ss 1\n",
            "m880 power wagon 1\n",
            "1500 silverado z71 1\n",
            "transit t-350/5km/passenger van/manufacturer's war 1\n",
            "challenger rt hemi 1\n",
            "sierra slt**v8,5.3l*leather 1\n",
            "a5 premium plus convertible 1\n",
            "civiv lx sedan 1\n",
            "suburban 2500 ls 1\n",
            "mazda3 i touring automatic 1\n",
            "f350 xl - 9ft service 1\n",
            "f-150 lariat certified pre 1\n",
            "accord 2.0t touring 1\n",
            "benz s600 maybach 1\n",
            "promaster 136 1\n",
            "sr5 1\n",
            "d2 1\n",
            "rav 4 xle 4x4 1\n",
            "nx nx 300h 1\n",
            "SILVERADO 1500 1\n",
            "galant es 4dr sedan 1\n",
            "rendezvous suv 1\n",
            "resto rod 1\n",
            "mack cv713 1\n",
            "mazda6 6 i sport 1\n",
            "f-150 xlt**navi*back up ca 1\n",
            "ranger edge plus 4.0 1\n",
            "3500 diesel van 1\n",
            "Consul capri 1\n",
            "frontier ext cab xe 1\n",
            "Carrier 1\n",
            "f260 1\n",
            "pathfinder wd dr s 1\n",
            "sentra s fwd gas sedan 1\n",
            "Iveco Euroturbo 1\n",
            "altima sport 1\n",
            "grand torino elite 1\n",
            "GMX Yukon Denali 1\n",
            "dump bed 1\n",
            "passat 4dr sdn 2.0l 1\n",
            "1947 sedan delivery 1\n",
            "1500 st express black 1\n",
            "380slc 1\n",
            "Explorer Limited 1\n",
            "2500 4wd laramie mega 1\n",
            "flex ltd. 1\n",
            "1950 olds 1\n",
            "es-350 1\n",
            "29 1\n",
            "frontier 4x4 ext cab 1\n",
            "legend coupe 1\n",
            "1500 hemi, daytona 1\n",
            "terrain slt v6 awd 1\n",
            "tundra dbl cab sr5 1\n",
            "mustang gt350r 1\n",
            "grand cherokee se wj 1\n",
            "3 series 328i 2dr convertib 1\n",
            "beonco 1\n",
            "LUXURY WAGON -- ALL WHEEL DRIVE 1\n",
            "f750 boom bucket truck 1\n",
            "journey se awd gas suv 1\n",
            "1979 AMC Spirit GT AMX 1\n",
            "4runner limited v8 4x4 1\n",
            "wranler yj 1\n",
            "2001 Limited 1\n",
            "escape 4x4 limited 1\n",
            "seabring convertible 1\n",
            "Corvette 1LT Coupe 1\n",
            "sebring jxi 1\n",
            "escort zx2 cool coupe 1\n",
            "ats v 1\n",
            "500 pop, 5 speed manual 1\n",
            "sport td 1\n",
            "328i xdrive wagon m pkg sport premium leather moon 1\n",
            "freightliner bluebird 1\n",
            "325e e30 1\n",
            "Peterbuilt 1\n",
            "traverse l t 1\n",
            "lumina euro 1\n",
            "FREIGHTLINER ALTEC BUCKET TRUCK 1\n",
            "dyna 1\n",
            "SUABRU FORESTER 2.5X 1\n",
            "Redline Studio 1\n",
            "mkc suv awd 1\n",
            "mkx reserve awd automatic 1\n",
            "accord exl - v6 1\n",
            "f450 superduty 1\n",
            "1975 delta 88 convertible 1\n",
            "TRANSIT CONNECT XL 1\n",
            "hurst 1\n",
            "fiesta se 4dr hatchback 1\n",
            "Hind pilot 1\n",
            "vnm 64t200 1\n",
            "s430 sedan 1\n",
            "ml550 4-matic/nav 1\n",
            "ranger 4x4 v6 1\n",
            "sierra 1500 4.8 1\n",
            "4500 crew cab 1\n",
            "avalanche 1500lt 1\n",
            "f 150 pickup 1\n",
            "rav4 hybrid awd 4dr xle (natl) 1\n",
            "gt-r r35 1\n",
            "new yorker wagon 1\n",
            "f-550 9ft flatbed 1\n",
            "base 1\n",
            "deisel cummin 2500 1\n",
            "c 300 sport 4matic only 45k heated leather loaded 1\n",
            "pathfinder sl 4dr suv 1\n",
            "x3 xdrive28i sports activit 1\n",
            "accord touring auto 1\n",
            "navigator limited 1\n",
            "srt demon 1\n",
            "2009 Caravan 1\n",
            "Landou 1\n",
            "rubicon 4wd 6spd 1\n",
            "benz s-500 c0uoe 1\n",
            "grand prix base 1\n",
            "cherokee 4wd 4dr trailhawk 1\n",
            "sienna ltd automatic 1\n",
            "s type r 1\n",
            "a4 3.0 avant quattro 6 speed manual 1\n",
            "titan diesel 2016 1\n",
            "fusion hyrid 1\n",
            "escape se-awd 1\n",
            "armada plat. res. 4x4 1\n",
            "international durastar 4200 1\n",
            "long horn 4x4 5.7 hemi 1\n",
            "Tacoma TRD 4X4 1\n",
            "camaro berlinetta 1\n",
            "fleeside 1\n",
            "forester l 1\n",
            "Plymouth Cuda 1\n",
            "milan premiere 1\n",
            "aveo lt sedan 1\n",
            "impala ltz luxury seda 1\n",
            "g6 convertible 1\n",
            "refrigerator e350 1\n",
            "Chewy 1\n",
            "edge 4wd sel 1\n",
            "3 s sport 1\n",
            "2012 Hundai Elantra GLS 1\n",
            "335 x-drive, saddle brown interior, sharp & serviced 1\n",
            "2500 4x4 diesel truck 1\n",
            "f-150 4wd supercrew 157\" fx4 1\n",
            "Gx 450 1\n",
            "1974 Corvette Stingray 1\n",
            "ats standard awd 1\n",
            "g25 journey 1\n",
            "xc60 t5 inscription 1\n",
            "impreza sport wagon 4d 1\n",
            "sequoia 4wd 1\n",
            "clk-class 350 con. 1\n",
            "f-150 crew 4x4 lariat 1\n",
            "benz clx 430 1\n",
            "xj xjl portfolio bowers 1\n",
            "tudor coupe 1\n",
            "monteri 1\n",
            "explorer sport trac 4dr 126 1\n",
            "mustanggt 1\n",
            "altima 3.5 sr sedan 1\n",
            "prius plug-in advanced 1\n",
            "cherokee limited**navi*lea 1\n",
            "mariner fwdconvenience 1\n",
            "camry - se 1\n",
            "bmw328i 1\n",
            "Vintage Race Car 1\n",
            "5-series 528i xdrive 1\n",
            "endeavor xls 4dr su 1\n",
            "sorento **1 owner vehicle 1\n",
            "swb panel 1\n",
            "maxima v6 1\n",
            "f-150 lariat supercrew 5.5-ft. bed 4wd 6-speed aut 1\n",
            "tundra wd sr double cab .' bed .l 1\n",
            "forester 2.5 xs awd 1\n",
            "a3 3.2 quattro sline 1\n",
            "71 cj5 1\n",
            "regal gse 1\n",
            "c-3500 encloed utility service truck 1\n",
            "Xxx 1\n",
            "torrent gxp awd 1\n",
            "crysler 300c 1\n",
            "1/2 ton panel 1\n",
            "murano 2017.5 sl 1\n",
            "30 flatbed 1\n",
            "sportage ex 2.4l awd 1\n",
            "FREIGHTLINER SPRINTER 2500 1\n",
            "7 litre 428 1\n",
            "tlx 2.4l automatic 1\n",
            "x6 35i 1\n",
            "1500 limited 4x4 1\n",
            "ls luxury package 1\n",
            "2009 Challenger SRT 8 1\n",
            "cherokee limited automatic 1\n",
            "e350 16ft cutaway box,loading ramp! 1\n",
            "avalon 2001 1\n",
            "wrangler 2dr sport right ha 1\n",
            "galant vr-4 1\n",
            "84 El Camino SS 1\n",
            "v60 cross country awd 1\n",
            "f150 xl 2wd 1\n",
            "f450 flatbed 1\n",
            "b9 tribeca ltd. 1\n",
            "forte sedan 1\n",
            "a4 b7 2.0t quattro 1\n",
            "silverado 3500 flatbed 1\n",
            "1995 g20 van 1\n",
            "4x4 crew 1\n",
            "e-class 113k 1\n",
            "Saab 9-3 Turbo 4 1\n",
            "f150 4x4 xlt crew 1\n",
            "impala pc3 1\n",
            "cheverolet monte carlo 1\n",
            "x1 x 1 xdrive28i 1\n",
            "benz amg gle coupe 1\n",
            "5500 slt 1\n",
            "tundra sr5 limited 1\n",
            "international D220 1\n",
            "eunos cosmo 1\n",
            "2500 laramie 4x4 longhorn 1\n",
            "plymouth fury 3 1\n",
            "xterra offroad 1\n",
            "escalade awd 4dr luxury 1\n",
            "tt coupe 1\n",
            "scion xb hatchback 1\n",
            "royale 1\n",
            "f150 king ranch 4x4 1/2 ton 1\n",
            "Mack Granite 1\n",
            "Suzuki SX4 AWD 1\n",
            "Corvettec C5 1\n",
            "titan sl 4x4 1\n",
            "laguna 1\n",
            "c 300 pano roof p 1\n",
            "terrain denali automatic 1\n",
            "2500 crewcab 1\n",
            "sorento lx-v6 awd 1\n",
            "outback forester awd 1\n",
            "sentra sr 4dr 1\n",
            "1982 oldsmobil 1\n",
            "silverado 1500 lt lt1 1\n",
            "450 slc 1\n",
            "caravan cargo van 1\n",
            "2008eos lux 1\n",
            "xjl rwd supercharged 1\n",
            "soul + nav leather p.r 1 owner 1\n",
            "grand cherkee laredo 4wd 1\n",
            "chevorlet cruze 1\n",
            "tiguan 2.0t sel 4mot 1\n",
            "charger buy here pay 1\n",
            "altima 3.5 limited 1\n",
            "accord sedan 2.4 l4 lx automatic 1\n",
            "Scion tC 2dr HB Auto (Natl) 1\n",
            "xjs convertable 1\n",
            "expedition platinum**3rd r 1\n",
            "outback limited h6 1\n",
            "2500 slt / regular cab / 4x4 / high output 5.9l cummins turbo diesel / 6 speed manual / *** bulletproof *** lift !!! 1\n",
            "a8 l 4dr sdn 3.0t 1\n",
            "super duty f-250 srw 4wd crew cab 156\" platinum 1\n",
            "sorrento ex 1\n",
            "Karma Revero 1\n",
            "grand cherokee trackhawk 1\n",
            "f350 superduty xl 1\n",
            "Ultimate coupe 2 dr 1\n",
            "Impala brookwood 1\n",
            "civic sport sensing 1\n",
            "bonneville gxp sedan heated leather moon roof premium wheels 1\n",
            "b3b 1\n",
            "e350 luxury 4matic 1\n",
            "glk glk 250 bluete 1\n",
            "Bluebird tc2000 1\n",
            "2011 Corvette Grand Sport 1\n",
            "s6 4.0t quattro 1\n",
            "santa fe sport 2.4l auto awd 1\n",
            "AM General Water Truck 1\n",
            "xc60 t5 platinum awd 1\n",
            "romeo stelvio sport awd 4dr 1\n",
            "f-250 super duty ext cab 1\n",
            "allroad 2.0t premium plus 1\n",
            "elantra gt hatch back 1\n",
            "wrangler unlimited sport manual 1\n",
            "compass sport bad credit 1\n",
            "pilot ex-l w/dvd ex-l w/dvd 4dr suv 1\n",
            "accord 2002 1\n",
            "m6 gran coupe 1\n",
            "Renault 4 cv 1\n",
            "1999 Suburban 1\n",
            "a6 premium plus 3.0t 1\n",
            "SL CLASS 500 SL 1\n",
            "2006 S65 AMG 1\n",
            "AMC Concord 1\n",
            "Chevolet Colorado ZR2 1\n",
            "rma 1500 big horn 1\n",
            "crv exl suv 1\n",
            "silverado 1500 truck 1\n",
            "civic sedan si | *one 1\n",
            "1500 tradesman 4x2 regular cab 8' box 1\n",
            "corvette coupe lt1🌟 1\n",
            "golf 4dr hb man tdi 1\n",
            "dts luxiii 1\n",
            "f450 diesel flatbed 1\n",
            "LNDR DEFEND 1\n",
            "panamera base 4dr sedan 1\n",
            "benz 300e w124 1\n",
            "acadia limited limited 1\n",
            "armada sl awd 1\n",
            "avenger sedan 1\n",
            "jetta sport tsi 1\n",
            "chevorlet camaro 1\n",
            "corolla 4dr sdn man 1\n",
            "2008 International 1\n",
            "caprice police 4dr 1\n",
            "Lamborghini huracan evo 1\n",
            "frontier crew cab se pickup 4d 5 ft 1\n",
            "f-150 supercab 163 xlt 1\n",
            "sebring 4-door 1\n",
            "DT4700 1\n",
            "legacy awd gt 1\n",
            "g g37 sport sedan 4d 1\n",
            "tahoe lt lt 4dr suv 1\n",
            "f660 1\n",
            "Chevorlet caprice ppv 1\n",
            "yaris se hatchback 1\n",
            "camry sedan 1\n",
            "silverado crew cab ltz 4x4 1\n",
            "city express 1ls 1\n",
            "Revero GT 1\n",
            "wrx sti limited manual 1\n",
            "a6 awd 1\n",
            "corvette 1lt performa 1\n",
            "titan sv 4wd 1\n",
            "town car ultimate 1\n",
            "f-150 maxed out 4x4 eco 1\n",
            "sentra sl cvt 1\n",
            "f150 long bed 1\n",
            "3 series gran turismo 328i 1\n",
            "f250 powerstroke king fx4 1\n",
            "chysler crossfire 1\n",
            "1972oldsmoble 1\n",
            "2500 $488 montslt,4x4,3/4 ton, will sell fast, hurry in $488 month, slt,4x4,3/4 ton, will sell fast, hurry in $2k down, oac, 2.9% apr, 1\n",
            "highlnader 4x4 1\n",
            "mazda6 i 1\n",
            "e35o econoline 1\n",
            "Rolls Royce 1\n",
            "impla ss 1\n",
            "f-150 fx4 3.5 ecoboost 1\n",
            "silverado xcab 1\n",
            "Outback Special Edition 1\n",
            "2008 Sebring Convertible 1\n",
            "Isuzu NPR diesel 1\n",
            "c-6500 duramax diesel non cdl 1\n",
            "civic si fg2 1\n",
            "focus st2 hatchback 1\n",
            "Oldsmobile Bravada 4x4 1\n",
            "London Roadster MG TD TRD 1\n",
            "taurus sel sedan 4d automatic 1\n",
            "1990 P 30 1\n",
            "Satuurn Ion 1\n",
            "f-250 6.7 turbo diesel, super duty, xlt, 4x4 6.7 turbo diesel, super duty, xlt, 4x4 1\n",
            "taurus wagon lx 1\n",
            "wrangler unlimited sport 4 1\n",
            "cadenza limited automatic 1\n",
            "lifted f250 deisel xlt 4x4 1\n",
            "mirage g4 sedan 1\n",
            "tacoma sr5 double cab 5 b 1\n",
            "fusion energi titanium 1\n",
            "camaro z-28 coupe 1\n",
            "f150 platinum 4 x 4 1\n",
            "Chysler 1\n",
            "x-type 2.5 1\n",
            "shelby cobra replica 1\n",
            "patriot sport manual 1\n",
            "/ accord 1\n",
            "triple crown van 1\n",
            "charger 2.7 1\n",
            "f-150 king ranch crew 1\n",
            "'99 H1 Hummer 1\n",
            "transit 350 van high roof 1\n",
            "aveo5 1\n",
            "impreza 2.0i sport 5-doo 1\n",
            "grand caravan mobility 1\n",
            "torino cobra 1\n",
            "maxim 1\n",
            "ii nova ss 1\n",
            "concession 1\n",
            "xc60 premier plus**back u 1\n",
            "journey sxt 4*4 1\n",
            "mustang bullit 1\n",
            "pilot 2005 1\n",
            "Mits 1\n",
            "hr-v lx sport utility 4d automatic 1\n",
            "1951 Studebaker 2R5 Pick up 1\n",
            "rdx base w/technology pack 1\n",
            "Impreza Sport Premium AWD 1\n",
            "f-150 fx4 pickup 4d 6 1/2 1\n",
            "g30 bus 1\n",
            "3500 slt dually / 4x4 / 1-ton / v8 / long bed / new tires / 1-owner / very low miles 1\n",
            "astrovan 1\n",
            "740/gl 1\n",
            "f-350 super duty, dually 1\n",
            "1 series 2dr conv 135i 1\n",
            "328i awd 1\n",
            "f250 superduty 4wd xl 1\n",
            "juke nismo rs i4 turbo awd 1\n",
            "mustang hpp ecoboost 1\n",
            "celebrity cl 1\n",
            "SCION BASE 1\n",
            "Eagle limited 4x4 1\n",
            "mainliner 1\n",
            "benz 380sec 1\n",
            "2006 freightliner 1\n",
            "xc60 3.2 premier 4dr suv 1\n",
            "evoy 1\n",
            "camry 2.4l le 1\n",
            "forester 2.5i limited xt 1\n",
            "pt cruiser 90k miles purple new tires auto 1\n",
            "f-150 king ranch super cr 1\n",
            "cruze ls automatic, g 1\n",
            "1953 packard 1\n",
            "sierra 1500 truck 1\n",
            "2017 International 1\n",
            "f-250 super duty xl 4x4 1\n",
            "escalade 1500 3rd row 1\n",
            "touareg sport utility 1\n",
            "2500 mega cab cummins 1\n",
            "e350 box 1\n",
            "mustang gt conv. 1\n",
            "a4 avant 1.8t 1\n",
            "impreza 2.0i sport limit 1\n",
            "YAMAHA SX190 1\n",
            "civic sport coupe cvt 1\n",
            "sedona sxl 3.3l v6 1\n",
            "benz gl320 1\n",
            "rav4 le**back up cam!! 1\n",
            "box van 1\n",
            "ranger xlt 2dr extended c 1\n",
            "Peterbilt 386 1\n",
            "Maserati GranTurismo Sport 1\n",
            "pickup 3500 st 1\n",
            "journey se fwd gas suv 1\n",
            "acadia slt-1 awd 6-speed automatic 1\n",
            "WPOAA2993XS620614 1\n",
            "prelude vtec 1\n",
            "tacoma 2wd sr 1\n",
            "stinger gts just 10k miles 1\n",
            "accord lx-p sedan 1\n",
            "Hudson Terraplane 1\n",
            "wrx base 4dr sedan 1\n",
            "f250 psd 1\n",
            "Thunder Creek Fuel Trailer MT2 1\n",
            "carpenter bus 1\n",
            "L-110 1\n",
            "Sonata GLS 1\n",
            "lx 200 1\n",
            "durango 4dr crew 1\n",
            "q50 awd 1\n",
            "2 door street rod 1\n",
            "silverado 3500 hd 4x4 1\n",
            "tuarus 1\n",
            "2000 sebring convertible 1\n",
            "1500 4x4 gas 1\n",
            "x5 xdrive 35d awd 1\n",
            "sierra crew cab 4wd 1\n",
            "rlx technology 1\n",
            "200 sedan 1\n",
            "sequoia 4dr sr5 4wd (natl) 1\n",
            "Silverado 2500 Duramax 1\n",
            "camry xle4 1\n",
            "2500 ext cab 1\n",
            "delivery panel truck 1\n",
            "a4 2.0t quattro prem. plus 1\n",
            "1976 T-Bird 1\n",
            "mustang ecoboost fastback 1\n",
            "forester 2.5i premium awd, w/ eyesight 1\n",
            "Chysler  Voyager 1\n",
            "mclaren 570gt 1\n",
            "isuzu trooper 2.6 4WD 1\n",
            "1996 mark 8 1\n",
            "CANYON CREWCAB 4X4 PICKUP 1\n",
            "q7 4.2l v8 1\n",
            "Forest River VENGEANCE 1\n",
            "SCION/TC 1\n",
            "Monte carlo 1998 1\n",
            "Citroen 15C9 1\n",
            "xke roadster 1\n",
            "cts 3.0 luxury 1\n",
            "f-150 base 3dr extended c 1\n",
            "enclave prem awd 1\n",
            "AND UP 1\n",
            "mirage h.b 1\n",
            "titan sv,$392 month, 4x4 $1500 down, 3.9%apr, oac, only $392 month, 4x4 $1500 down, 3.9%apr, oac, only 65k miles 1\n",
            "towncar limousine 1\n",
            "tundra 4wd truck ltd 1\n",
            "rav4 le i4 awd 1\n",
            "f-450 11ft dump 1\n",
            "sienna xle automatic 1\n",
            "'50 Business Coupe 1\n",
            "2014 Traverse LS FWD 1\n",
            "// vmi // ♿ 1\n",
            "f150 xlt sport 1\n",
            "town n country limited 1\n",
            "sierra ext2500 1\n",
            "3-series 328i xdrive gran t 1\n",
            "davidson 883 iron 1\n",
            "suzuki forenza s 1\n",
            "1500 slt crew cab swb 4wd 1\n",
            "crossfire ltd 1\n",
            "jetta tdi sportswagen 1\n",
            "sportside 1\n",
            "grand cherokee limited 4dr 1\n",
            "rav4 xlesuv 1\n",
            "corolla le 1.8l automatic sedan only 47k low miles 2 owner 1\n",
            "1500 laramie**v8,5.7l!! 1\n",
            "equinox lt suv 1\n",
            "outlander sport es i4 awd 1\n",
            "f-150 4x2 1\n",
            "tlx 3.5l fwd w/a-spec pkg 1\n",
            "1981 F350 1\n",
            "350 closed utility 1\n",
            "regal ls 4dr sedan 1\n",
            "vt1100c2 1\n",
            "crown 1\n",
            "sedona sxl 1\n",
            "xv crosstrek 5dr cvt 2.0i premium 1\n",
            "Town and Country Touring-L 1\n",
            "oldmobile 1\n",
            "fe-160g 1\n",
            "c-max energi hatchback sel 1\n",
            "optima turbo lx 1\n",
            "The earth is flat 1\n",
            "wrx sti awd gas sedan 1\n",
            "1500 slt 4x4 big horn 1\n",
            "tacoma pickup truck 1\n",
            "chysler pt cruiser 1\n",
            "2007 mack 1\n",
            "s-10 extreme 1\n",
            "Olds Intrigue 1\n",
            "c55 1\n",
            "cc vr6 1\n",
            "f-150 lariat supercab 1\n",
            "Packard Limo 1\n",
            "express cutaway cube 1\n",
            "mkt livery 1\n",
            "f-150 raptor 4wd truck 1\n",
            "accord lx-s coupe 1\n",
            "s40 2.4i sedan 1\n",
            "transit connect van xl automatic 1\n",
            "fit sport i4 fwd 1\n",
            "altima se-r 1\n",
            "prius c four 1\n",
            "ISUZU RODEO S 1\n",
            "promaster cargo 1500 136 wb 1\n",
            "Plymouth Volaré 1\n",
            "transit 350 van low roof 1\n",
            "liberty limited 4dr 1\n",
            "g500 1\n",
            "q7 3.0t premium 1\n",
            "Call for a free estimate 1\n",
            "C20 1\n",
            "O8 Hyundi Azera 1\n",
            "1979 stingray corvette 1\n",
            "tundra 2wd truck grade 1\n",
            "Psion XB 1\n",
            "explorer xlt. 4wd 1\n",
            "1993 Astro 1\n",
            "Maserati Gran Turismo Sport 1\n",
            "sierra classic 2500 4wd 1\n",
            "EcoSport 1\n",
            "Special/Riviera Model 40 Coupe 1\n",
            "Scion xB BaseWagon 4A 1\n",
            "00000000000000 1\n",
            "350z base model 1\n",
            "terrain awd 4dr sle 1\n",
            "CHEY 3500 1\n",
            "golf se fwd gas auto 1\n",
            "superdury 1\n",
            "transit 150 conversion van 1\n",
            "tacoma 4x4 limited 1\n",
            "tundra sr5 tss crew max 1\n",
            "BMY 1\n",
            "des-Benz GLE 1\n",
            "accord lx 2.4 1\n",
            "lifted ranger stx fx4 4x4 1\n",
            "jetta 2.0 tdi 1\n",
            "1968 chevelle 1\n",
            "Kentwort 1\n",
            "rogue sv (2017.5) sport utility 4d automatic 1\n",
            "x5 xdrive50i awd m 1\n",
            "corolla base 1\n",
            "Hyundia tucson 1\n",
            "q50 s 3.7 sedan 4d 1\n",
            "taurus limited limited 1\n",
            "1988 M931A2 5 1\n",
            "Volkswagon Jetta GLI 1\n",
            "328i heated seats moonroof 1\n",
            "2002 F150 4 WD 1\n",
            "f150 3.5 v6 1\n",
            "ion 3 sport 1\n",
            "element ex-p 4 wd 1\n",
            "pathfinder le 4x4 1\n",
            "santafe 1\n",
            "charger 2013 1\n",
            "2006 F150 Lariat 1\n",
            "fit base 1\n",
            "f250 xlt diesel 4x4 1\n",
            "crew outdoorsman pickup 1\n",
            "altima 2.5se 1\n",
            "q3 quattro premium plus 1\n",
            "f250 xlt diesel 1\n",
            "passat r line 1\n",
            "explorer wd dr platinum 1\n",
            "2015 f550 1\n",
            "a8l quatro 1\n",
            "rav 4 hybrid limited 1\n",
            "corvair spyder 1\n",
            "tacoma sport 4x4 1\n",
            "2004 InfinityG35x 1\n",
            "sonic hatchback 1\n",
            "sierra denali 3500 dually 1\n",
            "highlander sportsuv 1\n",
            "e350 16ft box truck 1\n",
            "1500 lt 4x4 1\n",
            "4WD  F-150 KING RANCH 1\n",
            "jetta sedan 4d 1\n",
            "pacific 1\n",
            "Frod f450 1\n",
            "sr-5 1\n",
            "s-550 amg 1\n",
            "a3 tdi prestige 1\n",
            "f250 xlt 4x4 crew 1\n",
            "f-250 xlt 4x4 super cab 7.3l powerstorke long bed 1owner 1\n",
            "600 es 1\n",
            "f150 regular cab long bed 1\n",
            "1966 doge dart 273 gt 1\n",
            "endeavor awd 1\n",
            "f150, xlt 1\n",
            "ranger xlt 4 x 4 1\n",
            "f-350 xlt stake bed 1\n",
            "Hyundia Azera 1\n",
            "xjs v-12 convertible 1\n",
            "f150 fx4 off road 4x4 1\n",
            "travelmaster 1\n",
            "roaster 1\n",
            "CUSTOM 1\n",
            "benz crew transit van 1\n",
            "explorer sport trac limite 1\n",
            "sprinter diesel cargo van 42km 1\n",
            "fusion titanium ecoboost i4 fwd 1\n",
            "1969 nova 1\n",
            "army truck 1\n",
            "Peterbilt 330 1\n",
            "allroad 4dr wgn prestige 1\n",
            "chevySilverado 1\n",
            "2004 Jetta diesel 1\n",
            "ranger xl 5sp manual 1\n",
            "pickup 2500 slt 4x4 1\n",
            "2002 Expedition 1\n",
            "1999 Izuzu Rodeo LS 1\n",
            "g37 sedan x awdsedan 1\n",
            "2013 tahoe 1\n",
            "m37 power wagon 1\n",
            "santa fe sport 2.4lsuv 1\n",
            "MOBILE RAMP 1\n",
            "3500 hd ltz 1\n",
            "Prius IV 1\n",
            "s400 hybrid 1\n",
            "5.9l cummins 2500 slt 1\n",
            "3500 slt 4dr quad cab dually 5.9l cummins long bed 1\n",
            "rav4 awd 4dr le (natl) 1\n",
            "rdxnsh/awd 1\n",
            "malibu lt turbo 1\n",
            "f l50 xl long bed 1\n",
            "c5500 kodiak 1\n",
            "1986 gl 1\n",
            "es 350 ultra luxury 1\n",
            "emcore premium awd 1\n",
            "Mazda5 Sport 1\n",
            "x5 m-sport awd 1\n",
            "Morris Minor 1000 1\n",
            "sportage ex awd limited 1\n",
            "canyon 2wd slt crew cab 1\n",
            "vandura/rally 1\n",
            "2007 scion tc 1\n",
            "yukon 4wd 4dr denali 1\n",
            "s10 ext. cab 1\n",
            "canyon 4wd denali 1\n",
            "rdx black 1\n",
            "corvette zr1 3zr 1\n",
            "Plymouth Sport Fury 1\n",
            "durango gt automatic 1\n",
            "1998 mustang 1\n",
            "3i sport 1\n",
            "rio lx 4d 1\n",
            "5500 4x4 1\n",
            "k5 cheyenne super 1\n",
            "power wagon 2500 slt 1\n",
            "town car signature l 1\n",
            "passport elite awd gas suv 1\n",
            "matrix sport 1\n",
            "expedition el - eddie bauer 1\n",
            "1500 big horn sport 1\n",
            "suburban ltz rwd gas 1\n",
            "saab 9-5 aero wagon 1\n",
            "Grand Cherokee SRT8 1\n",
            "mk iii 1\n",
            "2 series m235i estoril blu 1\n",
            "04 mb ml350 1\n",
            "Aud A5 1\n",
            "c 350 coupe - amg 1\n",
            "2500 hd 4.8l v8 cargo 1\n",
            "f-550 regular cab 2wd drw 1\n",
            "td wagon 1\n",
            "f150 lariet 1\n",
            "enclave essence awd 1\n",
            "2003 Freightliner FL70 1\n",
            "528xi/nav/awd 1\n",
            "Argo Amphibious Frontier 6x6 600 1\n",
            "fx35 awd suv 1\n",
            "amg e43 1\n",
            "envoy xl denali 1\n",
            "kona ev sel 1\n",
            "300 4dr sdn 300s rwd 1\n",
            "International prostar 1\n",
            "starliner 1\n",
            "3100 panel truck 1\n",
            "f-250 lifted 1\n",
            "VOVLO XC60 1\n",
            "vnm630 1\n",
            "f 150 4x4 1\n",
            "1 series 135i 2dr coupe 1\n",
            "c30 t5 r-design 2.5l auto heated leather moon roof 1\n",
            "cl-class cl 600 1\n",
            "avenger r/t 4dr sedan 1\n",
            "1978 MGB 1\n",
            "f-250 diesel truck 6.7l utility contractors bed 1\n",
            "2005 savanna 1\n",
            "rogue fwd 4dr s 1\n",
            "equinox lt 4d sport utility automatic 1\n",
            "legacy 2.5i awd sedan 1\n",
            "HUMMER H3 4WD 3.7 5CYL 1\n",
            "packard clipper 1\n",
            "qx60 v6 awd 1\n",
            "savannah 1\n",
            "z3 roadster 3.0i convertible 1\n",
            "1953 panel 1\n",
            "2014 Hyandai elantra 1\n",
            "2013 Isuzu NPR 1\n",
            "IN HOUSE FINANCING 1\n",
            "MOTORCYCLE 1\n",
            "c7d042 1\n",
            "captiva lt sport 1\n",
            "1969 montego 1\n",
            "2500 5.9 diesel 1\n",
            "olds type r 1\n",
            "tacoma 4wd trd sport double cab 5' bed v6 at w/ bluetooth automatic 1\n",
            "d 150 1\n",
            "1972 cutlass supreme 1\n",
            "c 300 sedan,1 owne 1\n",
            "fit ex hatchback 1\n",
            "5 series 528i xdrive**navi* 1\n",
            "wrx impreza 1\n",
            "lwb 510+hp 1\n",
            "260z 1\n",
            "camry lg 1\n",
            "passat s pzevsedan 1\n",
            "passat v6 gt 1\n",
            "tundra sr5 4dr v8 clean 1\n",
            "pilot 4dr ex-l 1\n",
            "GRAND CARAVAN 1\n",
            "accord sedan 4dr i4 cvt ex-l w/navi 1\n",
            "ranger pickup truck 1\n",
            "impala 4dr sdn ltz w/1lz 1\n",
            "bucket truck 1\n",
            "malibu ltzsedan w/4 1\n",
            "2006 mercedez benz r-350 1\n",
            "camry hybrid se sedan 4d 1\n",
            "gls gls 550 4matic awd 1\n",
            "duramax crew 1\n",
            "2017 Taurus SEL 1\n",
            "nova concours 1\n",
            "lacrosse/lesabre 1\n",
            "q60s awd coupe 1\n",
            "grandprix 1\n",
            "89’ geo tracker 1\n",
            "great dane 1\n",
            "grand cherokee overland 4 1\n",
            "1965 BARRACUDA 1\n",
            "1995 Mustang 1\n",
            "durango r/t automatic 1\n",
            "maximum 1\n",
            "mdx tech pkg gray 1\n",
            "tacoma prerunner double c 1\n",
            "Isuzu Rodeo LS 1\n",
            "tacoma base 4x4 4dr acces 1\n",
            "altima sr fwd gas sedan 1\n",
            "1500 extended cab 4x4 1\n",
            "Renault Fuego 5 Speed manual 1\n",
            "orte 1\n",
            "Infinti G37X AWD 1\n",
            "town car limited 1\n",
            "mercedez benz c300 1\n",
            "sierra 1500 slt 4x4 heated leather gps lifted 20s new 33s 1\n",
            "forte 5 ex tgdi 1\n",
            "rav4 prime xse 1\n",
            "boxster 71k miles convertible 5 speed manual 1\n",
            "camry 4d sedan 1\n",
            "wf-32 1\n",
            "Yuklon Denali 1\n",
            "honday odyssey 1\n",
            "ftype 1\n",
            "HYUNDIA TUSCON GLS AWD 1\n",
            "canyon slecrew cab sb 1\n",
            "oddesey ex l 1\n",
            "savanna dumptruck 1\n",
            "tundra sr5 sport 1\n",
            "Escalade Premium 1\n",
            "kaufman 1\n",
            "t100 tacoma 1\n",
            "police impala 1\n",
            "cruze l 1\n",
            "ISUZU NPR-HD 1\n",
            "m35 sedan 1\n",
            "corolla sedan cvt s 1\n",
            "v60 t5 awd premier 1\n",
            "e-class amg e 63 1\n",
            "niro plug-in hybrid lx 1\n",
            "terrain awd sle 1\n",
            "2011 BMW535I Xdrive 1\n",
            "f550 bus 1\n",
            "Genesis G70 2.0T Advanced 1\n",
            "tacoma 4x4 trd 1\n",
            "transit connect cargo xl v 1\n",
            "Lariat 1\n",
            "xlt econoline e350 1\n",
            "International model 470 1\n",
            "i3 4dr hb w/range extender 1\n",
            "frontier crew 1\n",
            "silverado 1500 quad 4x4 1\n",
            "malibu ls - one owner 1\n",
            "Foed Explorer 1\n",
            "tacoma sr5 dbl lb 1\n",
            "s550 edition 1 1\n",
            "ISUZU NPR FLATBED 1\n",
            "fx45 awd 1\n",
            "vibe base fwd 4dr wagon 1\n",
            "pickup st*v8,5.7l!sho 1\n",
            "silverado classic 1\n",
            "kc 1/2ton 1\n",
            "nautilus standard 1\n",
            "jetta tdi i4 turbo fwd 1\n",
            "2013 Freightliner 1\n",
            "240 station wagon 1\n",
            "grand caravan wheelchair h 1\n",
            "CHEVU 3500 DIESEL 1\n",
            "camaro rs cv 1\n",
            "liberty sport limited 1\n",
            "oldsmobile cutlass salon 1\n",
            "outback touring 1\n",
            "tundra sr5**v8,5.7l*;eat 1\n",
            "f550 xl - service utility 1\n",
            "Oreion Reeper 1\n",
            "v15 suburban 4wd 1\n",
            "tacoma / tundra 1\n",
            "128ic 1\n",
            "sentra midnight edition 1\n",
            "cx5 gt awd 1\n",
            "Trans Am Convertible 1\n",
            "soul hatchback 1\n",
            "ud 1500 1\n",
            "1500 short box 4x4 1\n",
            "2013 Freightliner Cascadia 1\n",
            "560sec 1\n",
            "1991 Corvette 1\n",
            "jetta se pzev *automatic *leather *moon roof local car 1\n",
            "forte gt-line 1\n",
            "q5 premium 2.0t quattro tip 1\n",
            "HINO 258 1\n",
            "murano s aws 1\n",
            "highlander awd le 1\n",
            "ls-400 1\n",
            "city express cargo va 1\n",
            "civic lx economy coupe 1\n",
            "tacoma sr5 trd sport 1\n",
            "grand cherokee 4wd 4dr alti 1\n",
            "impala sdn lt 1\n",
            "continental reserve 3. 1\n",
            "savana2500 cargo van 1\n",
            "suburban ls 1500 4wd 1\n",
            "durango r/t 4dr suv 1\n",
            "200 series s 1-owner sport convertible navigation heated leather backup camera 1\n",
            "grand am gt coupe 1\n",
            "benz e-350 1\n",
            "SANTA FE 1\n",
            "edge crossover 1\n",
            "beetle-classic 2.5l pzev 52k miles leather 1\n",
            "ridgeline awd 1\n",
            "1988 f-250 1\n",
            "maxima 4dr sdn 3.5 s 1\n",
            "mustang v6 premium 6 speed manual 51k gps leather loaded 1\n",
            "gl550 4matic sport 1\n",
            "mclass 1\n",
            "1962 FordThunderbird 1\n",
            "expedition limited 4x4 3.5 1\n",
            "ROLLS ROYCE GHOST 1\n",
            "wrangler unlimited sport* 1\n",
            "chevolet malibu 1\n",
            "serie 1 1\n",
            "4runner trd offroad 1\n",
            "mustang boss 302 coupe 1\n",
            "sienn xle 1\n",
            "crown imperial 1\n",
            "avalon xle plus 1\n",
            "a8 l 3.0t quattro 1\n",
            "sienna le fwd 1\n",
            "Freightliner MT-55 16 FOOT STEP VAN GREAT 1\n",
            "altima 2.5sv 1\n",
            "forester 2.5i cvt 1\n",
            "1974 mgb roadster 1\n",
            "volt base 1\n",
            "1500 quad cab long bed 1\n",
            "xc90 v8 awdsuv 1\n",
            "2006 Oshkosh Striker 1500 1\n",
            "sts-4 1\n",
            "jetta sel tsi/premium 1\n",
            "xc90 3.2 r-design premier plus i6 awd 1\n",
            "acadia slt2 rear ent syst 1\n",
            "xterra xe 4wd 1\n",
            "l322 1\n",
            "crosstrek 2.0i limited aw 1\n",
            "sorrento lx v6 1\n",
            "- EX - TECH PKG - SAFETY SENSING 1\n",
            "3 ,2012 1\n",
            "flex sel crossover 1\n",
            "fx35 base rwdsuv 1\n",
            "stealth tt 1\n",
            "430 i gran coupe 1\n",
            "ecosport titanium wd 1\n",
            "f-150 extra cab 1\n",
            "MACK CV713 Granite Dump Truck 1\n",
            "trax awd 1\n",
            "2006 porche cayenne 1\n",
            "acadia slt1 4wd 1\n",
            "slk slk 280 2dr c 1\n",
            "F150 STEPSIDE 1\n",
            "rio 5 1\n",
            "1910 MAXWELL AA 1\n",
            "e100 1\n",
            "wrangler unlimited jl 1\n",
            "e150 xl passenger cargo 1\n",
            "f-150 fx-4 1\n",
            "astro awd pass van 1\n",
            "tundra 4wd sr5 automatic 1\n",
            "70 MGB 1\n",
            "l-series lw300 1\n",
            "challenger r/t plus hemi 1\n",
            "ranger xl 2dr standard cab 1\n",
            "1999 ply,prowler 1\n",
            "expedition limited rsc 1\n",
            "1950 Studebaker 1\n",
            "1978 Nova 1\n",
            "STERLING Acterra Lube Truck 1\n",
            "explorer limited**navi*cam 1\n",
            "95 Geo Prizm 1\n",
            "c-max energi se 1\n",
            "f150 xlt 4x4 supercab 1\n",
            "2007 MINI-COOPER S 1\n",
            "veloster hi brother 1\n",
            "1/2 ton pickup 1\n",
            "caravan passenger 1\n",
            "2021 4runner 1\n",
            "pathfinder 4x4 very clean 1\n",
            "corolla fx16 1\n",
            "q5 3.2l prestige 4wd/tech 1\n",
            "f 250 sd 1\n",
            "traverse lt automatic 1\n",
            "mariner fwd 1\n",
            "continental town coupe 1\n",
            "altima 2.5 sedan 4d automatic 1\n",
            "sltima sl 1\n",
            "Oldsmobile Alero GX 1\n",
            "equinox awd 4dr ls w/1ls 1\n",
            "escape r4529 1\n",
            "cxl 1\n",
            "hundai tuscon 1\n",
            "silerado 3500hd 1\n",
            "g convertible 1\n",
            "waldoch conversion van 1\n",
            "spider 124 1\n",
            "econoine 250 van 1\n",
            "cheyanne 1\n",
            "2012 charger rt plus awd 1\n",
            "Sea Ray Sea Ray 1\n",
            "Freightliner Sprinter Passenger 1\n",
            "juke s turbo 1\n",
            "s5 2dr cpe auto 1\n",
            "D7FH173552 1\n",
            "coupe deville⁰ 1\n",
            "cr-z coupe 2d 1\n",
            "For F-250 1\n",
            "2011 Hundai Elantra Limited 1\n",
            "HONDACCORD EX 1\n",
            "silverado 1500 ld 4wd 1\n",
            "Chevy,Ford,Kia, BMW,Jeep,GMC 1\n",
            "lesabre custom 4dr sedan 1\n",
            "sunbird convertible 1\n",
            "f-350 super duty xlt 4dr su 1\n",
            "Hino 258 1\n",
            "1999 Plymouth Voyager 1\n",
            "JETTA HYBRID 1\n",
            "patriot sport **only 22k miles*automatic air conditioning 1\n",
            "town car mkt limo 1\n",
            "trax awd 4dr premier 1\n",
            "240 sedan 4d 1\n",
            "suburban k1500 silverado 1\n",
            "capri xr2 1\n",
            "1996 Bluebird 1\n",
            "highlander limited automatic 1\n",
            "savana cargo van rwd 2500 1 1\n",
            "escape sel ecoboost 1\n",
            "mazda2 touring mt 1\n",
            "sunfire sl 1\n",
            "es350 luxury package 1\n",
            "f-150 xlt super crew 4 x 4 1\n",
            "rs3 1\n",
            "2009 MAZDA6 TOURING 1\n",
            "outback limited edition 1\n",
            "accord sdn ex-l automatic 1\n",
            "many 1\n",
            "sequioa sr5 1\n",
            "ben 190d 1\n",
            "camaro z28 2dr 1\n",
            "armada le 4x4 1\n",
            "sc 400 coupe v8 automatic heated leather super clean 1\n",
            "Fleetwood Tioga 1\n",
            "2003 mecury 1\n",
            "camaro coupe 2d 1\n",
            "2500 tradesman turbodiesel 1\n",
            "1500 orange 1\n",
            "2002 Geo Prizm 1\n",
            "glc 43 amg 1\n",
            "benz 300 se 1\n",
            "328 touring 1\n",
            "criwn victoria 1\n",
            "Oldsmobile Bravada AWD 1\n",
            "sienna awd xle limited 1\n",
            "sonata gls v6 1\n",
            "f-250 sd xlt supercab 1\n",
            "wrangler x virgin stock 1\n",
            "4runne sr5 1\n",
            "Packard Club Opera 1\n",
            "expedition el limited sport 1\n",
            "tiguan s suv 1\n",
            "a4 quattro awd premium plus 1\n",
            "1968 corvette convertible 1\n",
            "cx 30 1\n",
            "tahoe premier - 1\n",
            "MASERATI SPYDER GT 1\n",
            "frontier crew cab 4x2 sv auto 1\n",
            "3500 2012 1\n",
            "freightliner Business Class M2 1\n",
            "glc 300 4matic -- 1\n",
            "odyssey ex-l w/navi w/dvd 1\n",
            "4runner sr5**leather*moo 1\n",
            "1996 Isuzu Rodeo 1\n",
            "C-60 Viking 1\n",
            "spark 1 lt 1\n",
            "c-class sport 1\n",
            "1994 custom super duty 1\n",
            "durango crew*v6,3.6l! 1\n",
            "malibu 3lt 1\n",
            "1954 willys 1\n",
            "1994 bus 1\n",
            "International 4900 flatbed 1\n",
            "gr cherokee limited 4x4 1\n",
            "elcamino 4x4 1\n",
            "528i 5 series 1\n",
            "f-250 super duty xlt 4dr 4w 1\n",
            "mustang foxbody 1\n",
            "Mkz 1\n",
            "seville sedan 1\n",
            "corvette z06 2lz 1\n",
            "2500 slt / quad cab / 4x4 / leather / / 5.9 l high output / cummins diesel / long bed / moto metal wheels / new tires / lifted !! 1\n",
            "panel vans 1\n",
            "Patriot Latitude 4x4 1\n",
            "corvette l82 1\n",
            "mazda3i touring 1\n",
            "convertible project 1\n",
            "glc-class glc300 1\n",
            "f-450 dump truck 1\n",
            "caddilac escalade ext 1\n",
            "savanna extended cargo van 1\n",
            "xtype 4 door 1\n",
            "vollkswagen 1\n",
            "tacoma double 1\n",
            "f-350 sd xl 2wd 1\n",
            "corvette coupe c5 1\n",
            "tundra tss off road 1\n",
            "stx4 all wheel drive. 1\n",
            "town and country wagon 1\n",
            "cr-v ex-l **1 owner** 1\n",
            "1995 mustang 1\n",
            "matrix sports 1\n",
            "HTLD NORTH TRAIL 1\n",
            "leaf sl hatchback 1\n",
            "Mecedes Benz c300 4matic 1\n",
            "silverado 3500 - 9ft 1\n",
            "ftype r 1\n",
            "golf sportwagen 4dr 1\n",
            "romeo spider veloce 2.0 1\n",
            "WOLF BRAND SCOOTERS WOLF EX-150 1\n",
            "isuzu 1999 1\n",
            "tundra 4wd truck limited automatic 1\n",
            "envoy suv 1\n",
            "IS 1\n",
            "F150 turbo 1\n",
            "xc90 awd premium 1\n",
            "a4 2.0t special edition 1\n",
            "silverado 1500 3dr ext cab 143.5\" wb ls 1\n",
            "Isuzu W5500HD 1\n",
            "passat sel premium 1\n",
            "plymouth fury 1\n",
            "Cadillc ATS Performance AWD 1\n",
            "santa fe 4x4 gls 1\n",
            "2500 SILVERADO 4WD  6.0L GAS 1\n",
            "freighliner columbia 1\n",
            "1964 NOVA 1\n",
            "e-350 4-matic stunning interior, 1\n",
            "new beetle convertible 2.5 1\n",
            "willys cj-5 1\n",
            "2016 and Up Models 1\n",
            "f-250 2 wheel drive 1\n",
            "ranger fx4 4/4quad cab 1\n",
            "thunderbird 50th anniversary 1\n",
            "avenger, se 1\n",
            "mkx 2wd 1\n",
            "Chevrolette Corvette 1\n",
            "enclave cxl premium 1\n",
            "fairlane 500 skyliner 1\n",
            "soul base 4dr 1\n",
            "tundra 2wd platinum automatic 1\n",
            "fj cruiser 4dr suv 4x4 / v6 4.0l / rear differential locker / xd wheels / lifted / 1-owner / 104k miles only !!! 1\n",
            "odessey 1\n",
            "cc sport turbo 1\n",
            "Different Makes and Models 1\n",
            "cr-v 1.5t l4 ex automatic 1\n",
            "6500 4x4 1\n",
            "nv2500 2018 1\n",
            "Roofnest Sparrow 1\n",
            "chassis 3500 4x4 2dr 1\n",
            "rav4 hybrid xle awd 1\n",
            "sentra 1.8l 1\n",
            "Hummer h3 1\n",
            "focus 5dr hb st 1\n",
            "sierra 1500 extracab 1\n",
            "1952 STU Deuce 1\n",
            "f150 xlt_4x4 1\n",
            "Kawasaki Mean Streak 1\n",
            "htliner Cascadia 1\n",
            "Suzuki samurai 1\n",
            "328i m3 coupe 1\n",
            "f-150 fx4 super crew 1\n",
            "1500 regular cab lone star 1\n",
            "corolla apex se 1\n",
            "escalade stretch 1\n",
            "4runner sr5 sr5 4dr suv 1\n",
            "super duty f-450 xl 1\n",
            "element ex 2wd 1\n",
            "1955 Thunderbird 1\n",
            "benz e320 diesel 1\n",
            "veloster 3dr coupe dct 1\n",
            "2007 International 4200 1\n",
            "Nidsan rogue 1\n",
            "gti wolfsburg 1\n",
            "SMART EQ FORTWO 1\n",
            "2008f150 1\n",
            "compass 4x4 sport 1\n",
            "CADILAC ESCALADE 1\n",
            "nv s 1500 van 1\n",
            "DBP 1\n",
            "Bedrug 1\n",
            "camaro convertible ss 1\n",
            "lifted f150 xl 4x4 half ton 1\n",
            "1992 geo metro 1\n",
            "190D Fintail 1\n",
            "sierra 1500 limited 1\n",
            "1999 Suburau Forrester 1\n",
            "hyandai 2013 1\n",
            "tsx 2.4l w/tech 1\n",
            "a6 2.0t premium fronttrak 1\n",
            "sporttrac 1\n",
            "300 300c 1\n",
            "quad cab 1\n",
            "tacoma trd sport access 1\n",
            "cruze ltzsedan w/1lz 1\n",
            "v70 glt 1\n",
            "grand cherokee 5.9 limited 4dr 5.9 limited 1\n",
            "jetta sel pzev 4dr sedan 1\n",
            "golf se 1\n",
            "TOWMOTOR BHF20 1\n",
            "rogue sv 4x4 1\n",
            "3500 slt 4x4 one ton 1\n",
            "Asto Martin DB7 1\n",
            "e 350 luxury 4matic v6 1\n",
            "passat 2.0t wolfsbur 1\n",
            "q50 2.0t base 1\n",
            "equinox lt**ecotec!! 1\n",
            "911 carrera turbo 2dr c 1\n",
            "veracruz gls limited 1\n",
            "silverado max 1\n",
            "mustang gt convertible 2d 1\n",
            "rav4 limited suv 1\n",
            "535i m-sport 5-series 1\n",
            "s8 v10 quattro 1\n",
            "Packard Caribbean love you 1\n",
            "santa fe sport 2.4l 4dr 1\n",
            "Town an 1\n",
            "MAHINDRA 1\n",
            "mazda6 touring automatic 1\n",
            "f-350. 1\n",
            "2008 freightliner 1\n",
            "amazon 1\n",
            "2017 Xe 25-t 1\n",
            "Volkswagon Bug 1\n",
            "tahoe -lt 1\n",
            "clunker 1\n",
            "mazda3 i touring sedan / 4-cyl / automatic / 91,000 miles / 1-owner 1\n",
            "commander limited awd 1\n",
            "outback awd 3.6r touring 1\n",
            "Mini-T Class B Camper Van 1\n",
            "f50 lariat 4wd 1\n",
            "3500 ls crew cab 1\n",
            "323 ci 1\n",
            "2000 C5 1\n",
            "mks base 4dr sedan 1\n",
            "call today 1\n",
            "mkz standard 1\n",
            "sierra 1500 limited base 1\n",
            "murano awd 4dr s 1\n",
            "accord sedan sport 1.5t c 1\n",
            "sierra 2500hd slt 4dr exten 1\n",
            "Impreza 1\n",
            "tacoma sr double cab 5' bed v6 4x4 at (natl) 1\n",
            "canyon all terrain 1\n",
            "2013 Peterbilt Cottrell trailer 1\n",
            "f 250 xlt 1\n",
            "tacoma extra cab 1\n",
            "lucerne cxl -- se 1\n",
            "1959 biscayne impala 1\n",
            "328i m 1\n",
            "Hudson Pick up 1\n",
            "saab 9-3 convertible turbo 1\n",
            "copper 1\n",
            "t-100 1\n",
            "power wagon m37 1\n",
            "q5 quattro2.0t premium 1\n",
            "x5 4.4i sport utility 4d 1\n",
            "super duty ramp truck 1\n",
            "WHEELCHAIR VAN 1\n",
            "forester xs 4dr wagon 1\n",
            "Chevolet Impala Limited 1\n",
            "mack cxu612 1\n",
            "f250 super duty- v10 1\n",
            "slc 1\n",
            "f250 cng conversion 1\n",
            "1994 International 4700 1\n",
            "polaris razor 1\n",
            "compass latitude fwd *ltd 1\n",
            "sienna xle premium 7-passenger 1\n",
            "susuki 1\n",
            "mkt gtdi reserve sport 1\n",
            "benz 300 sel 1\n",
            "super duty f-350 srw lariat 1\n",
            "FREIGHT LINER M2 1\n",
            "q7 diesel tdi s-line 1\n",
            "3 itouring 1\n",
            "5 series 530i 530 i 1\n",
            "sierra sl long bed 1\n",
            "Edsel ranger 1\n",
            "patriot sport 4dr suv 1\n",
            "silverado 1500 lt w 1\n",
            "gto judge 1\n",
            "focus se 5-spd 1\n",
            "x1 xdrive28i awd gps heated leather backup camera 1\n",
            "pathfinder le 3.5l automatic heated leather moon 3 row 43k 1\n",
            "NEW HANDICAP VAN 1\n",
            "2013 Silverado 2500 1\n",
            "cherolet suburban 1500 ltz 1\n",
            "650i gran coupe m sp 1\n",
            "m56 s. 1\n",
            "TRACTOR 1\n",
            "Lotus Diva Roadster 1\n",
            "cooper s turbo 1\n",
            "enclave cxl2-awd 1\n",
            "INTENATIONAL DURASTAR 1\n",
            "rs 330 1\n",
            "s90 t6 inscription 1\n",
            "acadia awd 4dr slt1 slt 1\n",
            "MASD 1\n",
            "silverado work truck 1\n",
            "mkx sh awd 1\n",
            "Oshkosh firetruck 1\n",
            "continental reserve automatic 1\n",
            "rogue sl awd premium 1\n",
            "grand cherokee trailhawk automatic 1\n",
            "g6 2dr cpe gt 1\n",
            "avalon xle touring 1\n",
            "challenger srt- 1\n",
            "charger sxtsedan 1\n",
            "CADILLIAC SRX 1\n",
            "Mac Value 1\n",
            "sante fe se 1\n",
            "explorer sport track 1\n",
            "Thomas/Freightliner 1\n",
            "sierra 1500 4wd crew cab 147\" slt 1\n",
            "focus se sedan 6-speed automatic 1\n",
            "edge sel 2.7l 1\n",
            "c-max r4512 1\n",
            "x5 awd xdrive35i sport 1\n",
            "f-350 fx4 dually 1\n",
            "2007 Doge 1\n",
            "m-4 convertible twinturbo 1\n",
            "sebring 2005 1\n",
            "silverado 4x4 lt 1\n",
            "escalade awd 3rd row 1\n",
            "pathfider sv 1\n",
            "x5 xdrive35d heated & c 1\n",
            "equinox 4dr lt w/2fl 1\n",
            "Prevost Motor Coach 1\n",
            "Suburu Ascent 1\n",
            "protage 1\n",
            "1983 Oldsmobile 98 1\n",
            "1961 Volkswagon 1\n",
            "journey crossroad v6 1\n",
            "soul ex 1\n",
            "rx 350 low miles 1\n",
            "navajo 1\n",
            "Chevorlet Camaro LS 1\n",
            "tundra sr5 automatic 1\n",
            "liberty laredo 4x4 1\n",
            "911 carrera 4 cabriolet 1\n",
            "fuso fe640 1\n",
            "Trooper 4x4 awd 4wd 1\n",
            "taurus eco-boost 1\n",
            "impreza 2.0i  sedan 1\n",
            "sierra sle 4x4 crew 1\n",
            "3 s touring 1\n",
            "International DuraStar 4200 1\n",
            "grandcherokee 1\n",
            "altima coupe se 3.5l v6 1\n",
            "jetta hybrid sel 1\n",
            "vlovo cx70 1\n",
            "4 runner trd pro 1\n",
            "yukon slt sport 1\n",
            "2002 oldsmobile alero 1\n",
            "atlas sel 1\n",
            "Mustang II Mach 1 1\n",
            "maxima altima 2.5s 1\n",
            "flex sle limited 1\n",
            "Firebird Trans AM 1\n",
            "Wolkswagen 1\n",
            "x1 xdrive28i xdrive28i 1\n",
            "Prius V 1\n",
            "maxima platinum 3.5l 1\n",
            "Volva CX 90 1\n",
            "f150 super cab four-door 1\n",
            "pilot 4x4 1\n",
            "cruze lt with 2lt 1\n",
            "cx-3 touring awd 1\n",
            "6i sport 1\n",
            "mustang gt deluxe 2dr 1\n",
            "f-150 ranger 1\n",
            "v 70 t5 1\n",
            "cbr-600rr 1\n",
            "2009 freightliner 1\n",
            "Hemi Challenger R/T 1\n",
            "Pontaic vibe 1\n",
            "explorer sport trac xls 1\n",
            "gs460 1\n",
            "dakota 38km/bighorn/lonestar 1\n",
            "avalanche ltz black di 1\n",
            "sierra 1500 slt gfx 1\n",
            "insight lx 4dr hatchback 1\n",
            "5000s 1\n",
            "mark series continental mark iii 1\n",
            "b2500 se 1\n",
            "1977 F-350 Super Cab 1\n",
            "Х5М 1\n",
            "suburban slt 1\n",
            "Shelby gt500 1\n",
            "traverse lt leather automatic 1\n",
            "xf portfolio 1\n",
            "f250 super duty fx4 1\n",
            "explorer limited sun roof 1\n",
            "impreza sport premume 1\n",
            "chyenne 1\n",
            "Nissa Versa Hatchback dark grey 1\n",
            "maxima sv w/sport pkg 1\n",
            "Massimo T BOSS 550 1\n",
            "1975 mustang 2 1\n",
            "f350 crew 1\n",
            "f350 powerstroke 1\n",
            "CHEVEROLET TRAILBLAZER 1\n",
            "c300 luxury 4matic 1\n",
            "benz c 350 1\n",
            "camaro 1ss 1le 1\n",
            "silverado pick up 1\n",
            "2008 Ben 328i 1\n",
            "sahara 1\n",
            "outback awd20 1\n",
            "G6 1\n",
            "flex limited w/ecoboost 1\n",
            "1966 to 2020 1\n",
            "Eldorado 1\n",
            "g8 sedan 1\n",
            "civic coupe sport cvt 1\n",
            "mutsubishi outlander 1\n",
            "c350 sport 1\n",
            "smart car fortwo 1\n",
            "Oldsmobile 88 LS 1\n",
            "Isuzu Axiom 1\n",
            "Trailer 1\n",
            "hhr panel wagon 1\n",
            "BWM X5 1\n",
            "galaxie 500 2dr. fastback 1\n",
            "1966 gto 1\n",
            "f-250 super duty super cab 1\n",
            "lacrosse touring nav p.roof 1\n",
            "super duty f350 diesel 1\n",
            "s22 comet 1\n",
            "windstar le 1\n",
            "cruze limited lt fwd 1\n",
            "grand prix hurst ssj 1\n",
            "mustang gt premium 2008 1\n",
            "c-5500 shuttle bus 1\n",
            "sierra extended cab 4x4 1\n",
            "impala ls v6 fwd 1\n",
            "crv 4wd 1\n",
            "f/15o sport fx4 1\n",
            "Freightliner SportChassis RHA112 1\n",
            "tilt master w3500 1\n",
            "f150 xlt 4×4 1\n",
            "95 s80 1\n",
            "GRAND CARAVAN SXT, 3.6L V6 1\n",
            "check blazer 1\n",
            "sierra 3500hd sle 4x4 4dr do 1\n",
            "Sunbeam Alpine 1\n",
            "explorer tract 1\n",
            "rubicom 1\n",
            "q60 3.0t sport 1\n",
            "silverado 1500 4wd double cab 147\" custom trail boss 1\n",
            "cross country 1\n",
            "Studebaker GT Hawk's 1\n",
            "conversion van by explorer 1\n",
            "qx50 automatic 1\n",
            "sterling truck Flat bed Crane 1\n",
            "1500 4×4 1\n",
            "f250 lariat king ranch 1\n",
            "s60 4dr 1\n",
            "corolla le sports package 1\n",
            "z-28 1\n",
            "e420 1\n",
            "journey crossroad plus automatic 1\n",
            "2000 roadster 1\n",
            "Suzuki vs 1400 intruder 1\n",
            "camaro rs v6 1\n",
            "five hundred ltd 1\n",
            "1500 regular cab slt pickup 1\n",
            "x4 xdrive30i 1\n",
            "Yukon XL Denali 3rd row 1\n",
            "xterra le 1\n",
            "enclave cxl-2 awd gps leather dual roof 3 row loaded 1\n",
            "benz 300d turbo diesel 1\n",
            "flex limited 4dr crossover 1\n",
            "caravan se 64k miles wheelchair lift ada 1\n",
            "Bentley MK VI saloon 1\n",
            "xc60 t5 premier plus sport 1\n",
            "2500 express van 1\n",
            "sequoia platinum automatic 1\n",
            "amg c63 s 1\n",
            "cars trucks vans 1\n",
            "sebring sedan touring 1\n",
            "tl w/se 1\n",
            "camrey le 1\n",
            "wrangler unlimited 4dr sa 1\n",
            "Chrysler, Town and Country 1\n",
            "2002   Corvette Convertible 1\n",
            "fuion 1\n",
            "rav4 le awd (natl) 1\n",
            "f-250 stx fx4 extended cab 1\n",
            "cruze ltz turbo 1\n",
            "transit passenger van 1\n",
            "MG MGB-GT 1\n",
            "535 x drive awd 1\n",
            "malibu ls 4dr sedan 1\n",
            "f150 3dr ext 1\n",
            "yukon xl 4wd 4dr 1500 slt 1\n",
            "2500 slt 4x4 diesel 1\n",
            "durango awd 4.7 1\n",
            "avalanche 4x4 lt 1\n",
            "300 stretch limousine 1\n",
            "sonata lmtd hyb 1\n",
            "535 diesel sedan 1\n",
            "wrangler jk unlimite 1\n",
            "q70l 3.7x 1\n",
            "Cutlass supreme Coupe 1\n",
            "2500HD  6.0L GAS  4WD  CLEAN 1\n",
            "town/country 1\n",
            "sonata gls v6 4dr sedan 1\n",
            "1998 mustang gt convertible 1\n",
            "sienna xle limited 7 pas 1\n",
            "tundra trd pro 1 owner 1\n",
            "g3500 express rwd 1\n",
            "MASTERCRAFT 1\n",
            "frontier xe 4x4 1\n",
            "2006 FordTaurus 1\n",
            "tiburon gt v6 special 1\n",
            "f550 dually 1\n",
            "WRX SPORT WAGON 4D 1\n",
            "escalade esv￼ 1\n",
            "chevolet corvette 1\n",
            "avalanche 1500 z66 1\n",
            "Optima 1\n",
            "bonco ll 1\n",
            "exployer sport trac 1\n",
            "2000 Berin Box Truck 1\n",
            "CITC 1\n",
            "custom sedan v8 flathead fwd 1\n",
            "F-150 X-CAB 1\n",
            "2500 passenger van 1\n",
            "car truck suv 1\n",
            "e class 4matic 1\n",
            "encore fwd 4dr preferred 1\n",
            "forester 2.5 x 4dr wago 1\n",
            "Diahatsu 1\n",
            "sierra 2500 hd regular cab 1\n",
            "ilx w/premium 1\n",
            "f-350 lifted diesel super duty 6 passenger bench seats 1\n",
            "c10 pickup truck 1\n",
            "classic lwb 1\n",
            "cadiliac deville 1\n",
            "pickup j4000 quadra trac 1\n",
            "335i m-sport 1\n",
            "1995 Le Baron 1\n",
            "3 series 335i xdrive coupe 1\n",
            "1500 tradesman automatic 1\n",
            "outback limited automatic 1\n",
            "element ex mt awd 1\n",
            "promaster 3500 cab 1\n",
            "terrian 1\n",
            "nitro sxt 2wd--we finance!! 1\n",
            "528xi sedan/nav 1\n",
            "accord lx 1.5t cvt 1\n",
            "rx350 navigation 1\n",
            "2007 Sierra 2500HC 1\n",
            "rav4 xlr 1\n",
            "d. 150 1\n",
            "impreza 5sp manual 1\n",
            "CHEY 1500 1\n",
            "frontier extended cab 1\n",
            "nv 1500 1\n",
            "sliverado c10 1\n",
            "1988 scottsdale plow truck 1\n",
            "xf 3.0 portfoliosedan 1\n",
            "avalon ltd 1\n",
            "impreza 2.5i sedan 4d 1\n",
            "60 T-5 1\n",
            "e350 van xlt (15 passenger 1\n",
            "crv-l 1\n",
            "Avalanche 1\n",
            "charger hemi 1\n",
            "Pontaic Grand Prix GTP Coupe 2D 1\n",
            "b2200 kingcab 1\n",
            "cruze lt*fuel economy 1\n",
            "Peterbilt 14ft bed trck 1\n",
            "utility cap 1\n",
            "Silverado 3500 4X4 1\n",
            "brookwood not impala 1\n",
            "rdx awd advance 1\n",
            "g3500 hd \"rally wagon\" 1\n",
            "del sol si 1\n",
            "1982 Rat 1\n",
            "911s 1\n",
            "5 van 1\n",
            "transit connect 114.6\" xlt 1\n",
            "rav4 se 4x4 1\n",
            "beetle glx fwd gas 1\n",
            "1949 Fleetline 1\n",
            "trans am firebird 1\n",
            "sion xa 1\n",
            "lacrosse premium i 1\n",
            "5i sport 1\n",
            "silverado k3500 1\n",
            "cjb3   willys 1\n",
            "1979 triumph spitfire 1\n",
            "outback premium 2.5i 1\n",
            "tucson 4wd 1\n",
            "ml-500 1\n",
            "q50 red sport 1\n",
            "mazda3 i touring i4 fwd 1\n"
          ],
          "name": "stdout"
        }
      ]
    },
    {
      "cell_type": "markdown",
      "metadata": {
        "id": "HL7mAj2UsJwg"
      },
      "source": [
        "스크래핑으로 긁어온 데이타는 시각적으로 일일히 내용을 다 봐두는게 좋다... 어디서 어떻게 엉망인 데이터가 나올지 모르므로;;;"
      ]
    },
    {
      "cell_type": "code",
      "metadata": {
        "colab": {
          "base_uri": "https://localhost:8080/",
          "height": 297
        },
        "id": "amxUZJVrq0_L",
        "outputId": "bb059349-9f49-417c-da67-325d0e3013b3"
      },
      "source": [
        "sns.countplot(y='condition', data=df.fillna('n/a'), order=df.fillna('n/a')['condition'].value_counts().index)"
      ],
      "execution_count": 21,
      "outputs": [
        {
          "output_type": "execute_result",
          "data": {
            "text/plain": [
              "<matplotlib.axes._subplots.AxesSubplot at 0x7ff9327d9a90>"
            ]
          },
          "metadata": {
            "tags": []
          },
          "execution_count": 21
        },
        {
          "output_type": "display_data",
          "data": {
            "image/png": "[encoded data removed]",
            "text/plain": [
              "<Figure size 432x288 with 1 Axes>"
            ]
          },
          "metadata": {
            "tags": [],
            "needs_background": "light"
          }
        }
      ]
    },
    {
      "cell_type": "code",
      "metadata": {
        "colab": {
          "base_uri": "https://localhost:8080/",
          "height": 297
        },
        "id": "sW6XD6Tqq1NP",
        "outputId": "78b66271-c245-49be-ec71-572899c95f93"
      },
      "source": [
        "sns.countplot(y='cylinders', data=df.fillna('n/a'), order=df.fillna('n/a')['cylinders'].value_counts().index)"
      ],
      "execution_count": 22,
      "outputs": [
        {
          "output_type": "execute_result",
          "data": {
            "text/plain": [
              "<matplotlib.axes._subplots.AxesSubplot at 0x7ff93275ea50>"
            ]
          },
          "metadata": {
            "tags": []
          },
          "execution_count": 22
        },
        {
          "output_type": "display_data",
          "data": {
            "image/png": "[encoded data removed]",
            "text/plain": [
              "<Figure size 432x288 with 1 Axes>"
            ]
          },
          "metadata": {
            "tags": [],
            "needs_background": "light"
          }
        }
      ]
    },
    {
      "cell_type": "code",
      "metadata": {
        "colab": {
          "base_uri": "https://localhost:8080/",
          "height": 297
        },
        "id": "hKmpku0-rdYm",
        "outputId": "5403fcfa-6bcd-4fe5-a8bf-3f363c885496"
      },
      "source": [
        "sns.countplot(y='fuel', data=df.fillna('n/a'), order=df.fillna('n/a')['fuel'].value_counts().index)"
      ],
      "execution_count": 23,
      "outputs": [
        {
          "output_type": "execute_result",
          "data": {
            "text/plain": [
              "<matplotlib.axes._subplots.AxesSubplot at 0x7ff9333fba10>"
            ]
          },
          "metadata": {
            "tags": []
          },
          "execution_count": 23
        },
        {
          "output_type": "display_data",
          "data": {
            "image/png": "[encoded data removed]",
            "text/plain": [
              "<Figure size 432x288 with 1 Axes>"
            ]
          },
          "metadata": {
            "tags": [],
            "needs_background": "light"
          }
        }
      ]
    },
    {
      "cell_type": "code",
      "metadata": {
        "colab": {
          "base_uri": "https://localhost:8080/"
        },
        "id": "OMCdPFH_rdyY",
        "outputId": "ca05430d-c892-48b1-85de-b9b3353d3702"
      },
      "source": [
        "df.columns"
      ],
      "execution_count": 24,
      "outputs": [
        {
          "output_type": "execute_result",
          "data": {
            "text/plain": [
              "Index(['region', 'price', 'manufacturer', 'model', 'condition', 'cylinders',\n",
              "       'fuel', 'odometer', 'title_status', 'transmission', 'drive', 'size',\n",
              "       'type', 'paint_color', 'age'],\n",
              "      dtype='object')"
            ]
          },
          "metadata": {
            "tags": []
          },
          "execution_count": 24
        }
      ]
    },
    {
      "cell_type": "code",
      "metadata": {
        "colab": {
          "base_uri": "https://localhost:8080/",
          "height": 297
        },
        "id": "OSh36Y9hriig",
        "outputId": "0d74890d-6040-4959-83a4-de686f68727b"
      },
      "source": [
        "sns.countplot(y='transmission', data=df.fillna('n/a'), order=df.fillna('n/a')['transmission'].value_counts().index)"
      ],
      "execution_count": 25,
      "outputs": [
        {
          "output_type": "execute_result",
          "data": {
            "text/plain": [
              "<matplotlib.axes._subplots.AxesSubplot at 0x7ff930c67950>"
            ]
          },
          "metadata": {
            "tags": []
          },
          "execution_count": 25
        },
        {
          "output_type": "display_data",
          "data": {
            "image/png": "[encoded data removed]",
            "text/plain": [
              "<Figure size 432x288 with 1 Axes>"
            ]
          },
          "metadata": {
            "tags": [],
            "needs_background": "light"
          }
        }
      ]
    },
    {
      "cell_type": "code",
      "metadata": {
        "colab": {
          "base_uri": "https://localhost:8080/",
          "height": 297
        },
        "id": "pr8cGsIOrmoY",
        "outputId": "b253822c-feb8-4f4a-a960-5838e3d61eaf"
      },
      "source": [
        "sns.countplot(y='drive', data=df.fillna('n/a'), order=df.fillna('n/a')['drive'].value_counts().index)"
      ],
      "execution_count": 26,
      "outputs": [
        {
          "output_type": "execute_result",
          "data": {
            "text/plain": [
              "<matplotlib.axes._subplots.AxesSubplot at 0x7ff93062f090>"
            ]
          },
          "metadata": {
            "tags": []
          },
          "execution_count": 26
        },
        {
          "output_type": "display_data",
          "data": {
            "image/png": "[encoded data removed]",
            "text/plain": [
              "<Figure size 432x288 with 1 Axes>"
            ]
          },
          "metadata": {
            "tags": [],
            "needs_background": "light"
          }
        }
      ]
    },
    {
      "cell_type": "code",
      "metadata": {
        "colab": {
          "base_uri": "https://localhost:8080/",
          "height": 297
        },
        "id": "NY4lehtPrm5d",
        "outputId": "bbac3b39-a46d-4465-bf67-2e83a6f5956c"
      },
      "source": [
        "sns.countplot(y='size', data=df.fillna('n/a'), order=df.fillna('n/a')['size'].value_counts().index)"
      ],
      "execution_count": 27,
      "outputs": [
        {
          "output_type": "execute_result",
          "data": {
            "text/plain": [
              "<matplotlib.axes._subplots.AxesSubplot at 0x7ff932b18bd0>"
            ]
          },
          "metadata": {
            "tags": []
          },
          "execution_count": 27
        },
        {
          "output_type": "display_data",
          "data": {
            "image/png": "[encoded data removed]",
            "text/plain": [
              "<Figure size 432x288 with 1 Axes>"
            ]
          },
          "metadata": {
            "tags": [],
            "needs_background": "light"
          }
        }
      ]
    },
    {
      "cell_type": "code",
      "metadata": {
        "colab": {
          "base_uri": "https://localhost:8080/",
          "height": 297
        },
        "id": "SXKufQEqrsom",
        "outputId": "521eaa55-fbce-43fb-9985-e0328e8ae306"
      },
      "source": [
        "sns.countplot(y='type', data=df.fillna('n/a'), order=df.fillna('n/a')['type'].value_counts().index)"
      ],
      "execution_count": 28,
      "outputs": [
        {
          "output_type": "execute_result",
          "data": {
            "text/plain": [
              "<matplotlib.axes._subplots.AxesSubplot at 0x7ff9303f6f10>"
            ]
          },
          "metadata": {
            "tags": []
          },
          "execution_count": 28
        },
        {
          "output_type": "display_data",
          "data": {
            "image/png": "[encoded data removed]",
            "text/plain": [
              "<Figure size 432x288 with 1 Axes>"
            ]
          },
          "metadata": {
            "tags": [],
            "needs_background": "light"
          }
        }
      ]
    },
    {
      "cell_type": "code",
      "metadata": {
        "colab": {
          "base_uri": "https://localhost:8080/",
          "height": 297
        },
        "id": "d6aRj0lRrszb",
        "outputId": "3febb1fc-cfc0-4b91-e841-0062b4b979df"
      },
      "source": [
        "sns.countplot(y='paint_color', data=df.fillna('n/a'), order=df.fillna('n/a')['paint_color'].value_counts().index)"
      ],
      "execution_count": 29,
      "outputs": [
        {
          "output_type": "execute_result",
          "data": {
            "text/plain": [
              "<matplotlib.axes._subplots.AxesSubplot at 0x7ff9303a9090>"
            ]
          },
          "metadata": {
            "tags": []
          },
          "execution_count": 29
        },
        {
          "output_type": "display_data",
          "data": {
            "image/png": "[encoded data removed]",
            "text/plain": [
              "<Figure size 432x288 with 1 Axes>"
            ]
          },
          "metadata": {
            "tags": [],
            "needs_background": "light"
          }
        }
      ]
    },
    {
      "cell_type": "markdown",
      "metadata": {
        "id": "amkU5Y6g7Dp4"
      },
      "source": [
        "### 6. 수치형 데이터의 통계 분석하기"
      ]
    },
    {
      "cell_type": "code",
      "metadata": {
        "id": "GZXSBFPyDh6R",
        "colab": {
          "base_uri": "https://localhost:8080/"
        },
        "outputId": "193ebd5f-6f6e-4cf1-8208-79ee1b519933"
      },
      "source": [
        "# 수치형 데이터의 값의 범위, 기초 통계 분석하기\n",
        "df.columns"
      ],
      "execution_count": 30,
      "outputs": [
        {
          "output_type": "execute_result",
          "data": {
            "text/plain": [
              "Index(['region', 'price', 'manufacturer', 'model', 'condition', 'cylinders',\n",
              "       'fuel', 'odometer', 'title_status', 'transmission', 'drive', 'size',\n",
              "       'type', 'paint_color', 'age'],\n",
              "      dtype='object')"
            ]
          },
          "metadata": {
            "tags": []
          },
          "execution_count": 30
        }
      ]
    },
    {
      "cell_type": "code",
      "metadata": {
        "colab": {
          "base_uri": "https://localhost:8080/",
          "height": 189
        },
        "id": "fBCU0AubtKZD",
        "outputId": "9bdf2bde-e3fa-40e0-db5b-56019493d94a"
      },
      "source": [
        "#Price가 histoplot으로 그릴려했더니 메모리 터짐.... 간단하게 lugplot으로 보고, 워낙 이상치가 크므로 height=1로 줘서 본다.\n",
        "fig = plt.figure(figsize=(8, 2))\n",
        "sns.rugplot(x='price', data=df, height=1)"
      ],
      "execution_count": 31,
      "outputs": [
        {
          "output_type": "execute_result",
          "data": {
            "text/plain": [
              "<matplotlib.axes._subplots.AxesSubplot at 0x7ff931952310>"
            ]
          },
          "metadata": {
            "tags": []
          },
          "execution_count": 31
        },
        {
          "output_type": "display_data",
          "data": {
            "image/png": "[encoded data removed]",
            "text/plain": [
              "<Figure size 576x144 with 1 Axes>"
            ]
          },
          "metadata": {
            "tags": [],
            "needs_background": "light"
          }
        }
      ]
    },
    {
      "cell_type": "code",
      "metadata": {
        "colab": {
          "base_uri": "https://localhost:8080/",
          "height": 189
        },
        "id": "nitKwsUQtKrW",
        "outputId": "5eb1950b-041c-446c-d3b7-2bfce7534015"
      },
      "source": [
        "fig = plt.figure(figsize=(8, 2))\n",
        "sns.rugplot(x='odometer', data=df, height=1)"
      ],
      "execution_count": 32,
      "outputs": [
        {
          "output_type": "execute_result",
          "data": {
            "text/plain": [
              "<matplotlib.axes._subplots.AxesSubplot at 0x7ff924ad48d0>"
            ]
          },
          "metadata": {
            "tags": []
          },
          "execution_count": 32
        },
        {
          "output_type": "display_data",
          "data": {
            "image/png": "[encoded data removed]",
            "text/plain": [
              "<Figure size 576x144 with 1 Axes>"
            ]
          },
          "metadata": {
            "tags": [],
            "needs_background": "light"
          }
        }
      ]
    },
    {
      "cell_type": "code",
      "metadata": {
        "colab": {
          "base_uri": "https://localhost:8080/",
          "height": 301
        },
        "id": "8BEoWgJ6tLGw",
        "outputId": "1dba5156-9eb1-4aca-a109-94214aed7a78"
      },
      "source": [
        "sns.histplot(x='age', data=df, bins=18, kde=True) #5~10년 정도가 가장 많음."
      ],
      "execution_count": 33,
      "outputs": [
        {
          "output_type": "execute_result",
          "data": {
            "text/plain": [
              "<matplotlib.axes._subplots.AxesSubplot at 0x7ff92f665550>"
            ]
          },
          "metadata": {
            "tags": []
          },
          "execution_count": 33
        },
        {
          "output_type": "display_data",
          "data": {
            "image/png": "[encoded data removed]",
            "text/plain": [
              "<Figure size 432x288 with 1 Axes>"
            ]
          },
          "metadata": {
            "tags": [],
            "needs_background": "light"
          }
        }
      ]
    },
    {
      "cell_type": "markdown",
      "metadata": {
        "id": "izztXKpllMss"
      },
      "source": [
        "## Step 3. 데이터 클리닝 수행하기"
      ]
    },
    {
      "cell_type": "markdown",
      "metadata": {
        "id": "KywGh9sjtYl9"
      },
      "source": [
        "### 7. 범주형 데이터 시각화하여 분석하기\n",
        "--> 범주형 데이터별로 price와의 연관성을 봐보자...."
      ]
    },
    {
      "cell_type": "code",
      "metadata": {
        "colab": {
          "base_uri": "https://localhost:8080/"
        },
        "id": "M55p-TjW1M1W",
        "outputId": "29964932-683d-4690-c5fe-c46586b48435"
      },
      "source": [
        "df.columns"
      ],
      "execution_count": 34,
      "outputs": [
        {
          "output_type": "execute_result",
          "data": {
            "text/plain": [
              "Index(['region', 'price', 'manufacturer', 'model', 'condition', 'cylinders',\n",
              "       'fuel', 'odometer', 'title_status', 'transmission', 'drive', 'size',\n",
              "       'type', 'paint_color', 'age'],\n",
              "      dtype='object')"
            ]
          },
          "metadata": {
            "tags": []
          },
          "execution_count": 34
        }
      ]
    },
    {
      "cell_type": "code",
      "metadata": {
        "id": "TqXkwW8JDxhH",
        "colab": {
          "base_uri": "https://localhost:8080/",
          "height": 308
        },
        "outputId": "2923fb2f-3d9b-431b-dfe0-3e5c170bac3a"
      },
      "source": [
        "# Boxplot 계열로 범주형 데이터를 시각화하여 분석하기\n",
        "sns.boxplot(x='manufacturer', y='price', data=df.fillna('n/a'))\n",
        "#도저히 분석이 안되므로, 데이터를 한번 클리닝 한다음에 접근하도록하자. "
      ],
      "execution_count": 35,
      "outputs": [
        {
          "output_type": "execute_result",
          "data": {
            "text/plain": [
              "<matplotlib.axes._subplots.AxesSubplot at 0x7ff93e5dc050>"
            ]
          },
          "metadata": {
            "tags": []
          },
          "execution_count": 35
        },
        {
          "output_type": "display_data",
          "data": {
            "image/png": "[encoded data removed]",
            "text/plain": [
              "<Figure size 432x288 with 1 Axes>"
            ]
          },
          "metadata": {
            "tags": [],
            "needs_background": "light"
          }
        }
      ]
    },
    {
      "cell_type": "code",
      "metadata": {
        "colab": {
          "base_uri": "https://localhost:8080/",
          "height": 308
        },
        "id": "-XNCNlTU1W88",
        "outputId": "11924ec4-52ce-4379-a261-05fb1c614dbf"
      },
      "source": [
        "sns.boxplot(x='fuel', y='price', data=df.fillna('n/a'))"
      ],
      "execution_count": 36,
      "outputs": [
        {
          "output_type": "execute_result",
          "data": {
            "text/plain": [
              "<matplotlib.axes._subplots.AxesSubplot at 0x7ff90d5055d0>"
            ]
          },
          "metadata": {
            "tags": []
          },
          "execution_count": 36
        },
        {
          "output_type": "display_data",
          "data": {
            "image/png": "[encoded data removed]",
            "text/plain": [
              "<Figure size 432x288 with 1 Axes>"
            ]
          },
          "metadata": {
            "tags": [],
            "needs_background": "light"
          }
        }
      ]
    },
    {
      "cell_type": "markdown",
      "metadata": {
        "id": "CXLd43EZ9EgS"
      },
      "source": [
        "### 8. 범주형 데이터 클리닝하기"
      ]
    },
    {
      "cell_type": "code",
      "metadata": {
        "colab": {
          "base_uri": "https://localhost:8080/"
        },
        "id": "ulrrGKJ221D7",
        "outputId": "e3c6566a-3131-4f09-dc19-50800f0d86cc"
      },
      "source": [
        "df.columns"
      ],
      "execution_count": 37,
      "outputs": [
        {
          "output_type": "execute_result",
          "data": {
            "text/plain": [
              "Index(['region', 'price', 'manufacturer', 'model', 'condition', 'cylinders',\n",
              "       'fuel', 'odometer', 'title_status', 'transmission', 'drive', 'size',\n",
              "       'type', 'paint_color', 'age'],\n",
              "      dtype='object')"
            ]
          },
          "metadata": {
            "tags": []
          },
          "execution_count": 37
        }
      ]
    },
    {
      "cell_type": "code",
      "metadata": {
        "id": "8HbUtvqs9C-C"
      },
      "source": [
        "# 범주형 데이터는 아래 방법 중 적절히 판단하여 처리할수 있음.\n",
        "# 1. 결손 데이터가 포함된 Row를 제거\n",
        "# 2. 결손 데이터를 others 범주로 변경하기\n",
        "# 3. 지나치게 소수로 이루어진 범주를 others 범주로 변경하기\n",
        "# 4. Classifier를 학습해서, 결손데이터를 추정하여 채워넣기. \n",
        "df.drop('title_status', axis=1, inplace=True)"
      ],
      "execution_count": 38,
      "outputs": []
    },
    {
      "cell_type": "code",
      "metadata": {
        "colab": {
          "base_uri": "https://localhost:8080/",
          "height": 283
        },
        "id": "LGzbnzl33EmE",
        "outputId": "0243a450-d80e-47aa-ad42-9cf70667a20c"
      },
      "source": [
        "#저 컬럼들을 일일히 다 손보는건 좀 짜증나니까, 좀 자동으로 다듬어 지게 만들어 보자. 일단 결측값을 'others'로 채워넣음. 결측치도 하나의 피쳐로 보겠음.\n",
        "#너무 많으니까;\n",
        "#일단 paint_color 봐본다. \n",
        "col = 'paint_color'\n",
        "counts = df[col].fillna('others').value_counts()\n",
        "plt.grid()\n",
        "plt.plot(range(len(counts)), counts)"
      ],
      "execution_count": 39,
      "outputs": [
        {
          "output_type": "execute_result",
          "data": {
            "text/plain": [
              "[<matplotlib.lines.Line2D at 0x7ff90c6356d0>]"
            ]
          },
          "metadata": {
            "tags": []
          },
          "execution_count": 39
        },
        {
          "output_type": "display_data",
          "data": {
            "image/png": "[encoded data removed]",
            "text/plain": [
              "<Figure size 432x288 with 1 Axes>"
            ]
          },
          "metadata": {
            "tags": [],
            "needs_background": "light"
          }
        }
      ]
    },
    {
      "cell_type": "code",
      "metadata": {
        "colab": {
          "base_uri": "https://localhost:8080/"
        },
        "id": "A4sLhSNZ397C",
        "outputId": "f626fdd2-02a6-44e0-e299-11d3ae2056f2"
      },
      "source": [
        "counts.index #카테고리가 너무 많으니까, 한 7개까지만 보고 그 외것들은 다 others로 치부해 버리자. (차원의 저주)"
      ],
      "execution_count": 40,
      "outputs": [
        {
          "output_type": "execute_result",
          "data": {
            "text/plain": [
              "Index(['others', 'white', 'black', 'silver', 'blue', 'red', 'grey', 'green',\n",
              "       'custom', 'brown', 'yellow', 'orange', 'purple'],\n",
              "      dtype='object')"
            ]
          },
          "metadata": {
            "tags": []
          },
          "execution_count": 40
        }
      ]
    },
    {
      "cell_type": "code",
      "metadata": {
        "id": "gYirbUPq3Ewj"
      },
      "source": [
        "n_categorical = 7\n",
        "others = counts.index[n_categorical:]\n",
        "df[col] = df[col].apply(lambda s: s if str(s) not in others else 'others')\n",
        "#람다 s가 counts.index[n_categorical:]에 속하면 s그대로 쓰고, 아니면 others로 쓴다"
      ],
      "execution_count": 41,
      "outputs": []
    },
    {
      "cell_type": "code",
      "metadata": {
        "colab": {
          "base_uri": "https://localhost:8080/"
        },
        "id": "cBVJlgKV3E91",
        "outputId": "9f648edd-733e-4fd2-fbe0-62043342b0bb"
      },
      "source": [
        "df[col].value_counts()"
      ],
      "execution_count": 42,
      "outputs": [
        {
          "output_type": "execute_result",
          "data": {
            "text/plain": [
              "white     79285\n",
              "black     62861\n",
              "silver    42970\n",
              "blue      31223\n",
              "red       30473\n",
              "others    25449\n",
              "grey      24416\n",
              "Name: paint_color, dtype: int64"
            ]
          },
          "metadata": {
            "tags": []
          },
          "execution_count": 42
        }
      ]
    },
    {
      "cell_type": "code",
      "metadata": {
        "colab": {
          "base_uri": "https://localhost:8080/"
        },
        "id": "SJhuvxMF6LRh",
        "outputId": "fdda1d2a-ead2-4c90-9391-c109110459ff"
      },
      "source": [
        "df.columns"
      ],
      "execution_count": 43,
      "outputs": [
        {
          "output_type": "execute_result",
          "data": {
            "text/plain": [
              "Index(['region', 'price', 'manufacturer', 'model', 'condition', 'cylinders',\n",
              "       'fuel', 'odometer', 'transmission', 'drive', 'size', 'type',\n",
              "       'paint_color', 'age'],\n",
              "      dtype='object')"
            ]
          },
          "metadata": {
            "tags": []
          },
          "execution_count": 43
        }
      ]
    },
    {
      "cell_type": "code",
      "metadata": {
        "colab": {
          "base_uri": "https://localhost:8080/",
          "height": 283
        },
        "id": "E-ka2vZY6I5l",
        "outputId": "d4b98078-0040-48e8-847e-aeff1a5ecca8"
      },
      "source": [
        "col = 'region'\n",
        "counts = df[col].fillna('others').value_counts()\n",
        "plt.grid()\n",
        "plt.plot(range(len(counts)), counts)"
      ],
      "execution_count": 44,
      "outputs": [
        {
          "output_type": "execute_result",
          "data": {
            "text/plain": [
              "[<matplotlib.lines.Line2D at 0x7ff90e3c1710>]"
            ]
          },
          "metadata": {
            "tags": []
          },
          "execution_count": 44
        },
        {
          "output_type": "display_data",
          "data": {
            "image/png": "[encoded data removed]",
            "text/plain": [
              "<Figure size 432x288 with 1 Axes>"
            ]
          },
          "metadata": {
            "tags": [],
            "needs_background": "light"
          }
        }
      ]
    },
    {
      "cell_type": "code",
      "metadata": {
        "colab": {
          "base_uri": "https://localhost:8080/"
        },
        "id": "J8y0tMSN6Y1G",
        "outputId": "b3d908d7-bb3f-435b-f3c7-d346bd1ac85e"
      },
      "source": [
        "n_categorical = 5\n",
        "others = counts.index[n_categorical:]\n",
        "df[col] = df[col].apply(lambda s: s if str(s) not in others else 'others')\n",
        "df[col].value_counts()"
      ],
      "execution_count": 45,
      "outputs": [
        {
          "output_type": "execute_result",
          "data": {
            "text/plain": [
              "others                     410754\n",
              "columbus                     3608\n",
              "jacksonville                 3562\n",
              "spokane / coeur d'alene      2988\n",
              "eugene                       2985\n",
              "orlando                      2983\n",
              "Name: region, dtype: int64"
            ]
          },
          "metadata": {
            "tags": []
          },
          "execution_count": 45
        }
      ]
    },
    {
      "cell_type": "code",
      "metadata": {
        "colab": {
          "base_uri": "https://localhost:8080/",
          "height": 283
        },
        "id": "xkILs50n6p4j",
        "outputId": "22328d55-4d4f-47ff-91b5-68017aba57fb"
      },
      "source": [
        "col = 'model'\n",
        "counts = df[col].fillna('others').value_counts()\n",
        "plt.grid()\n",
        "plt.plot(range(len(counts)), counts)\n",
        "#얘는 좀 극단적이네....카테고리가 너무 많으니 상위 20개만 좀 봐보자. "
      ],
      "execution_count": 46,
      "outputs": [
        {
          "output_type": "execute_result",
          "data": {
            "text/plain": [
              "[<matplotlib.lines.Line2D at 0x7ff90bb43690>]"
            ]
          },
          "metadata": {
            "tags": []
          },
          "execution_count": 46
        },
        {
          "output_type": "display_data",
          "data": {
            "image/png": "[encoded data removed]",
            "text/plain": [
              "<Figure size 432x288 with 1 Axes>"
            ]
          },
          "metadata": {
            "tags": [],
            "needs_background": "light"
          }
        }
      ]
    },
    {
      "cell_type": "code",
      "metadata": {
        "colab": {
          "base_uri": "https://localhost:8080/",
          "height": 283
        },
        "id": "ZohR9P8Y6qCN",
        "outputId": "41ca4e7f-ae2c-492d-9b70-9275ff143dda"
      },
      "source": [
        "plt.grid()\n",
        "plt.plot(range(len(counts[:20])), counts[:20])\n",
        "#10개 이상은 다 others해도 되겠네."
      ],
      "execution_count": 47,
      "outputs": [
        {
          "output_type": "execute_result",
          "data": {
            "text/plain": [
              "[<matplotlib.lines.Line2D at 0x7ff90ce04750>]"
            ]
          },
          "metadata": {
            "tags": []
          },
          "execution_count": 47
        },
        {
          "output_type": "display_data",
          "data": {
            "image/png": "[encoded data removed]",
            "text/plain": [
              "<Figure size 432x288 with 1 Axes>"
            ]
          },
          "metadata": {
            "tags": [],
            "needs_background": "light"
          }
        }
      ]
    },
    {
      "cell_type": "code",
      "metadata": {
        "colab": {
          "base_uri": "https://localhost:8080/"
        },
        "id": "FGXUsWBU6qK8",
        "outputId": "48dc52f9-fbb6-4df2-baf1-3c62e8c5b9ec"
      },
      "source": [
        "n_categorical = 5\n",
        "#df[col] = df[col].apply(lambda s: s if str(s) not in counts.index[n_categorical:] else 'others') 이렇게 람다수식을 작성해버리면\n",
        "#코드를 읽을 때마다 3만개의 카테고리 리스트를 람다가 호출될떄마다 새로 만들어버림. 그래서 속도 개선을 위해 리스트를 미리 만들어주는데\n",
        "#그 역할을 하는게 이거임 --> others = counts.index[n_categorical:]\n",
        "others = counts.index[n_categorical:]\n",
        "df[col] = df[col].apply(lambda s: s if str(s) not in others else 'others')\n",
        "df[col].value_counts()"
      ],
      "execution_count": 48,
      "outputs": [
        {
          "output_type": "execute_result",
          "data": {
            "text/plain": [
              "others            401108\n",
              "f-150               8009\n",
              "silverado 1500      5140\n",
              "1500                4211\n",
              "camry               3135\n",
              "Name: model, dtype: int64"
            ]
          },
          "metadata": {
            "tags": []
          },
          "execution_count": 48
        }
      ]
    },
    {
      "cell_type": "code",
      "metadata": {
        "colab": {
          "base_uri": "https://localhost:8080/"
        },
        "id": "HTJ0A1ah8LP5",
        "outputId": "9c733703-fa57-45dc-ce26-56a933dd5cd3"
      },
      "source": [
        "df.columns"
      ],
      "execution_count": 49,
      "outputs": [
        {
          "output_type": "execute_result",
          "data": {
            "text/plain": [
              "Index(['region', 'price', 'manufacturer', 'model', 'condition', 'cylinders',\n",
              "       'fuel', 'odometer', 'transmission', 'drive', 'size', 'type',\n",
              "       'paint_color', 'age'],\n",
              "      dtype='object')"
            ]
          },
          "metadata": {
            "tags": []
          },
          "execution_count": 49
        }
      ]
    },
    {
      "cell_type": "code",
      "metadata": {
        "colab": {
          "base_uri": "https://localhost:8080/",
          "height": 283
        },
        "id": "WzbjLGbG8HVl",
        "outputId": "9bb3fcf9-aa5f-44d7-884d-ff72f564f363"
      },
      "source": [
        "col = 'condition'\n",
        "counts = df[col].fillna('others').value_counts()\n",
        "plt.grid()\n",
        "plt.plot(range(len(counts)), counts)"
      ],
      "execution_count": 50,
      "outputs": [
        {
          "output_type": "execute_result",
          "data": {
            "text/plain": [
              "[<matplotlib.lines.Line2D at 0x7ff90de3fc90>]"
            ]
          },
          "metadata": {
            "tags": []
          },
          "execution_count": 50
        },
        {
          "output_type": "display_data",
          "data": {
            "image/png": "[encoded data removed]",
            "text/plain": [
              "<Figure size 432x288 with 1 Axes>"
            ]
          },
          "metadata": {
            "tags": [],
            "needs_background": "light"
          }
        }
      ]
    },
    {
      "cell_type": "code",
      "metadata": {
        "colab": {
          "base_uri": "https://localhost:8080/"
        },
        "id": "HsdwWmMK6qVr",
        "outputId": "ad147882-a334-4369-f077-2a17f3fb1bd5"
      },
      "source": [
        "n_categorical = 3\n",
        "others = counts.index[n_categorical:]\n",
        "df[col] = df[col].apply(lambda s: s if str(s) not in others else 'others')\n",
        "df[col].value_counts()"
      ],
      "execution_count": 51,
      "outputs": [
        {
          "output_type": "execute_result",
          "data": {
            "text/plain": [
              "good         121456\n",
              "excellent    101467\n",
              "others        29853\n",
              "Name: condition, dtype: int64"
            ]
          },
          "metadata": {
            "tags": []
          },
          "execution_count": 51
        }
      ]
    },
    {
      "cell_type": "code",
      "metadata": {
        "colab": {
          "base_uri": "https://localhost:8080/",
          "height": 283
        },
        "id": "SDHALwSC8Vv9",
        "outputId": "9a2ec43e-1bed-40cc-a6f7-c8795d9e7cf8"
      },
      "source": [
        "col = 'cylinders'\n",
        "counts = df[col].fillna('others').value_counts()\n",
        "plt.grid()\n",
        "plt.plot(range(len(counts)), counts)"
      ],
      "execution_count": 52,
      "outputs": [
        {
          "output_type": "execute_result",
          "data": {
            "text/plain": [
              "[<matplotlib.lines.Line2D at 0x7ff90c870a50>]"
            ]
          },
          "metadata": {
            "tags": []
          },
          "execution_count": 52
        },
        {
          "output_type": "display_data",
          "data": {
            "image/png": "[encoded data removed]",
            "text/plain": [
              "<Figure size 432x288 with 1 Axes>"
            ]
          },
          "metadata": {
            "tags": [],
            "needs_background": "light"
          }
        }
      ]
    },
    {
      "cell_type": "code",
      "metadata": {
        "colab": {
          "base_uri": "https://localhost:8080/"
        },
        "id": "g8DXrx2d8VzW",
        "outputId": "33c42440-77a9-4c44-d4ba-4cc5106fa2f5"
      },
      "source": [
        "n_categorical = 4\n",
        "others = counts.index[n_categorical:]\n",
        "df[col] = df[col].apply(lambda s: s if str(s) not in others else 'others')\n",
        "df[col].value_counts()"
      ],
      "execution_count": 53,
      "outputs": [
        {
          "output_type": "execute_result",
          "data": {
            "text/plain": [
              "6 cylinders    94169\n",
              "4 cylinders    77642\n",
              "8 cylinders    72062\n",
              "others          5329\n",
              "Name: cylinders, dtype: int64"
            ]
          },
          "metadata": {
            "tags": []
          },
          "execution_count": 53
        }
      ]
    },
    {
      "cell_type": "code",
      "metadata": {
        "colab": {
          "base_uri": "https://localhost:8080/",
          "height": 283
        },
        "id": "d4aZWPm38V2e",
        "outputId": "558a16a1-5d09-4be6-f120-31095cba20ff"
      },
      "source": [
        "#'fuel', 'odometer', 'transmission', 'drive', 'size', 'type','paint_color', 'county', 'age'],\n",
        "col = 'fuel'\n",
        "counts = df[col].fillna('others').value_counts()\n",
        "plt.grid()\n",
        "plt.plot(range(len(counts)), counts)"
      ],
      "execution_count": 54,
      "outputs": [
        {
          "output_type": "execute_result",
          "data": {
            "text/plain": [
              "[<matplotlib.lines.Line2D at 0x7ff90e213610>]"
            ]
          },
          "metadata": {
            "tags": []
          },
          "execution_count": 54
        },
        {
          "output_type": "display_data",
          "data": {
            "image/png": "[encoded data removed]",
            "text/plain": [
              "<Figure size 432x288 with 1 Axes>"
            ]
          },
          "metadata": {
            "tags": [],
            "needs_background": "light"
          }
        }
      ]
    },
    {
      "cell_type": "code",
      "metadata": {
        "colab": {
          "base_uri": "https://localhost:8080/"
        },
        "id": "Fn55KiKN8V5I",
        "outputId": "c906cf23-4839-4e85-fc43-f54f7aed426d"
      },
      "source": [
        "n_categorical = 3\n",
        "others = counts.index[n_categorical:]\n",
        "df[col] = df[col].apply(lambda s: s if str(s) not in others else 'others')\n",
        "df[col].value_counts()"
      ],
      "execution_count": 55,
      "outputs": [
        {
          "output_type": "execute_result",
          "data": {
            "text/plain": [
              "gas       356209\n",
              "other      30728\n",
              "diesel     30062\n",
              "others      6868\n",
              "Name: fuel, dtype: int64"
            ]
          },
          "metadata": {
            "tags": []
          },
          "execution_count": 55
        }
      ]
    },
    {
      "cell_type": "code",
      "metadata": {
        "colab": {
          "base_uri": "https://localhost:8080/",
          "height": 285
        },
        "id": "qAc1_c_z8847",
        "outputId": "79fd2dcd-2c14-4394-cf24-410bb58bb2b8"
      },
      "source": [
        "#'fuel', 'odometer', 'transmission', 'drive', 'size', 'type','paint_color', 'county', 'age'],\n",
        "col = 'transmission'\n",
        "counts = df[col].fillna('others').value_counts()\n",
        "plt.grid()\n",
        "plt.plot(range(len(counts)), counts)"
      ],
      "execution_count": 56,
      "outputs": [
        {
          "output_type": "execute_result",
          "data": {
            "text/plain": [
              "[<matplotlib.lines.Line2D at 0x7ff90d192d90>]"
            ]
          },
          "metadata": {
            "tags": []
          },
          "execution_count": 56
        },
        {
          "output_type": "display_data",
          "data": {
            "image/png": "[encoded data removed]",
            "text/plain": [
              "<Figure size 432x288 with 1 Axes>"
            ]
          },
          "metadata": {
            "tags": [],
            "needs_background": "light"
          }
        }
      ]
    },
    {
      "cell_type": "code",
      "metadata": {
        "colab": {
          "base_uri": "https://localhost:8080/"
        },
        "id": "3a0_UGZZ89EV",
        "outputId": "9af30479-c5e4-4ac1-a859-622973dc0ca4"
      },
      "source": [
        "n_categorical = 3\n",
        "others = counts.index[n_categorical:]\n",
        "df[col] = df[col].apply(lambda s: s if str(s) not in others else 'others')\n",
        "df[col].value_counts()"
      ],
      "execution_count": 57,
      "outputs": [
        {
          "output_type": "execute_result",
          "data": {
            "text/plain": [
              "automatic    336524\n",
              "other         62682\n",
              "manual        25118\n",
              "Name: transmission, dtype: int64"
            ]
          },
          "metadata": {
            "tags": []
          },
          "execution_count": 57
        }
      ]
    },
    {
      "cell_type": "code",
      "metadata": {
        "colab": {
          "base_uri": "https://localhost:8080/",
          "height": 283
        },
        "id": "Dqxgb0q5-ESB",
        "outputId": "8f7d19e4-0708-4e02-a3ed-d6d6ca755edd"
      },
      "source": [
        "#'fuel', 'odometer', 'transmission', 'drive', 'size', 'type','paint_color', 'county', 'age'],\n",
        "col = 'drive'\n",
        "counts = df[col].fillna('others').value_counts()\n",
        "plt.grid()\n",
        "plt.plot(range(len(counts)), counts)\n",
        "#얘는 3도 숫자가 좀 되네. 그대로 둔다."
      ],
      "execution_count": 58,
      "outputs": [
        {
          "output_type": "execute_result",
          "data": {
            "text/plain": [
              "[<matplotlib.lines.Line2D at 0x7ff90bf50ed0>]"
            ]
          },
          "metadata": {
            "tags": []
          },
          "execution_count": 58
        },
        {
          "output_type": "display_data",
          "data": {
            "image/png": "[encoded data removed]",
            "text/plain": [
              "<Figure size 432x288 with 1 Axes>"
            ]
          },
          "metadata": {
            "tags": [],
            "needs_background": "light"
          }
        }
      ]
    },
    {
      "cell_type": "code",
      "metadata": {
        "colab": {
          "base_uri": "https://localhost:8080/"
        },
        "id": "Qod9Xniu_q95",
        "outputId": "1477f32c-90c2-411e-8e43-6584f1fde520"
      },
      "source": [
        "df[col].value_counts()"
      ],
      "execution_count": 59,
      "outputs": [
        {
          "output_type": "execute_result",
          "data": {
            "text/plain": [
              "4wd    131904\n",
              "fwd    105517\n",
              "rwd     58892\n",
              "Name: drive, dtype: int64"
            ]
          },
          "metadata": {
            "tags": []
          },
          "execution_count": 59
        }
      ]
    },
    {
      "cell_type": "code",
      "metadata": {
        "colab": {
          "base_uri": "https://localhost:8080/",
          "height": 283
        },
        "id": "NoD5IF0W-Te6",
        "outputId": "1db1c728-8414-463b-e076-9527be64f9fa"
      },
      "source": [
        "#'fuel', 'odometer', 'transmission', 'drive', 'size', 'type','paint_color', 'county', 'age'],\n",
        "col = 'size'\n",
        "counts = df[col].fillna('others').value_counts()\n",
        "plt.grid()\n",
        "plt.plot(range(len(counts)), counts)\n",
        "#얘는 3도 숫자가 좀 되네. 그대로 둔다."
      ],
      "execution_count": 60,
      "outputs": [
        {
          "output_type": "execute_result",
          "data": {
            "text/plain": [
              "[<matplotlib.lines.Line2D at 0x7ff90c92ffd0>]"
            ]
          },
          "metadata": {
            "tags": []
          },
          "execution_count": 60
        },
        {
          "output_type": "display_data",
          "data": {
            "image/png": "[encoded data removed]",
            "text/plain": [
              "<Figure size 432x288 with 1 Axes>"
            ]
          },
          "metadata": {
            "tags": [],
            "needs_background": "light"
          }
        }
      ]
    },
    {
      "cell_type": "code",
      "metadata": {
        "colab": {
          "base_uri": "https://localhost:8080/"
        },
        "id": "6M8X_SQV-Tnr",
        "outputId": "51d36521-cd9f-4734-8cba-87aec1052552"
      },
      "source": [
        "n_categorical = 2\n",
        "others = counts.index[n_categorical:]\n",
        "df[col] = df[col].apply(lambda s: s if str(s) not in others else 'others')\n",
        "df[col].value_counts()"
      ],
      "execution_count": 61,
      "outputs": [
        {
          "output_type": "execute_result",
          "data": {
            "text/plain": [
              "full-size    63465\n",
              "others       57054\n",
              "Name: size, dtype: int64"
            ]
          },
          "metadata": {
            "tags": []
          },
          "execution_count": 61
        }
      ]
    },
    {
      "cell_type": "code",
      "metadata": {
        "colab": {
          "base_uri": "https://localhost:8080/",
          "height": 283
        },
        "id": "q2mrk6sY-EZ1",
        "outputId": "a8b0919e-02e0-4269-c365-8e92a2b8e140"
      },
      "source": [
        "#'fuel', 'odometer', 'transmission', 'drive', 'size', 'type','paint_color', 'county', 'age'],\n",
        "col = 'type'\n",
        "counts = df[col].fillna('others').value_counts()\n",
        "plt.grid()\n",
        "plt.plot(range(len(counts)), counts)\n"
      ],
      "execution_count": 62,
      "outputs": [
        {
          "output_type": "execute_result",
          "data": {
            "text/plain": [
              "[<matplotlib.lines.Line2D at 0x7ff90e1d7790>]"
            ]
          },
          "metadata": {
            "tags": []
          },
          "execution_count": 62
        },
        {
          "output_type": "display_data",
          "data": {
            "image/png": "[encoded data removed]",
            "text/plain": [
              "<Figure size 432x288 with 1 Axes>"
            ]
          },
          "metadata": {
            "tags": [],
            "needs_background": "light"
          }
        }
      ]
    },
    {
      "cell_type": "code",
      "metadata": {
        "colab": {
          "base_uri": "https://localhost:8080/"
        },
        "id": "hflsDLG48WDf",
        "outputId": "96e659ba-fed9-45a6-a9c0-ccb96fee0d28"
      },
      "source": [
        "n_categorical = 8\n",
        "others = counts.index[n_categorical:]\n",
        "df[col] = df[col].apply(lambda s: s if str(s) not in others else 'others')\n",
        "df[col].value_counts()"
      ],
      "execution_count": 63,
      "outputs": [
        {
          "output_type": "execute_result",
          "data": {
            "text/plain": [
              "sedan        87056\n",
              "SUV          77284\n",
              "pickup       43510\n",
              "truck        35279\n",
              "others       32981\n",
              "other        22110\n",
              "coupe        19204\n",
              "hatchback    16598\n",
              "Name: type, dtype: int64"
            ]
          },
          "metadata": {
            "tags": []
          },
          "execution_count": 63
        }
      ]
    },
    {
      "cell_type": "code",
      "metadata": {
        "colab": {
          "base_uri": "https://localhost:8080/",
          "height": 283
        },
        "id": "_WavwmoSGqiX",
        "outputId": "8ba6d400-e22e-4874-b08f-524901fbe673"
      },
      "source": [
        "col = 'manufacturer'\n",
        "counts = df[col].fillna('others').value_counts()\n",
        "plt.grid()\n",
        "plt.plot(range(len(counts)), counts)\n"
      ],
      "execution_count": 64,
      "outputs": [
        {
          "output_type": "execute_result",
          "data": {
            "text/plain": [
              "[<matplotlib.lines.Line2D at 0x7ff90b949250>]"
            ]
          },
          "metadata": {
            "tags": []
          },
          "execution_count": 64
        },
        {
          "output_type": "display_data",
          "data": {
            "image/png": "[encoded data removed]",
            "text/plain": [
              "<Figure size 432x288 with 1 Axes>"
            ]
          },
          "metadata": {
            "tags": [],
            "needs_background": "light"
          }
        }
      ]
    },
    {
      "cell_type": "code",
      "metadata": {
        "colab": {
          "base_uri": "https://localhost:8080/"
        },
        "id": "Uwayo_v2GqtD",
        "outputId": "4ee67034-2831-4004-c1cb-1fa2c88894fb"
      },
      "source": [
        "n_categorical = 10\n",
        "others = counts.index[n_categorical:]\n",
        "df[col] = df[col].apply(lambda s: s if str(s) not in others else 'others')\n",
        "df[col].value_counts()"
      ],
      "execution_count": 65,
      "outputs": [
        {
          "output_type": "execute_result",
          "data": {
            "text/plain": [
              "others       139807\n",
              "ford          70985\n",
              "chevrolet     55064\n",
              "toyota        34202\n",
              "honda         21269\n",
              "nissan        19067\n",
              "jeep          19014\n",
              "ram           18342\n",
              "gmc           16785\n",
              "bmw           14699\n",
              "Name: manufacturer, dtype: int64"
            ]
          },
          "metadata": {
            "tags": []
          },
          "execution_count": 65
        }
      ]
    },
    {
      "cell_type": "code",
      "metadata": {
        "id": "Qptao-4iGq3u"
      },
      "source": [
        ""
      ],
      "execution_count": 65,
      "outputs": []
    },
    {
      "cell_type": "code",
      "metadata": {
        "id": "YCVYGPJrCV8P"
      },
      "source": [
        "df.loc[df[col] == 'other', col] = 'others'#'other'랑 'others'는 합쳐주도록 할까."
      ],
      "execution_count": 66,
      "outputs": []
    },
    {
      "cell_type": "code",
      "metadata": {
        "id": "k-ra7hpzCXgy"
      },
      "source": [
        "df[col].fillna('others', inplace=True)"
      ],
      "execution_count": 67,
      "outputs": []
    },
    {
      "cell_type": "markdown",
      "metadata": {
        "id": "xsd_T_h_lgtY"
      },
      "source": [
        "### 9. 수치형 데이터 클리닝하기"
      ]
    },
    {
      "cell_type": "code",
      "metadata": {
        "id": "PRYiAxnKlgtY",
        "colab": {
          "base_uri": "https://localhost:8080/"
        },
        "outputId": "15a3b68e-21c9-46b0-9c33-0b18ffe6c232"
      },
      "source": [
        "# quantile() 메소드를 이용하여 outlier 제거하고 시각화하여 확인하기\n",
        "# quantile() 메소드를 이용하여 outlier 제거하고 시각화하여 확인하기\n",
        "# 이상치제거를 위해 상위 1%와 하위 10%를 버림. 일일히 %숫자 넣어가면서 찾으삼.\n",
        "p1 = df['price'].quantile(0.99)\n",
        "p2 = df['price'].quantile(0.1)\n",
        "print(p1, p2)"
      ],
      "execution_count": 68,
      "outputs": [
        {
          "output_type": "stream",
          "text": [
            "66995.0 500.0\n"
          ],
          "name": "stdout"
        }
      ]
    },
    {
      "cell_type": "code",
      "metadata": {
        "id": "D2Rw26Y0Ezi6"
      },
      "source": [
        "df = df[(p1 > df['price']) & (df['price'] > p2)]"
      ],
      "execution_count": 69,
      "outputs": []
    },
    {
      "cell_type": "code",
      "metadata": {
        "colab": {
          "base_uri": "https://localhost:8080/"
        },
        "id": "iTKEl7IREzsG",
        "outputId": "96543a32-4d2b-457d-d7f5-51785a09f931"
      },
      "source": [
        "o1 = df['odometer'].quantile(0.99)\n",
        "o2 = df['odometer'].quantile(0.1)\n",
        "print(o1, o2)"
      ],
      "execution_count": 70,
      "outputs": [
        {
          "output_type": "stream",
          "text": [
            "280000.0 15812.0\n"
          ],
          "name": "stdout"
        }
      ]
    },
    {
      "cell_type": "code",
      "metadata": {
        "id": "_MhmJiZmEz0j"
      },
      "source": [
        "df = df[(o1 > df['odometer']) & (df['odometer'] > o2)]"
      ],
      "execution_count": 71,
      "outputs": []
    },
    {
      "cell_type": "code",
      "metadata": {
        "colab": {
          "base_uri": "https://localhost:8080/",
          "height": 299
        },
        "id": "pbw67bOdE48P",
        "outputId": "f63ff125-aca3-4723-f05d-90facc6f173a"
      },
      "source": [
        "df.describe()\n",
        "#평균값이랑 중앙값이 비슷해지면 가우시안에 가까워 지는 거임. 값이 좀 비슷해 보이므로 어느정도는 합리적이게 잘랐다라고 볼수 있음....\n",
        "#age....는 골동품 팔수도 있으니;;일단 놔둬보자."
      ],
      "execution_count": 72,
      "outputs": [
        {
          "output_type": "execute_result",
          "data": {
            "text/html": [
              "<div>\n",
              "<style scoped>\n",
              "    .dataframe tbody tr th:only-of-type {\n",
              "        vertical-align: middle;\n",
              "    }\n",
              "\n",
              "    .dataframe tbody tr th {\n",
              "        vertical-align: top;\n",
              "    }\n",
              "\n",
              "    .dataframe thead th {\n",
              "        text-align: right;\n",
              "    }\n",
              "</style>\n",
              "<table border=\"1\" class=\"dataframe\">\n",
              "  <thead>\n",
              "    <tr style=\"text-align: right;\">\n",
              "      <th></th>\n",
              "      <th>price</th>\n",
              "      <th>odometer</th>\n",
              "      <th>age</th>\n",
              "    </tr>\n",
              "  </thead>\n",
              "  <tbody>\n",
              "    <tr>\n",
              "      <th>count</th>\n",
              "      <td>335851.000000</td>\n",
              "      <td>335851.000000</td>\n",
              "      <td>335248.000000</td>\n",
              "    </tr>\n",
              "    <tr>\n",
              "      <th>mean</th>\n",
              "      <td>17534.838914</td>\n",
              "      <td>101335.798690</td>\n",
              "      <td>10.239056</td>\n",
              "    </tr>\n",
              "    <tr>\n",
              "      <th>std</th>\n",
              "      <td>12645.528274</td>\n",
              "      <td>56884.388094</td>\n",
              "      <td>8.469817</td>\n",
              "    </tr>\n",
              "    <tr>\n",
              "      <th>min</th>\n",
              "      <td>501.000000</td>\n",
              "      <td>15813.000000</td>\n",
              "      <td>-1.000000</td>\n",
              "    </tr>\n",
              "    <tr>\n",
              "      <th>25%</th>\n",
              "      <td>7425.500000</td>\n",
              "      <td>53000.000000</td>\n",
              "      <td>5.000000</td>\n",
              "    </tr>\n",
              "    <tr>\n",
              "      <th>50%</th>\n",
              "      <td>14500.000000</td>\n",
              "      <td>96936.000000</td>\n",
              "      <td>8.000000</td>\n",
              "    </tr>\n",
              "    <tr>\n",
              "      <th>75%</th>\n",
              "      <td>25226.500000</td>\n",
              "      <td>140337.000000</td>\n",
              "      <td>13.000000</td>\n",
              "    </tr>\n",
              "    <tr>\n",
              "      <th>max</th>\n",
              "      <td>66992.000000</td>\n",
              "      <td>279974.000000</td>\n",
              "      <td>121.000000</td>\n",
              "    </tr>\n",
              "  </tbody>\n",
              "</table>\n",
              "</div>"
            ],
            "text/plain": [
              "               price       odometer            age\n",
              "count  335851.000000  335851.000000  335248.000000\n",
              "mean    17534.838914  101335.798690      10.239056\n",
              "std     12645.528274   56884.388094       8.469817\n",
              "min       501.000000   15813.000000      -1.000000\n",
              "25%      7425.500000   53000.000000       5.000000\n",
              "50%     14500.000000   96936.000000       8.000000\n",
              "75%     25226.500000  140337.000000      13.000000\n",
              "max     66992.000000  279974.000000     121.000000"
            ]
          },
          "metadata": {
            "tags": []
          },
          "execution_count": 72
        }
      ]
    },
    {
      "cell_type": "markdown",
      "metadata": {
        "id": "avraJlLEF9UE"
      },
      "source": [
        "### 10. 수치형 데이터 시각화하여 분석하기"
      ]
    },
    {
      "cell_type": "code",
      "metadata": {
        "colab": {
          "base_uri": "https://localhost:8080/",
          "height": 355
        },
        "id": "NA4KSocjE5Dt",
        "outputId": "1ba3ce04-c6a0-4b23-b8f4-b7c1d83b85e2"
      },
      "source": [
        "# Seaborn을 이용하여 범주형 데이터를 시각화하여 분석하기\n",
        "# 값의 범위가 너무 넓을 경우 histplot() 등이 잘 동작하지 않으므로, rugplot을 활용\n",
        "# Boxplot 계열로 범주형 데이터를 시각화하여 분석하기\n",
        "fig = plt.figure(figsize=(10, 5))\n",
        "sns.boxplot(x='manufacturer', y='price', data=df)\n",
        "#근데 manufacturer는 범주형 데이터 잖음 ㅡㅡ??"
      ],
      "execution_count": 73,
      "outputs": [
        {
          "output_type": "execute_result",
          "data": {
            "text/plain": [
              "<matplotlib.axes._subplots.AxesSubplot at 0x7ff90da7b7d0>"
            ]
          },
          "metadata": {
            "tags": []
          },
          "execution_count": 73
        },
        {
          "output_type": "display_data",
          "data": {
            "image/png": "[encoded data removed]",
            "text/plain": [
              "<Figure size 720x360 with 1 Axes>"
            ]
          },
          "metadata": {
            "tags": [],
            "needs_background": "light"
          }
        }
      ]
    },
    {
      "cell_type": "code",
      "metadata": {
        "colab": {
          "base_uri": "https://localhost:8080/",
          "height": 355
        },
        "id": "cfGyOuIgGIWk",
        "outputId": "759ed643-0c12-45bd-c03e-0b150fb59b9e"
      },
      "source": [
        "fig = plt.figure(figsize=(14, 5))\n",
        "sns.boxplot(x='model', y='price', data=df)"
      ],
      "execution_count": 74,
      "outputs": [
        {
          "output_type": "execute_result",
          "data": {
            "text/plain": [
              "<matplotlib.axes._subplots.AxesSubplot at 0x7ff90b933850>"
            ]
          },
          "metadata": {
            "tags": []
          },
          "execution_count": 74
        },
        {
          "output_type": "display_data",
          "data": {
            "image/png": "[encoded data removed]",
            "text/plain": [
              "<Figure size 1008x360 with 1 Axes>"
            ]
          },
          "metadata": {
            "tags": [],
            "needs_background": "light"
          }
        }
      ]
    },
    {
      "cell_type": "code",
      "metadata": {
        "colab": {
          "base_uri": "https://localhost:8080/",
          "height": 355
        },
        "id": "_wZnSxgZGIhA",
        "outputId": "eb0688ba-142d-4373-f45f-b3bda659cb1f"
      },
      "source": [
        "fig = plt.figure(figsize=(14, 5))\n",
        "sns.boxplot(x='type', y='price', data=df)"
      ],
      "execution_count": 75,
      "outputs": [
        {
          "output_type": "execute_result",
          "data": {
            "text/plain": [
              "<matplotlib.axes._subplots.AxesSubplot at 0x7ff90ba6b810>"
            ]
          },
          "metadata": {
            "tags": []
          },
          "execution_count": 75
        },
        {
          "output_type": "display_data",
          "data": {
            "image/png": "[encoded data removed]",
            "text/plain": [
              "<Figure size 1008x360 with 1 Axes>"
            ]
          },
          "metadata": {
            "tags": [],
            "needs_background": "light"
          }
        }
      ]
    },
    {
      "cell_type": "code",
      "metadata": {
        "colab": {
          "base_uri": "https://localhost:8080/",
          "height": 355
        },
        "id": "b9nU5BBhGIrH",
        "outputId": "5dca1766-e70c-4ab9-8564-294ff8ce0122"
      },
      "source": [
        "fig = plt.figure(figsize=(14, 5))\n",
        "sns.boxplot(x='size', y='price', data=df)"
      ],
      "execution_count": 76,
      "outputs": [
        {
          "output_type": "execute_result",
          "data": {
            "text/plain": [
              "<matplotlib.axes._subplots.AxesSubplot at 0x7ff90bf78710>"
            ]
          },
          "metadata": {
            "tags": []
          },
          "execution_count": 76
        },
        {
          "output_type": "display_data",
          "data": {
            "image/png": "[encoded data removed]",
            "text/plain": [
              "<Figure size 1008x360 with 1 Axes>"
            ]
          },
          "metadata": {
            "tags": [],
            "needs_background": "light"
          }
        }
      ]
    },
    {
      "cell_type": "code",
      "metadata": {
        "colab": {
          "base_uri": "https://localhost:8080/",
          "height": 355
        },
        "id": "qg2tmi2FHvwM",
        "outputId": "251d52cb-17ba-47f7-bc30-325d5e0d3f0a"
      },
      "source": [
        "fig = plt.figure(figsize=(14, 5))\n",
        "sns.boxplot(x='drive', y='price', data=df)"
      ],
      "execution_count": 77,
      "outputs": [
        {
          "output_type": "execute_result",
          "data": {
            "text/plain": [
              "<matplotlib.axes._subplots.AxesSubplot at 0x7ff90bf67d10>"
            ]
          },
          "metadata": {
            "tags": []
          },
          "execution_count": 77
        },
        {
          "output_type": "display_data",
          "data": {
            "image/png": "[encoded data removed]",
            "text/plain": [
              "<Figure size 1008x360 with 1 Axes>"
            ]
          },
          "metadata": {
            "tags": [],
            "needs_background": "light"
          }
        }
      ]
    },
    {
      "cell_type": "code",
      "metadata": {
        "colab": {
          "base_uri": "https://localhost:8080/",
          "height": 355
        },
        "id": "n7dsBYk9Hv87",
        "outputId": "a2d983de-babf-4817-bdd8-ccf18a75a083"
      },
      "source": [
        "fig = plt.figure(figsize=(14, 5))\n",
        "sns.boxplot(x='region', y='price', data=df)"
      ],
      "execution_count": 78,
      "outputs": [
        {
          "output_type": "execute_result",
          "data": {
            "text/plain": [
              "<matplotlib.axes._subplots.AxesSubplot at 0x7ff90d151bd0>"
            ]
          },
          "metadata": {
            "tags": []
          },
          "execution_count": 78
        },
        {
          "output_type": "display_data",
          "data": {
            "image/png": "[encoded data removed]",
            "text/plain": [
              "<Figure size 1008x360 with 1 Axes>"
            ]
          },
          "metadata": {
            "tags": [],
            "needs_background": "light"
          }
        }
      ]
    },
    {
      "cell_type": "markdown",
      "metadata": {
        "id": "sWIF67-8lr4C"
      },
      "source": [
        "### 11. 컬럼간의 Correlation Heatmap으로 시각화하기"
      ]
    },
    {
      "cell_type": "code",
      "metadata": {
        "id": "wVmEa1ChlrTc",
        "colab": {
          "base_uri": "https://localhost:8080/",
          "height": 287
        },
        "outputId": "d3f199e5-c3bb-45ab-be65-02c145c3f754"
      },
      "source": [
        "sns.heatmap(df.corr(), annot=True, cmap='gnuplot')# 컨츄리....는 어떻게 해석해야되냐...ㅡㅡ.\n",
        "#annot=True 하면 절대값 보여줌..."
      ],
      "execution_count": 79,
      "outputs": [
        {
          "output_type": "execute_result",
          "data": {
            "text/plain": [
              "<matplotlib.axes._subplots.AxesSubplot at 0x7ff90c89f990>"
            ]
          },
          "metadata": {
            "tags": []
          },
          "execution_count": 79
        },
        {
          "output_type": "display_data",
          "data": {
            "image/png": "[encoded data removed]",
            "text/plain": [
              "<Figure size 432x288 with 2 Axes>"
            ]
          },
          "metadata": {
            "tags": [],
            "needs_background": "light"
          }
        }
      ]
    },
    {
      "cell_type": "markdown",
      "metadata": {
        "id": "FRfd7ABjepBS"
      },
      "source": [
        "## Step 4. 모델 학습을 위한 데이터 전처리 "
      ]
    },
    {
      "cell_type": "markdown",
      "metadata": {
        "id": "Dev2yLeMta85"
      },
      "source": [
        "### 12. StandardScaler를 이용해 수치형 데이터 표준화하기\n"
      ]
    },
    {
      "cell_type": "code",
      "metadata": {
        "id": "_k_SDCh5xMgD"
      },
      "source": [
        "from sklearn.preprocessing import StandardScaler"
      ],
      "execution_count": 80,
      "outputs": []
    },
    {
      "cell_type": "code",
      "metadata": {
        "id": "W3EO22NCE3wG"
      },
      "source": [
        "# StandardScaler를 이용해 수치형 데이터를 표준화하기\n",
        "\n",
        "X_num = df[['odometer', 'age']] #country는 정체를 몰라서 뺐음...\n",
        "\n",
        "scaler = StandardScaler()\n",
        "scaler.fit(X_num)\n",
        "X_scaled = scaler.transform(X_num)\n",
        "X_scaled = pd.DataFrame(X_scaled, index=X_num.index, columns=X_num.columns)#꼭 데이터프레임 재구성해줘야 나중에 실수안함!!\n",
        "\n",
        "# get_dummies를 이용해 범주형 데이터를 one-hot 벡터로 변경하기\n",
        "X_cat = df.drop(['price', 'odometer', 'age'], axis=1)\n",
        "\n",
        "X_cat = pd.get_dummies(X_cat)\n",
        "\n",
        "# 입출력 데이터 통합하기\n",
        "X = pd.concat([X_scaled, X_cat], axis=1)\n",
        "y = df['price']"
      ],
      "execution_count": 81,
      "outputs": []
    },
    {
      "cell_type": "code",
      "metadata": {
        "colab": {
          "base_uri": "https://localhost:8080/",
          "height": 260
        },
        "id": "6elIBIpJKlno",
        "outputId": "062972b7-73ea-44b9-dbe5-11ae76e4d14e"
      },
      "source": [
        "X.head()"
      ],
      "execution_count": 82,
      "outputs": [
        {
          "output_type": "execute_result",
          "data": {
            "text/html": [
              "<div>\n",
              "<style scoped>\n",
              "    .dataframe tbody tr th:only-of-type {\n",
              "        vertical-align: middle;\n",
              "    }\n",
              "\n",
              "    .dataframe tbody tr th {\n",
              "        vertical-align: top;\n",
              "    }\n",
              "\n",
              "    .dataframe thead th {\n",
              "        text-align: right;\n",
              "    }\n",
              "</style>\n",
              "<table border=\"1\" class=\"dataframe\">\n",
              "  <thead>\n",
              "    <tr style=\"text-align: right;\">\n",
              "      <th></th>\n",
              "      <th>odometer</th>\n",
              "      <th>age</th>\n",
              "      <th>region_columbus</th>\n",
              "      <th>region_eugene</th>\n",
              "      <th>region_jacksonville</th>\n",
              "      <th>region_orlando</th>\n",
              "      <th>region_others</th>\n",
              "      <th>region_spokane / coeur d'alene</th>\n",
              "      <th>manufacturer_bmw</th>\n",
              "      <th>manufacturer_chevrolet</th>\n",
              "      <th>manufacturer_ford</th>\n",
              "      <th>manufacturer_gmc</th>\n",
              "      <th>manufacturer_honda</th>\n",
              "      <th>manufacturer_jeep</th>\n",
              "      <th>manufacturer_nissan</th>\n",
              "      <th>manufacturer_others</th>\n",
              "      <th>manufacturer_ram</th>\n",
              "      <th>manufacturer_toyota</th>\n",
              "      <th>model_1500</th>\n",
              "      <th>model_camry</th>\n",
              "      <th>model_f-150</th>\n",
              "      <th>model_others</th>\n",
              "      <th>model_silverado 1500</th>\n",
              "      <th>condition_excellent</th>\n",
              "      <th>condition_good</th>\n",
              "      <th>condition_others</th>\n",
              "      <th>cylinders_4 cylinders</th>\n",
              "      <th>cylinders_6 cylinders</th>\n",
              "      <th>cylinders_8 cylinders</th>\n",
              "      <th>cylinders_others</th>\n",
              "      <th>fuel_diesel</th>\n",
              "      <th>fuel_gas</th>\n",
              "      <th>fuel_other</th>\n",
              "      <th>fuel_others</th>\n",
              "      <th>transmission_automatic</th>\n",
              "      <th>transmission_manual</th>\n",
              "      <th>transmission_other</th>\n",
              "      <th>drive_4wd</th>\n",
              "      <th>drive_fwd</th>\n",
              "      <th>drive_rwd</th>\n",
              "      <th>size_full-size</th>\n",
              "      <th>size_others</th>\n",
              "      <th>type_SUV</th>\n",
              "      <th>type_coupe</th>\n",
              "      <th>type_hatchback</th>\n",
              "      <th>type_other</th>\n",
              "      <th>type_others</th>\n",
              "      <th>type_pickup</th>\n",
              "      <th>type_sedan</th>\n",
              "      <th>type_truck</th>\n",
              "      <th>paint_color_black</th>\n",
              "      <th>paint_color_blue</th>\n",
              "      <th>paint_color_grey</th>\n",
              "      <th>paint_color_others</th>\n",
              "      <th>paint_color_red</th>\n",
              "      <th>paint_color_silver</th>\n",
              "      <th>paint_color_white</th>\n",
              "    </tr>\n",
              "  </thead>\n",
              "  <tbody>\n",
              "    <tr>\n",
              "      <th>27</th>\n",
              "      <td>-0.763177</td>\n",
              "      <td>-0.382424</td>\n",
              "      <td>0</td>\n",
              "      <td>0</td>\n",
              "      <td>0</td>\n",
              "      <td>0</td>\n",
              "      <td>1</td>\n",
              "      <td>0</td>\n",
              "      <td>0</td>\n",
              "      <td>0</td>\n",
              "      <td>0</td>\n",
              "      <td>1</td>\n",
              "      <td>0</td>\n",
              "      <td>0</td>\n",
              "      <td>0</td>\n",
              "      <td>0</td>\n",
              "      <td>0</td>\n",
              "      <td>0</td>\n",
              "      <td>0</td>\n",
              "      <td>0</td>\n",
              "      <td>0</td>\n",
              "      <td>1</td>\n",
              "      <td>0</td>\n",
              "      <td>0</td>\n",
              "      <td>1</td>\n",
              "      <td>0</td>\n",
              "      <td>0</td>\n",
              "      <td>0</td>\n",
              "      <td>1</td>\n",
              "      <td>0</td>\n",
              "      <td>0</td>\n",
              "      <td>1</td>\n",
              "      <td>0</td>\n",
              "      <td>0</td>\n",
              "      <td>0</td>\n",
              "      <td>0</td>\n",
              "      <td>1</td>\n",
              "      <td>0</td>\n",
              "      <td>0</td>\n",
              "      <td>0</td>\n",
              "      <td>0</td>\n",
              "      <td>0</td>\n",
              "      <td>0</td>\n",
              "      <td>0</td>\n",
              "      <td>0</td>\n",
              "      <td>0</td>\n",
              "      <td>0</td>\n",
              "      <td>1</td>\n",
              "      <td>0</td>\n",
              "      <td>0</td>\n",
              "      <td>0</td>\n",
              "      <td>0</td>\n",
              "      <td>0</td>\n",
              "      <td>0</td>\n",
              "      <td>0</td>\n",
              "      <td>0</td>\n",
              "      <td>1</td>\n",
              "    </tr>\n",
              "    <tr>\n",
              "      <th>28</th>\n",
              "      <td>-0.529264</td>\n",
              "      <td>0.089842</td>\n",
              "      <td>0</td>\n",
              "      <td>0</td>\n",
              "      <td>0</td>\n",
              "      <td>0</td>\n",
              "      <td>1</td>\n",
              "      <td>0</td>\n",
              "      <td>0</td>\n",
              "      <td>1</td>\n",
              "      <td>0</td>\n",
              "      <td>0</td>\n",
              "      <td>0</td>\n",
              "      <td>0</td>\n",
              "      <td>0</td>\n",
              "      <td>0</td>\n",
              "      <td>0</td>\n",
              "      <td>0</td>\n",
              "      <td>0</td>\n",
              "      <td>0</td>\n",
              "      <td>0</td>\n",
              "      <td>0</td>\n",
              "      <td>1</td>\n",
              "      <td>0</td>\n",
              "      <td>1</td>\n",
              "      <td>0</td>\n",
              "      <td>0</td>\n",
              "      <td>0</td>\n",
              "      <td>1</td>\n",
              "      <td>0</td>\n",
              "      <td>0</td>\n",
              "      <td>1</td>\n",
              "      <td>0</td>\n",
              "      <td>0</td>\n",
              "      <td>0</td>\n",
              "      <td>0</td>\n",
              "      <td>1</td>\n",
              "      <td>0</td>\n",
              "      <td>0</td>\n",
              "      <td>0</td>\n",
              "      <td>0</td>\n",
              "      <td>0</td>\n",
              "      <td>0</td>\n",
              "      <td>0</td>\n",
              "      <td>0</td>\n",
              "      <td>0</td>\n",
              "      <td>0</td>\n",
              "      <td>1</td>\n",
              "      <td>0</td>\n",
              "      <td>0</td>\n",
              "      <td>0</td>\n",
              "      <td>1</td>\n",
              "      <td>0</td>\n",
              "      <td>0</td>\n",
              "      <td>0</td>\n",
              "      <td>0</td>\n",
              "      <td>0</td>\n",
              "    </tr>\n",
              "    <tr>\n",
              "      <th>29</th>\n",
              "      <td>-1.444613</td>\n",
              "      <td>-1.090823</td>\n",
              "      <td>0</td>\n",
              "      <td>0</td>\n",
              "      <td>0</td>\n",
              "      <td>0</td>\n",
              "      <td>1</td>\n",
              "      <td>0</td>\n",
              "      <td>0</td>\n",
              "      <td>1</td>\n",
              "      <td>0</td>\n",
              "      <td>0</td>\n",
              "      <td>0</td>\n",
              "      <td>0</td>\n",
              "      <td>0</td>\n",
              "      <td>0</td>\n",
              "      <td>0</td>\n",
              "      <td>0</td>\n",
              "      <td>0</td>\n",
              "      <td>0</td>\n",
              "      <td>0</td>\n",
              "      <td>1</td>\n",
              "      <td>0</td>\n",
              "      <td>0</td>\n",
              "      <td>1</td>\n",
              "      <td>0</td>\n",
              "      <td>0</td>\n",
              "      <td>0</td>\n",
              "      <td>1</td>\n",
              "      <td>0</td>\n",
              "      <td>0</td>\n",
              "      <td>1</td>\n",
              "      <td>0</td>\n",
              "      <td>0</td>\n",
              "      <td>0</td>\n",
              "      <td>0</td>\n",
              "      <td>1</td>\n",
              "      <td>0</td>\n",
              "      <td>0</td>\n",
              "      <td>0</td>\n",
              "      <td>0</td>\n",
              "      <td>0</td>\n",
              "      <td>0</td>\n",
              "      <td>0</td>\n",
              "      <td>0</td>\n",
              "      <td>0</td>\n",
              "      <td>0</td>\n",
              "      <td>1</td>\n",
              "      <td>0</td>\n",
              "      <td>0</td>\n",
              "      <td>0</td>\n",
              "      <td>0</td>\n",
              "      <td>0</td>\n",
              "      <td>0</td>\n",
              "      <td>1</td>\n",
              "      <td>0</td>\n",
              "      <td>0</td>\n",
              "    </tr>\n",
              "    <tr>\n",
              "      <th>30</th>\n",
              "      <td>-1.058496</td>\n",
              "      <td>-0.736623</td>\n",
              "      <td>0</td>\n",
              "      <td>0</td>\n",
              "      <td>0</td>\n",
              "      <td>0</td>\n",
              "      <td>1</td>\n",
              "      <td>0</td>\n",
              "      <td>0</td>\n",
              "      <td>0</td>\n",
              "      <td>0</td>\n",
              "      <td>0</td>\n",
              "      <td>0</td>\n",
              "      <td>0</td>\n",
              "      <td>0</td>\n",
              "      <td>0</td>\n",
              "      <td>0</td>\n",
              "      <td>1</td>\n",
              "      <td>0</td>\n",
              "      <td>0</td>\n",
              "      <td>0</td>\n",
              "      <td>1</td>\n",
              "      <td>0</td>\n",
              "      <td>0</td>\n",
              "      <td>1</td>\n",
              "      <td>0</td>\n",
              "      <td>0</td>\n",
              "      <td>0</td>\n",
              "      <td>1</td>\n",
              "      <td>0</td>\n",
              "      <td>0</td>\n",
              "      <td>1</td>\n",
              "      <td>0</td>\n",
              "      <td>0</td>\n",
              "      <td>0</td>\n",
              "      <td>0</td>\n",
              "      <td>1</td>\n",
              "      <td>0</td>\n",
              "      <td>0</td>\n",
              "      <td>0</td>\n",
              "      <td>0</td>\n",
              "      <td>0</td>\n",
              "      <td>0</td>\n",
              "      <td>0</td>\n",
              "      <td>0</td>\n",
              "      <td>0</td>\n",
              "      <td>0</td>\n",
              "      <td>1</td>\n",
              "      <td>0</td>\n",
              "      <td>0</td>\n",
              "      <td>0</td>\n",
              "      <td>0</td>\n",
              "      <td>0</td>\n",
              "      <td>0</td>\n",
              "      <td>1</td>\n",
              "      <td>0</td>\n",
              "      <td>0</td>\n",
              "    </tr>\n",
              "    <tr>\n",
              "      <th>31</th>\n",
              "      <td>0.468744</td>\n",
              "      <td>-0.264357</td>\n",
              "      <td>0</td>\n",
              "      <td>0</td>\n",
              "      <td>0</td>\n",
              "      <td>0</td>\n",
              "      <td>1</td>\n",
              "      <td>0</td>\n",
              "      <td>0</td>\n",
              "      <td>0</td>\n",
              "      <td>1</td>\n",
              "      <td>0</td>\n",
              "      <td>0</td>\n",
              "      <td>0</td>\n",
              "      <td>0</td>\n",
              "      <td>0</td>\n",
              "      <td>0</td>\n",
              "      <td>0</td>\n",
              "      <td>0</td>\n",
              "      <td>0</td>\n",
              "      <td>0</td>\n",
              "      <td>1</td>\n",
              "      <td>0</td>\n",
              "      <td>1</td>\n",
              "      <td>0</td>\n",
              "      <td>0</td>\n",
              "      <td>0</td>\n",
              "      <td>1</td>\n",
              "      <td>0</td>\n",
              "      <td>0</td>\n",
              "      <td>0</td>\n",
              "      <td>1</td>\n",
              "      <td>0</td>\n",
              "      <td>0</td>\n",
              "      <td>1</td>\n",
              "      <td>0</td>\n",
              "      <td>0</td>\n",
              "      <td>0</td>\n",
              "      <td>0</td>\n",
              "      <td>1</td>\n",
              "      <td>1</td>\n",
              "      <td>0</td>\n",
              "      <td>0</td>\n",
              "      <td>0</td>\n",
              "      <td>0</td>\n",
              "      <td>0</td>\n",
              "      <td>0</td>\n",
              "      <td>0</td>\n",
              "      <td>0</td>\n",
              "      <td>1</td>\n",
              "      <td>1</td>\n",
              "      <td>0</td>\n",
              "      <td>0</td>\n",
              "      <td>0</td>\n",
              "      <td>0</td>\n",
              "      <td>0</td>\n",
              "      <td>0</td>\n",
              "    </tr>\n",
              "  </tbody>\n",
              "</table>\n",
              "</div>"
            ],
            "text/plain": [
              "    odometer       age  ...  paint_color_silver  paint_color_white\n",
              "27 -0.763177 -0.382424  ...                   0                  1\n",
              "28 -0.529264  0.089842  ...                   0                  0\n",
              "29 -1.444613 -1.090823  ...                   0                  0\n",
              "30 -1.058496 -0.736623  ...                   0                  0\n",
              "31  0.468744 -0.264357  ...                   0                  0\n",
              "\n",
              "[5 rows x 57 columns]"
            ]
          },
          "metadata": {
            "tags": []
          },
          "execution_count": 82
        }
      ]
    },
    {
      "cell_type": "code",
      "metadata": {
        "colab": {
          "base_uri": "https://localhost:8080/"
        },
        "id": "fZMIMYTIKlyb",
        "outputId": "261016f5-d46d-428c-e15d-951ac1fd3fb6"
      },
      "source": [
        "X.shape"
      ],
      "execution_count": 83,
      "outputs": [
        {
          "output_type": "execute_result",
          "data": {
            "text/plain": [
              "(335851, 57)"
            ]
          },
          "metadata": {
            "tags": []
          },
          "execution_count": 83
        }
      ]
    },
    {
      "cell_type": "code",
      "metadata": {
        "colab": {
          "base_uri": "https://localhost:8080/"
        },
        "id": "4bjoVIMTLgUA",
        "outputId": "400133d5-b76b-4eea-88de-acadd575bed1"
      },
      "source": [
        "X.isna().sum()"
      ],
      "execution_count": 84,
      "outputs": [
        {
          "output_type": "execute_result",
          "data": {
            "text/plain": [
              "odometer                            0\n",
              "age                               603\n",
              "region_columbus                     0\n",
              "region_eugene                       0\n",
              "region_jacksonville                 0\n",
              "region_orlando                      0\n",
              "region_others                       0\n",
              "region_spokane / coeur d'alene      0\n",
              "manufacturer_bmw                    0\n",
              "manufacturer_chevrolet              0\n",
              "manufacturer_ford                   0\n",
              "manufacturer_gmc                    0\n",
              "manufacturer_honda                  0\n",
              "manufacturer_jeep                   0\n",
              "manufacturer_nissan                 0\n",
              "manufacturer_others                 0\n",
              "manufacturer_ram                    0\n",
              "manufacturer_toyota                 0\n",
              "model_1500                          0\n",
              "model_camry                         0\n",
              "model_f-150                         0\n",
              "model_others                        0\n",
              "model_silverado 1500                0\n",
              "condition_excellent                 0\n",
              "condition_good                      0\n",
              "condition_others                    0\n",
              "cylinders_4 cylinders               0\n",
              "cylinders_6 cylinders               0\n",
              "cylinders_8 cylinders               0\n",
              "cylinders_others                    0\n",
              "fuel_diesel                         0\n",
              "fuel_gas                            0\n",
              "fuel_other                          0\n",
              "fuel_others                         0\n",
              "transmission_automatic              0\n",
              "transmission_manual                 0\n",
              "transmission_other                  0\n",
              "drive_4wd                           0\n",
              "drive_fwd                           0\n",
              "drive_rwd                           0\n",
              "size_full-size                      0\n",
              "size_others                         0\n",
              "type_SUV                            0\n",
              "type_coupe                          0\n",
              "type_hatchback                      0\n",
              "type_other                          0\n",
              "type_others                         0\n",
              "type_pickup                         0\n",
              "type_sedan                          0\n",
              "type_truck                          0\n",
              "paint_color_black                   0\n",
              "paint_color_blue                    0\n",
              "paint_color_grey                    0\n",
              "paint_color_others                  0\n",
              "paint_color_red                     0\n",
              "paint_color_silver                  0\n",
              "paint_color_white                   0\n",
              "dtype: int64"
            ]
          },
          "metadata": {
            "tags": []
          },
          "execution_count": 84
        }
      ]
    },
    {
      "cell_type": "code",
      "metadata": {
        "id": "BErTJsnkLdAu"
      },
      "source": [
        "#age가 평균이 0에 가까우므로...그냥 0줬음.\n",
        "X.fillna(0.0, inplace=True)"
      ],
      "execution_count": 86,
      "outputs": []
    },
    {
      "cell_type": "markdown",
      "metadata": {
        "id": "x93Tb6lptcA2"
      },
      "source": [
        "### 13. 학습데이터와 테스트데이터 분리하기\n"
      ]
    },
    {
      "cell_type": "code",
      "metadata": {
        "id": "C9kMQI8SEche"
      },
      "source": [
        "from sklearn.model_selection import train_test_split"
      ],
      "execution_count": 87,
      "outputs": []
    },
    {
      "cell_type": "code",
      "metadata": {
        "id": "F07QjOFwFNEw"
      },
      "source": [
        "# train_test_split() 함수로 학습 데이터와 테스트 데이터 분리하기\n",
        "X_train, X_test, y_train, y_test = train_test_split(X, y, test_size=0.3, random_state=1)"
      ],
      "execution_count": 88,
      "outputs": []
    },
    {
      "cell_type": "markdown",
      "metadata": {
        "id": "RrWrE8Z4exup"
      },
      "source": [
        "## Step 5. Regression 모델 학습하기"
      ]
    },
    {
      "cell_type": "markdown",
      "metadata": {
        "id": "NypEtNhdfCow"
      },
      "source": [
        "### 14. XGBoost Regression 모델 학습하기"
      ]
    },
    {
      "cell_type": "code",
      "metadata": {
        "id": "ow28ZRL4F7D5"
      },
      "source": [
        "from xgboost import XGBRegressor"
      ],
      "execution_count": 89,
      "outputs": []
    },
    {
      "cell_type": "code",
      "metadata": {
        "id": "LSSNqFUrGM6R",
        "colab": {
          "base_uri": "https://localhost:8080/"
        },
        "outputId": "a3e9e379-96d3-44f7-b7d2-6137971db902"
      },
      "source": [
        "# XGBRegressor 모델 생성/학습\n",
        "model_reg = XGBRegressor()\n",
        "model_reg.fit(X_train, y_train)"
      ],
      "execution_count": 90,
      "outputs": [
        {
          "output_type": "stream",
          "text": [
            "[14:43:17] WARNING: /workspace/src/objective/regression_obj.cu:152: reg:linear is now deprecated in favor of reg:squarederror.\n"
          ],
          "name": "stdout"
        },
        {
          "output_type": "execute_result",
          "data": {
            "text/plain": [
              "XGBRegressor(base_score=0.5, booster='gbtree', colsample_bylevel=1,\n",
              "             colsample_bynode=1, colsample_bytree=1, gamma=0,\n",
              "             importance_type='gain', learning_rate=0.1, max_delta_step=0,\n",
              "             max_depth=3, min_child_weight=1, missing=None, n_estimators=100,\n",
              "             n_jobs=1, nthread=None, objective='reg:linear', random_state=0,\n",
              "             reg_alpha=0, reg_lambda=1, scale_pos_weight=1, seed=None,\n",
              "             silent=None, subsample=1, verbosity=1)"
            ]
          },
          "metadata": {
            "tags": []
          },
          "execution_count": 90
        }
      ]
    },
    {
      "cell_type": "markdown",
      "metadata": {
        "id": "gUo8NmHkfIpf"
      },
      "source": [
        "### 15. 모델 학습 결과 평가하기"
      ]
    },
    {
      "cell_type": "code",
      "metadata": {
        "id": "rxvf1vgmfLs-"
      },
      "source": [
        "from sklearn.metrics import mean_absolute_error, mean_squared_error\n",
        "from math import sqrt"
      ],
      "execution_count": 91,
      "outputs": []
    },
    {
      "cell_type": "code",
      "metadata": {
        "id": "KDVy7fFGfUP1",
        "colab": {
          "base_uri": "https://localhost:8080/"
        },
        "outputId": "423233c6-5b99-4db7-8452-b743af696e29"
      },
      "source": [
        "# Predict를 수행하고 mean_absolute_error, rmse 결과 출력하기\n",
        "pred = model_reg.predict(X_test)\n",
        "print(mean_absolute_error(y_test, pred))\n",
        "print(sqrt(mean_squared_error(y_test, pred)))\n",
        "#에러값 존나큼 ㅋㅋㅋㅋㅋㅋㅋㅋㅋㅋㅋ"
      ],
      "execution_count": 92,
      "outputs": [
        {
          "output_type": "stream",
          "text": [
            "4465.672847081605\n",
            "6626.794520704104\n"
          ],
          "name": "stdout"
        }
      ]
    },
    {
      "cell_type": "markdown",
      "metadata": {
        "id": "DTqb-HqPtc4I"
      },
      "source": [
        "## Step 6. 모델 학습 결과 심화 분석하기\n"
      ]
    },
    {
      "cell_type": "markdown",
      "metadata": {
        "id": "xTRTOLTNto3h"
      },
      "source": [
        "### 16. 실제 값과 추측 값의 Scatter plot 시각화하기\n"
      ]
    },
    {
      "cell_type": "code",
      "metadata": {
        "id": "kKEP06-OmrBs",
        "colab": {
          "base_uri": "https://localhost:8080/",
          "height": 283
        },
        "outputId": "b6896bdf-6b9a-4a0a-c2b8-857bad11327c"
      },
      "source": [
        "# y_test vs. pred Scatter 플랏으로 시각적으로 분석하기\n",
        "# Hint) Scatter로 시각적 확인이 어려울 경우, histplot 등 활용\n",
        "plt.scatter(x=y_test, y=pred, alpha=0.005)#alpha값을 좀 많이 줄여서 특히 뭉쳐진 부분이 잘 드러나게 만들엇음,\n",
        "plt.plot([0,60000], [0,60000], 'r-')\n",
        "#보면 값이 비싼 차들은 좀 과소평가하는 경향이 있고, 또 실제로는 값이 비싼 차인데 0원으로 봐버리는 경우가 꽤 있음."
      ],
      "execution_count": 93,
      "outputs": [
        {
          "output_type": "execute_result",
          "data": {
            "text/plain": [
              "[<matplotlib.lines.Line2D at 0x7ff90cf82710>]"
            ]
          },
          "metadata": {
            "tags": []
          },
          "execution_count": 93
        },
        {
          "output_type": "display_data",
          "data": {
            "image/png": "[encoded data removed]",
            "text/plain": [
              "<Figure size 432x288 with 1 Axes>"
            ]
          },
          "metadata": {
            "tags": [],
            "needs_background": "light"
          }
        }
      ]
    },
    {
      "cell_type": "code",
      "metadata": {
        "colab": {
          "base_uri": "https://localhost:8080/",
          "height": 297
        },
        "id": "fXPBsrEJS9nl",
        "outputId": "88bb00d1-e076-4571-e943-af7257c21c90"
      },
      "source": [
        "sns.histplot(x=y_test, y=pred)\n",
        "plt.plot([0, 60000], [0, 60000], 'r-')"
      ],
      "execution_count": 94,
      "outputs": [
        {
          "output_type": "execute_result",
          "data": {
            "text/plain": [
              "[<matplotlib.lines.Line2D at 0x7ff90d9e5b90>]"
            ]
          },
          "metadata": {
            "tags": []
          },
          "execution_count": 94
        },
        {
          "output_type": "display_data",
          "data": {
            "image/png": "[encoded data removed]",
            "text/plain": [
              "<Figure size 432x288 with 1 Axes>"
            ]
          },
          "metadata": {
            "tags": [],
            "needs_background": "light"
          }
        }
      ]
    },
    {
      "cell_type": "markdown",
      "metadata": {
        "id": "kAisZoSEtp35"
      },
      "source": [
        "### 17. 에러 값의 히스토그램 확인하기\n"
      ]
    },
    {
      "cell_type": "code",
      "metadata": {
        "id": "WLnyYNJwGRgd",
        "colab": {
          "base_uri": "https://localhost:8080/",
          "height": 279
        },
        "outputId": "8bf56505-26ca-4ac5-a05b-a35982a51bd5"
      },
      "source": [
        "# err의 히스토그램으로 에러율 히스토그램 확인하기\n",
        "err = (pred - y_test) / y_test * 100\n",
        "sns.histplot(err)\n",
        "plt.xlabel('error (%)')\n",
        "plt.xlim(-100, 100)#-100에서 100사이만 잘라서 본거임.\n",
        "plt.grid()\n",
        "#0기준으로 봤을때 음수쪽으로 좀 치우쳐져 있으니 값을 과소평가하고있음. 그리고 양수쪽은 꼬리가 두꺼운거 보니 에러율이 꽤 높음."
      ],
      "execution_count": 95,
      "outputs": [
        {
          "output_type": "display_data",
          "data": {
            "image/png": "[encoded data removed]",
            "text/plain": [
              "<Figure size 432x288 with 1 Axes>"
            ]
          },
          "metadata": {
            "tags": [],
            "needs_background": "light"
          }
        }
      ]
    },
    {
      "cell_type": "code",
      "metadata": {
        "colab": {
          "base_uri": "https://localhost:8080/",
          "height": 279
        },
        "id": "qKH2Bd-ATFIA",
        "outputId": "bc50c035-59b9-4cc1-f505-51bb7373fbab"
      },
      "source": [
        "err = (pred - y_test)#이건 %아니고 절대값으로만 볼때임.\n",
        "sns.histplot(err)\n",
        "plt.xlabel('error ($)')\n",
        "plt.grid()"
      ],
      "execution_count": 97,
      "outputs": [
        {
          "output_type": "display_data",
          "data": {
            "image/png": "[encoded data removed]",
            "text/plain": [
              "<Figure size 432x288 with 1 Axes>"
            ]
          },
          "metadata": {
            "tags": [],
            "needs_background": "light"
          }
        }
      ]
    }
  ]
}